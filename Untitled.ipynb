{
 "cells": [
  {
   "cell_type": "code",
   "execution_count": 1,
   "id": "9fcc4951",
   "metadata": {},
   "outputs": [
    {
     "name": "stdout",
     "output_type": "stream",
     "text": [
      "AUTHORS.rst             \u001b[34mchromosome_segregation\u001b[m\u001b[m/ \u001b[34mresults_saw\u001b[m\u001b[m/\r\n",
      "CONTRIBUTING.rst        \u001b[34mdocs\u001b[m\u001b[m/                   setup.cfg\r\n",
      "HISTORY.rst             grow_caches.npy         setup.py\r\n",
      "LICENSE                 grow_caches.txt.gz      tabulate.ipynb\r\n",
      "MANIFEST.in             grow_caches7.txt.gz     \u001b[34mtests\u001b[m\u001b[m/\r\n",
      "Makefile                \u001b[34mpics\u001b[m\u001b[m/                   thickness.png\r\n",
      "README.rst              requirements.txt        tox.ini\r\n",
      "Untitled.ipynb          requirements_dev.txt    \u001b[34mvenv\u001b[m\u001b[m/\r\n"
     ]
    }
   ],
   "source": [
    "%ls"
   ]
  },
  {
   "cell_type": "code",
   "execution_count": 2,
   "id": "c9a1c523",
   "metadata": {},
   "outputs": [],
   "source": [
    "import numpy  as np\n",
    "import matplotlib.pyplot as plt\n",
    "from statistics import Counter\n",
    "\n",
    "import os"
   ]
  },
  {
   "cell_type": "code",
   "execution_count": 3,
   "id": "313e1b55",
   "metadata": {},
   "outputs": [],
   "source": [
    "%load_ext autoreload\n",
    "%autoreload 2"
   ]
  },
  {
   "cell_type": "code",
   "execution_count": 4,
   "id": "acc73db2",
   "metadata": {},
   "outputs": [],
   "source": [
    "from chromosome_segregation.simulation import  URW_saw\n",
    "from chromosome_segregation.aux import cache_n_conf\n",
    "from chromosome_segregation import consts\n",
    "from chromosome_segregation import overlaps"
   ]
  },
  {
   "cell_type": "code",
   "execution_count": null,
   "id": "176ce7de",
   "metadata": {},
   "outputs": [],
   "source": []
  },
  {
   "cell_type": "code",
   "execution_count": 5,
   "id": "864ffaff",
   "metadata": {
    "scrolled": true
   },
   "outputs": [],
   "source": [
    "# %time consts.caches = cache_n_conf(N_=200, dx=20, dy=20 , dz=20)\n"
   ]
  },
  {
   "cell_type": "code",
   "execution_count": 6,
   "id": "f7737756",
   "metadata": {
    "scrolled": true
   },
   "outputs": [
    {
     "name": "stdout",
     "output_type": "stream",
     "text": [
      "current 0 out of 25\n",
      "current 1 out of 25\n",
      "current 2 out of 25\n",
      "current 3 out of 25\n",
      "current 4 out of 25\n",
      "current 5 out of 25\n",
      "current 6 out of 25\n",
      "current 7 out of 25\n",
      "current 8 out of 25\n",
      "current 9 out of 25\n",
      "current 10 out of 25\n",
      "current 11 out of 25\n",
      "current 12 out of 25\n",
      "current 13 out of 25\n",
      "current 14 out of 25\n",
      "current 15 out of 25\n",
      "current 16 out of 25\n",
      "current 17 out of 25\n",
      "current 18 out of 25\n",
      "current 19 out of 25\n",
      "current 20 out of 25\n",
      "current 21 out of 25\n",
      "current 22 out of 25\n",
      "current 23 out of 25\n",
      "current 24 out of 25\n",
      "         16142 function calls in 0.078 seconds\n",
      "\n",
      "   Ordered by: cumulative time\n",
      "\n",
      "   ncalls  tottime  percall  cumtime  percall filename:lineno(function)\n",
      "        2    0.000    0.000    0.078    0.039 interactiveshell.py:3362(run_code)\n",
      "        2    0.000    0.000    0.078    0.039 {built-in method builtins.exec}\n",
      "        1    0.000    0.000    0.078    0.078 665724938.py:5(<cell line: 5>)\n",
      "        1    0.002    0.002    0.078    0.078 aux.py:433(cache_n_conf)\n",
      "     3125    0.074    0.000    0.075    0.000 aux.py:404(n_conf_large)\n",
      "     9375    0.001    0.000    0.001    0.000 {built-in method builtins.abs}\n",
      "       25    0.000    0.000    0.000    0.000 {built-in method builtins.print}\n",
      "       50    0.000    0.000    0.000    0.000 iostream.py:518(write)\n",
      "     3125    0.000    0.000    0.000    0.000 {method 'append' of 'list' objects}\n",
      "        1    0.000    0.000    0.000    0.000 {built-in method numpy.array}\n",
      "        1    0.000    0.000    0.000    0.000 aux.py:394(cache_ln_factorial)\n",
      "        1    0.000    0.000    0.000    0.000 aux.py:402(<listcomp>)\n",
      "       26    0.000    0.000    0.000    0.000 aux.py:386(ln_fact)\n",
      "       50    0.000    0.000    0.000    0.000 iostream.py:429(_is_master_process)\n",
      "        2    0.000    0.000    0.000    0.000 codeop.py:142(__call__)\n",
      "       50    0.000    0.000    0.000    0.000 iostream.py:448(_schedule_flush)\n",
      "        2    0.000    0.000    0.000    0.000 {built-in method builtins.compile}\n",
      "        1    0.000    0.000    0.000    0.000 iostream.py:202(schedule)\n",
      "        1    0.000    0.000    0.000    0.000 socket.py:543(send)\n",
      "        2    0.000    0.000    0.000    0.000 interactiveshell.py:3215(_update_code_co_name)\n",
      "        6    0.000    0.000    0.000    0.000 {built-in method builtins.next}\n",
      "       50    0.000    0.000    0.000    0.000 {method 'write' of '_io.StringIO' objects}\n",
      "       50    0.000    0.000    0.000    0.000 {method '__exit__' of '_thread.RLock' objects}\n",
      "       50    0.000    0.000    0.000    0.000 {built-in method posix.getpid}\n",
      "        2    0.000    0.000    0.000    0.000 contextlib.py:261(helper)\n",
      "       52    0.000    0.000    0.000    0.000 {built-in method builtins.len}\n",
      "       50    0.000    0.000    0.000    0.000 {built-in method builtins.isinstance}\n",
      "        4    0.000    0.000    0.000    0.000 dis.py:449(findlinestarts)\n",
      "        2    0.000    0.000    0.000    0.000 contextlib.py:86(__init__)\n",
      "        1    0.000    0.000    0.000    0.000 threading.py:1126(is_alive)\n",
      "        2    0.000    0.000    0.000    0.000 contextlib.py:114(__enter__)\n",
      "        2    0.000    0.000    0.000    0.000 contextlib.py:123(__exit__)\n",
      "        2    0.000    0.000    0.000    0.000 traitlets.py:675(__get__)\n",
      "        4    0.000    0.000    0.000    0.000 compilerop.py:174(extra_flags)\n",
      "        1    0.000    0.000    0.000    0.000 {method 'reshape' of 'numpy.ndarray' objects}\n",
      "        1    0.000    0.000    0.000    0.000 665724938.py:6(<cell line: 6>)\n",
      "        1    0.000    0.000    0.000    0.000 threading.py:1059(_wait_for_tstate_lock)\n",
      "        4    0.000    0.000    0.000    0.000 {built-in method builtins.getattr}\n",
      "        2    0.000    0.000    0.000    0.000 {method 'replace' of 'code' objects}\n",
      "        2    0.000    0.000    0.000    0.000 traitlets.py:643(get)\n",
      "        1    0.000    0.000    0.000    0.000 iostream.py:90(_event_pipe)\n",
      "        2    0.000    0.000    0.000    0.000 interactiveshell.py:3313(compare)\n",
      "        2    0.000    0.000    0.000    0.000 {built-in method builtins.hasattr}\n",
      "        2    0.000    0.000    0.000    0.000 interactiveshell.py:1192(user_global_ns)\n",
      "        1    0.000    0.000    0.000    0.000 {method 'acquire' of '_thread.lock' objects}\n",
      "        1    0.000    0.000    0.000    0.000 threading.py:529(is_set)\n",
      "        1    0.000    0.000    0.000    0.000 {method 'disable' of '_lsprof.Profiler' objects}\n",
      "        1    0.000    0.000    0.000    0.000 {method 'append' of 'collections.deque' objects}\n",
      "\n",
      "\n"
     ]
    }
   ],
   "source": [
    "import cProfile\n",
    "\n",
    "pr = cProfile.Profile()\n",
    "pr.enable()\n",
    "d = cache_n_conf(N_=25, dx=5, dy=5 , dz=5)\n",
    "pr.disable()\n",
    "pr.print_stats(sort=\"cumtime\")"
   ]
  },
  {
   "cell_type": "code",
   "execution_count": 7,
   "id": "4bae1adb",
   "metadata": {},
   "outputs": [
    {
     "data": {
      "text/plain": [
       "array([[[[0.00000000e+00, 1.00000000e+00, 0.00000000e+00,\n",
       "          0.00000000e+00, 0.00000000e+00],\n",
       "         [1.00000000e+00, 0.00000000e+00, 0.00000000e+00,\n",
       "          0.00000000e+00, 0.00000000e+00],\n",
       "         [0.00000000e+00, 0.00000000e+00, 0.00000000e+00,\n",
       "          0.00000000e+00, 0.00000000e+00],\n",
       "         [0.00000000e+00, 0.00000000e+00, 0.00000000e+00,\n",
       "          0.00000000e+00, 0.00000000e+00],\n",
       "         [0.00000000e+00, 0.00000000e+00, 0.00000000e+00,\n",
       "          0.00000000e+00, 0.00000000e+00]],\n",
       "\n",
       "        [[1.00000000e+00, 0.00000000e+00, 0.00000000e+00,\n",
       "          0.00000000e+00, 0.00000000e+00],\n",
       "         [0.00000000e+00, 0.00000000e+00, 0.00000000e+00,\n",
       "          0.00000000e+00, 0.00000000e+00],\n",
       "         [0.00000000e+00, 0.00000000e+00, 0.00000000e+00,\n",
       "          0.00000000e+00, 0.00000000e+00],\n",
       "         [0.00000000e+00, 0.00000000e+00, 0.00000000e+00,\n",
       "          0.00000000e+00, 0.00000000e+00],\n",
       "         [0.00000000e+00, 0.00000000e+00, 0.00000000e+00,\n",
       "          0.00000000e+00, 0.00000000e+00]],\n",
       "\n",
       "        [[0.00000000e+00, 0.00000000e+00, 0.00000000e+00,\n",
       "          0.00000000e+00, 0.00000000e+00],\n",
       "         [0.00000000e+00, 0.00000000e+00, 0.00000000e+00,\n",
       "          0.00000000e+00, 0.00000000e+00],\n",
       "         [0.00000000e+00, 0.00000000e+00, 0.00000000e+00,\n",
       "          0.00000000e+00, 0.00000000e+00],\n",
       "         [0.00000000e+00, 0.00000000e+00, 0.00000000e+00,\n",
       "          0.00000000e+00, 0.00000000e+00],\n",
       "         [0.00000000e+00, 0.00000000e+00, 0.00000000e+00,\n",
       "          0.00000000e+00, 0.00000000e+00]],\n",
       "\n",
       "        [[0.00000000e+00, 0.00000000e+00, 0.00000000e+00,\n",
       "          0.00000000e+00, 0.00000000e+00],\n",
       "         [0.00000000e+00, 0.00000000e+00, 0.00000000e+00,\n",
       "          0.00000000e+00, 0.00000000e+00],\n",
       "         [0.00000000e+00, 0.00000000e+00, 0.00000000e+00,\n",
       "          0.00000000e+00, 0.00000000e+00],\n",
       "         [0.00000000e+00, 0.00000000e+00, 0.00000000e+00,\n",
       "          0.00000000e+00, 0.00000000e+00],\n",
       "         [0.00000000e+00, 0.00000000e+00, 0.00000000e+00,\n",
       "          0.00000000e+00, 0.00000000e+00]],\n",
       "\n",
       "        [[0.00000000e+00, 0.00000000e+00, 0.00000000e+00,\n",
       "          0.00000000e+00, 0.00000000e+00],\n",
       "         [0.00000000e+00, 0.00000000e+00, 0.00000000e+00,\n",
       "          0.00000000e+00, 0.00000000e+00],\n",
       "         [0.00000000e+00, 0.00000000e+00, 0.00000000e+00,\n",
       "          0.00000000e+00, 0.00000000e+00],\n",
       "         [0.00000000e+00, 0.00000000e+00, 0.00000000e+00,\n",
       "          0.00000000e+00, 0.00000000e+00],\n",
       "         [0.00000000e+00, 0.00000000e+00, 0.00000000e+00,\n",
       "          0.00000000e+00, 0.00000000e+00]]],\n",
       "\n",
       "\n",
       "       [[[5.75701305e+00, 0.00000000e+00, 1.00000000e+00,\n",
       "          0.00000000e+00, 0.00000000e+00],\n",
       "         [0.00000000e+00, 1.91900435e+00, 0.00000000e+00,\n",
       "          0.00000000e+00, 0.00000000e+00],\n",
       "         [1.00000000e+00, 0.00000000e+00, 0.00000000e+00,\n",
       "          0.00000000e+00, 0.00000000e+00],\n",
       "         [0.00000000e+00, 0.00000000e+00, 0.00000000e+00,\n",
       "          0.00000000e+00, 0.00000000e+00],\n",
       "         [0.00000000e+00, 0.00000000e+00, 0.00000000e+00,\n",
       "          0.00000000e+00, 0.00000000e+00]],\n",
       "\n",
       "        [[0.00000000e+00, 1.91900435e+00, 0.00000000e+00,\n",
       "          0.00000000e+00, 0.00000000e+00],\n",
       "         [1.91900435e+00, 0.00000000e+00, 0.00000000e+00,\n",
       "          0.00000000e+00, 0.00000000e+00],\n",
       "         [0.00000000e+00, 0.00000000e+00, 0.00000000e+00,\n",
       "          0.00000000e+00, 0.00000000e+00],\n",
       "         [0.00000000e+00, 0.00000000e+00, 0.00000000e+00,\n",
       "          0.00000000e+00, 0.00000000e+00],\n",
       "         [0.00000000e+00, 0.00000000e+00, 0.00000000e+00,\n",
       "          0.00000000e+00, 0.00000000e+00]],\n",
       "\n",
       "        [[1.00000000e+00, 0.00000000e+00, 0.00000000e+00,\n",
       "          0.00000000e+00, 0.00000000e+00],\n",
       "         [0.00000000e+00, 0.00000000e+00, 0.00000000e+00,\n",
       "          0.00000000e+00, 0.00000000e+00],\n",
       "         [0.00000000e+00, 0.00000000e+00, 0.00000000e+00,\n",
       "          0.00000000e+00, 0.00000000e+00],\n",
       "         [0.00000000e+00, 0.00000000e+00, 0.00000000e+00,\n",
       "          0.00000000e+00, 0.00000000e+00],\n",
       "         [0.00000000e+00, 0.00000000e+00, 0.00000000e+00,\n",
       "          0.00000000e+00, 0.00000000e+00]],\n",
       "\n",
       "        [[0.00000000e+00, 0.00000000e+00, 0.00000000e+00,\n",
       "          0.00000000e+00, 0.00000000e+00],\n",
       "         [0.00000000e+00, 0.00000000e+00, 0.00000000e+00,\n",
       "          0.00000000e+00, 0.00000000e+00],\n",
       "         [0.00000000e+00, 0.00000000e+00, 0.00000000e+00,\n",
       "          0.00000000e+00, 0.00000000e+00],\n",
       "         [0.00000000e+00, 0.00000000e+00, 0.00000000e+00,\n",
       "          0.00000000e+00, 0.00000000e+00],\n",
       "         [0.00000000e+00, 0.00000000e+00, 0.00000000e+00,\n",
       "          0.00000000e+00, 0.00000000e+00]],\n",
       "\n",
       "        [[0.00000000e+00, 0.00000000e+00, 0.00000000e+00,\n",
       "          0.00000000e+00, 0.00000000e+00],\n",
       "         [0.00000000e+00, 0.00000000e+00, 0.00000000e+00,\n",
       "          0.00000000e+00, 0.00000000e+00],\n",
       "         [0.00000000e+00, 0.00000000e+00, 0.00000000e+00,\n",
       "          0.00000000e+00, 0.00000000e+00],\n",
       "         [0.00000000e+00, 0.00000000e+00, 0.00000000e+00,\n",
       "          0.00000000e+00, 0.00000000e+00],\n",
       "         [0.00000000e+00, 0.00000000e+00, 0.00000000e+00,\n",
       "          0.00000000e+00, 0.00000000e+00]]],\n",
       "\n",
       "\n",
       "       [[[0.00000000e+00, 1.47136888e+01, 0.00000000e+00,\n",
       "          1.00000000e+00, 0.00000000e+00],\n",
       "         [1.47136888e+01, 0.00000000e+00, 3.04126960e+00,\n",
       "          0.00000000e+00, 0.00000000e+00],\n",
       "         [0.00000000e+00, 3.04126960e+00, 0.00000000e+00,\n",
       "          0.00000000e+00, 0.00000000e+00],\n",
       "         [1.00000000e+00, 0.00000000e+00, 0.00000000e+00,\n",
       "          0.00000000e+00, 0.00000000e+00],\n",
       "         [0.00000000e+00, 0.00000000e+00, 0.00000000e+00,\n",
       "          0.00000000e+00, 0.00000000e+00]],\n",
       "\n",
       "        [[1.47136888e+01, 0.00000000e+00, 3.04126960e+00,\n",
       "          0.00000000e+00, 0.00000000e+00],\n",
       "         [0.00000000e+00, 5.83620959e+00, 0.00000000e+00,\n",
       "          0.00000000e+00, 0.00000000e+00],\n",
       "         [3.04126960e+00, 0.00000000e+00, 0.00000000e+00,\n",
       "          0.00000000e+00, 0.00000000e+00],\n",
       "         [0.00000000e+00, 0.00000000e+00, 0.00000000e+00,\n",
       "          0.00000000e+00, 0.00000000e+00],\n",
       "         [0.00000000e+00, 0.00000000e+00, 0.00000000e+00,\n",
       "          0.00000000e+00, 0.00000000e+00]],\n",
       "\n",
       "        [[0.00000000e+00, 3.04126960e+00, 0.00000000e+00,\n",
       "          0.00000000e+00, 0.00000000e+00],\n",
       "         [3.04126960e+00, 0.00000000e+00, 0.00000000e+00,\n",
       "          0.00000000e+00, 0.00000000e+00],\n",
       "         [0.00000000e+00, 0.00000000e+00, 0.00000000e+00,\n",
       "          0.00000000e+00, 0.00000000e+00],\n",
       "         [0.00000000e+00, 0.00000000e+00, 0.00000000e+00,\n",
       "          0.00000000e+00, 0.00000000e+00],\n",
       "         [0.00000000e+00, 0.00000000e+00, 0.00000000e+00,\n",
       "          0.00000000e+00, 0.00000000e+00]],\n",
       "\n",
       "        [[1.00000000e+00, 0.00000000e+00, 0.00000000e+00,\n",
       "          0.00000000e+00, 0.00000000e+00],\n",
       "         [0.00000000e+00, 0.00000000e+00, 0.00000000e+00,\n",
       "          0.00000000e+00, 0.00000000e+00],\n",
       "         [0.00000000e+00, 0.00000000e+00, 0.00000000e+00,\n",
       "          0.00000000e+00, 0.00000000e+00],\n",
       "         [0.00000000e+00, 0.00000000e+00, 0.00000000e+00,\n",
       "          0.00000000e+00, 0.00000000e+00],\n",
       "         [0.00000000e+00, 0.00000000e+00, 0.00000000e+00,\n",
       "          0.00000000e+00, 0.00000000e+00]],\n",
       "\n",
       "        [[0.00000000e+00, 0.00000000e+00, 0.00000000e+00,\n",
       "          0.00000000e+00, 0.00000000e+00],\n",
       "         [0.00000000e+00, 0.00000000e+00, 0.00000000e+00,\n",
       "          0.00000000e+00, 0.00000000e+00],\n",
       "         [0.00000000e+00, 0.00000000e+00, 0.00000000e+00,\n",
       "          0.00000000e+00, 0.00000000e+00],\n",
       "         [0.00000000e+00, 0.00000000e+00, 0.00000000e+00,\n",
       "          0.00000000e+00, 0.00000000e+00],\n",
       "         [0.00000000e+00, 0.00000000e+00, 0.00000000e+00,\n",
       "          0.00000000e+00, 0.00000000e+00]]],\n",
       "\n",
       "\n",
       "       ...,\n",
       "\n",
       "\n",
       "       [[[0.00000000e+00, 4.91827635e+15, 0.00000000e+00,\n",
       "          2.97688359e+15, 0.00000000e+00],\n",
       "         [4.91827635e+15, 0.00000000e+00, 3.82260722e+15,\n",
       "          0.00000000e+00, 1.79711494e+15],\n",
       "         [0.00000000e+00, 3.82260722e+15, 0.00000000e+00,\n",
       "          2.29964727e+15, 0.00000000e+00],\n",
       "         [2.97688359e+15, 0.00000000e+00, 2.29964727e+15,\n",
       "          0.00000000e+00, 1.06157070e+15],\n",
       "         [0.00000000e+00, 1.79711494e+15, 0.00000000e+00,\n",
       "          1.06157070e+15, 0.00000000e+00]],\n",
       "\n",
       "        [[4.91827635e+15, 0.00000000e+00, 3.82260722e+15,\n",
       "          0.00000000e+00, 1.79711494e+15],\n",
       "         [0.00000000e+00, 4.33463747e+15, 0.00000000e+00,\n",
       "          2.61554665e+15, 0.00000000e+00],\n",
       "         [3.82260722e+15, 0.00000000e+00, 2.96184654e+15,\n",
       "          0.00000000e+00, 1.37956043e+15],\n",
       "         [0.00000000e+00, 2.61554665e+15, 0.00000000e+00,\n",
       "          1.55891813e+15, 0.00000000e+00],\n",
       "         [1.79711494e+15, 0.00000000e+00, 1.37956043e+15,\n",
       "          0.00000000e+00, 6.24985216e+14]],\n",
       "\n",
       "        [[0.00000000e+00, 3.82260722e+15, 0.00000000e+00,\n",
       "          2.29964727e+15, 0.00000000e+00],\n",
       "         [3.82260722e+15, 0.00000000e+00, 2.96184654e+15,\n",
       "          0.00000000e+00, 1.37956043e+15],\n",
       "         [0.00000000e+00, 2.96184654e+15, 0.00000000e+00,\n",
       "          1.77041810e+15, 0.00000000e+00],\n",
       "         [2.29964727e+15, 0.00000000e+00, 1.77041810e+15,\n",
       "          0.00000000e+00, 8.08903164e+14],\n",
       "         [0.00000000e+00, 1.37956043e+15, 0.00000000e+00,\n",
       "          8.08903164e+14, 0.00000000e+00]],\n",
       "\n",
       "        [[2.97688359e+15, 0.00000000e+00, 2.29964727e+15,\n",
       "          0.00000000e+00, 1.06157070e+15],\n",
       "         [0.00000000e+00, 2.61554665e+15, 0.00000000e+00,\n",
       "          1.55891813e+15, 0.00000000e+00],\n",
       "         [2.29964727e+15, 0.00000000e+00, 1.77041810e+15,\n",
       "          0.00000000e+00, 8.08903164e+14],\n",
       "         [0.00000000e+00, 1.55891813e+15, 0.00000000e+00,\n",
       "          9.16585299e+14, 0.00000000e+00],\n",
       "         [1.06157070e+15, 0.00000000e+00, 8.08903164e+14,\n",
       "          0.00000000e+00, 3.58405411e+14]],\n",
       "\n",
       "        [[0.00000000e+00, 1.79711494e+15, 0.00000000e+00,\n",
       "          1.06157070e+15, 0.00000000e+00],\n",
       "         [1.79711494e+15, 0.00000000e+00, 1.37956043e+15,\n",
       "          0.00000000e+00, 6.24985216e+14],\n",
       "         [0.00000000e+00, 1.37956043e+15, 0.00000000e+00,\n",
       "          8.08903164e+14, 0.00000000e+00],\n",
       "         [1.06157070e+15, 0.00000000e+00, 8.08903164e+14,\n",
       "          0.00000000e+00, 3.58405411e+14],\n",
       "         [0.00000000e+00, 6.24985216e+14, 0.00000000e+00,\n",
       "          3.58405411e+14, 0.00000000e+00]]],\n",
       "\n",
       "\n",
       "       [[[2.93771397e+16, 0.00000000e+00, 2.30943869e+16,\n",
       "          0.00000000e+00, 1.12254310e+16],\n",
       "         [0.00000000e+00, 2.60411446e+16, 0.00000000e+00,\n",
       "          1.60748886e+16, 0.00000000e+00],\n",
       "         [2.30943869e+16, 0.00000000e+00, 1.81072010e+16,\n",
       "          0.00000000e+00, 8.73114177e+15],\n",
       "         [0.00000000e+00, 1.60748886e+16, 0.00000000e+00,\n",
       "          9.81810916e+15, 0.00000000e+00],\n",
       "         [1.12254310e+16, 0.00000000e+00, 8.73114177e+15,\n",
       "          0.00000000e+00, 4.11017273e+15]],\n",
       "\n",
       "        [[0.00000000e+00, 2.60411446e+16, 0.00000000e+00,\n",
       "          1.60748886e+16, 0.00000000e+00],\n",
       "         [2.60411446e+16, 0.00000000e+00, 2.04444820e+16,\n",
       "          0.00000000e+00, 9.89729457e+15],\n",
       "         [0.00000000e+00, 2.04444820e+16, 0.00000000e+00,\n",
       "          1.25525054e+16, 0.00000000e+00],\n",
       "         [1.60748886e+16, 0.00000000e+00, 1.25525054e+16,\n",
       "          0.00000000e+00, 5.97921720e+15],\n",
       "         [0.00000000e+00, 9.89729457e+15, 0.00000000e+00,\n",
       "          5.97921720e+15, 0.00000000e+00]],\n",
       "\n",
       "        [[2.30943869e+16, 0.00000000e+00, 1.81072010e+16,\n",
       "          0.00000000e+00, 8.73114177e+15],\n",
       "         [0.00000000e+00, 2.04444820e+16, 0.00000000e+00,\n",
       "          1.25525054e+16, 0.00000000e+00],\n",
       "         [1.81072010e+16, 0.00000000e+00, 1.41575485e+16,\n",
       "          0.00000000e+00, 6.76952805e+15],\n",
       "         [0.00000000e+00, 1.25525054e+16, 0.00000000e+00,\n",
       "          7.62167563e+15, 0.00000000e+00],\n",
       "         [8.73114177e+15, 0.00000000e+00, 6.76952805e+15,\n",
       "          0.00000000e+00, 3.15625623e+15]],\n",
       "\n",
       "        [[0.00000000e+00, 1.60748886e+16, 0.00000000e+00,\n",
       "          9.81810916e+15, 0.00000000e+00],\n",
       "         [1.60748886e+16, 0.00000000e+00, 1.25525054e+16,\n",
       "          0.00000000e+00, 5.97921720e+15],\n",
       "         [0.00000000e+00, 1.25525054e+16, 0.00000000e+00,\n",
       "          7.62167563e+15, 0.00000000e+00],\n",
       "         [9.81810916e+15, 0.00000000e+00, 7.62167563e+15,\n",
       "          0.00000000e+00, 3.56654834e+15],\n",
       "         [0.00000000e+00, 5.97921720e+15, 0.00000000e+00,\n",
       "          3.56654834e+15, 0.00000000e+00]],\n",
       "\n",
       "        [[1.12254310e+16, 0.00000000e+00, 8.73114177e+15,\n",
       "          0.00000000e+00, 4.11017273e+15],\n",
       "         [0.00000000e+00, 9.89729457e+15, 0.00000000e+00,\n",
       "          5.97921720e+15, 0.00000000e+00],\n",
       "         [8.73114177e+15, 0.00000000e+00, 6.76952805e+15,\n",
       "          0.00000000e+00, 3.15625623e+15],\n",
       "         [0.00000000e+00, 5.97921720e+15, 0.00000000e+00,\n",
       "          3.56654834e+15, 0.00000000e+00],\n",
       "         [4.11017273e+15, 0.00000000e+00, 3.15625623e+15,\n",
       "          0.00000000e+00, 1.42969778e+15]]],\n",
       "\n",
       "\n",
       "       [[[0.00000000e+00, 1.55943312e+17, 0.00000000e+00,\n",
       "          9.82657236e+16, 0.00000000e+00],\n",
       "         [1.55943312e+17, 0.00000000e+00, 1.23719249e+17,\n",
       "          0.00000000e+00, 6.17711502e+16],\n",
       "         [0.00000000e+00, 1.23719249e+17, 0.00000000e+00,\n",
       "          7.75990826e+16, 0.00000000e+00],\n",
       "         [9.82657236e+16, 0.00000000e+00, 7.75990826e+16,\n",
       "          0.00000000e+00, 3.82039761e+16],\n",
       "         [0.00000000e+00, 6.17711502e+16, 0.00000000e+00,\n",
       "          3.82039761e+16, 0.00000000e+00]],\n",
       "\n",
       "        [[1.55943312e+17, 0.00000000e+00, 1.23719249e+17,\n",
       "          0.00000000e+00, 6.17711502e+16],\n",
       "         [0.00000000e+00, 1.38876454e+17, 0.00000000e+00,\n",
       "          8.73069979e+16, 0.00000000e+00],\n",
       "         [1.23719249e+17, 0.00000000e+00, 9.79244668e+16,\n",
       "          0.00000000e+00, 4.85465513e+16],\n",
       "         [0.00000000e+00, 8.73069979e+16, 0.00000000e+00,\n",
       "          5.43731775e+16, 0.00000000e+00],\n",
       "         [6.17711502e+16, 0.00000000e+00, 4.85465513e+16,\n",
       "          0.00000000e+00, 2.35576343e+16]],\n",
       "\n",
       "        [[0.00000000e+00, 1.23719249e+17, 0.00000000e+00,\n",
       "          7.75990826e+16, 0.00000000e+00],\n",
       "         [1.23719249e+17, 0.00000000e+00, 9.79244668e+16,\n",
       "          0.00000000e+00, 4.85465513e+16],\n",
       "         [0.00000000e+00, 9.79244668e+16, 0.00000000e+00,\n",
       "          6.11229175e+16, 0.00000000e+00],\n",
       "         [7.75990826e+16, 0.00000000e+00, 6.11229175e+16,\n",
       "          0.00000000e+00, 2.98604419e+16],\n",
       "         [0.00000000e+00, 4.85465513e+16, 0.00000000e+00,\n",
       "          2.98604419e+16, 0.00000000e+00]],\n",
       "\n",
       "        [[9.82657236e+16, 0.00000000e+00, 7.75990826e+16,\n",
       "          0.00000000e+00, 3.82039761e+16],\n",
       "         [0.00000000e+00, 8.73069979e+16, 0.00000000e+00,\n",
       "          5.43731775e+16, 0.00000000e+00],\n",
       "         [7.75990826e+16, 0.00000000e+00, 6.11229175e+16,\n",
       "          0.00000000e+00, 2.98604419e+16],\n",
       "         [0.00000000e+00, 5.43731775e+16, 0.00000000e+00,\n",
       "          3.35173634e+16, 0.00000000e+00],\n",
       "         [3.82039761e+16, 0.00000000e+00, 2.98604419e+16,\n",
       "          0.00000000e+00, 1.42509581e+16]],\n",
       "\n",
       "        [[0.00000000e+00, 6.17711502e+16, 0.00000000e+00,\n",
       "          3.82039761e+16, 0.00000000e+00],\n",
       "         [6.17711502e+16, 0.00000000e+00, 4.85465513e+16,\n",
       "          0.00000000e+00, 2.35576343e+16],\n",
       "         [0.00000000e+00, 4.85465513e+16, 0.00000000e+00,\n",
       "          2.98604419e+16, 0.00000000e+00],\n",
       "         [3.82039761e+16, 0.00000000e+00, 2.98604419e+16,\n",
       "          0.00000000e+00, 1.42509581e+16],\n",
       "         [0.00000000e+00, 2.35576343e+16, 0.00000000e+00,\n",
       "          1.42509581e+16, 0.00000000e+00]]]])"
      ]
     },
     "execution_count": 7,
     "metadata": {},
     "output_type": "execute_result"
    }
   ],
   "source": [
    "d"
   ]
  },
  {
   "cell_type": "code",
   "execution_count": 8,
   "id": "8a4faeb2",
   "metadata": {},
   "outputs": [
    {
     "name": "stdout",
     "output_type": "stream",
     "text": [
      "-rw-r--r--  1 alexey  staff    25K Jul  5 09:52 grow_caches.npy\r\n"
     ]
    }
   ],
   "source": [
    "np.save('grow_caches', d)\n",
    "%ls  -lah grow_caches.npy"
   ]
  },
  {
   "cell_type": "code",
   "execution_count": 9,
   "id": "a4a3208a",
   "metadata": {},
   "outputs": [],
   "source": [
    "import gzip"
   ]
  },
  {
   "cell_type": "code",
   "execution_count": 10,
   "id": "c7e728a0",
   "metadata": {
    "scrolled": true
   },
   "outputs": [],
   "source": [
    "fname='grow_caches7.txt.gz'\n",
    "\n",
    "def get_grow_caches(fname, params):\n",
    "    if os.path.isfile(fname):\n",
    "        with gzip.open(fname) as  f:\n",
    "            header = f.readline().decode(\"utf-8\")[2:-1]\n",
    "#             print('raw header', header)\n",
    "            header = tuple([int(el) for el in header.split(',')])\n",
    "#             print('header', header)\n",
    "        d = np.loadtxt(fname)\n",
    "#         d = np.load(fname)\n",
    "        try:\n",
    "            d = d.reshape(header)\n",
    "#             print(d.shape, 'fff')\n",
    "\n",
    "        except: pass\n",
    "        if d.shape < params:\n",
    "#             print(params)\n",
    "            d = cache_n_conf(*params)\n",
    "            np.savetxt(fname, d.ravel(), header=','.join([str(el) for el in d.shape]))\n",
    "#             np.save(fname, d)\n",
    "    else:\n",
    "        d = cache_n_conf(*params)\n",
    "#         print(d.shape)\n",
    "        np.savetxt(fname, d.ravel(), header=','.join([str(el) for el in d.shape]))\n",
    "#         np.save(fname, d)\n",
    "\n",
    "\n",
    "    return d"
   ]
  },
  {
   "cell_type": "code",
   "execution_count": 11,
   "id": "7a2263ae",
   "metadata": {},
   "outputs": [
    {
     "data": {
      "text/plain": [
       "[(1, 2, 3, 0.5)]"
      ]
     },
     "execution_count": 11,
     "metadata": {},
     "output_type": "execute_result"
    }
   ],
   "source": [
    "# ','.join([str(el) for el in (1,2,3)])\n",
    "l = []\n",
    "l.append((*[1,2,3], .5))\n",
    "l"
   ]
  },
  {
   "cell_type": "code",
   "execution_count": 12,
   "id": "18cc549e",
   "metadata": {},
   "outputs": [
    {
     "name": "stdout",
     "output_type": "stream",
     "text": [
      "-rw-r--r--  1 alexey  staff    25K Jul  5 09:52 grow_caches.npy\r\n",
      "-rw-r--r--  1 alexey  staff   4.5M Jul  1 15:27 grow_caches.txt.gz\r\n",
      "-rw-r--r--  1 alexey  staff   133K Jul  5 09:46 grow_caches7.txt.gz\r\n"
     ]
    }
   ],
   "source": [
    "%ls -lah grow_caches*"
   ]
  },
  {
   "cell_type": "code",
   "execution_count": 13,
   "id": "363965eb",
   "metadata": {
    "scrolled": true
   },
   "outputs": [
    {
     "data": {
      "text/plain": [
       "(52, 10, 10, 10)"
      ]
     },
     "execution_count": 13,
     "metadata": {},
     "output_type": "execute_result"
    }
   ],
   "source": [
    "dd = get_grow_caches(fname=fname, params=(52, 10,10,10))\n",
    "dd.shape"
   ]
  },
  {
   "cell_type": "code",
   "execution_count": 14,
   "id": "eaab0448",
   "metadata": {},
   "outputs": [],
   "source": [
    "# %time tttt = cache_n_conf(N_=40, dx=20, dy=20 , dz=20)\n"
   ]
  },
  {
   "cell_type": "code",
   "execution_count": 15,
   "id": "ad79413e",
   "metadata": {},
   "outputs": [
    {
     "ename": "NameError",
     "evalue": "name 'tttt' is not defined",
     "output_type": "error",
     "traceback": [
      "\u001b[0;31m---------------------------------------------------------------------------\u001b[0m",
      "\u001b[0;31mNameError\u001b[0m                                 Traceback (most recent call last)",
      "Input \u001b[0;32mIn [15]\u001b[0m, in \u001b[0;36m<cell line: 1>\u001b[0;34m()\u001b[0m\n\u001b[0;32m----> 1\u001b[0m np\u001b[38;5;241m.\u001b[39marray_equal(consts\u001b[38;5;241m.\u001b[39mcaches,\u001b[43mtttt\u001b[49m)\n",
      "\u001b[0;31mNameError\u001b[0m: name 'tttt' is not defined"
     ]
    }
   ],
   "source": [
    "# np.array_equal(consts.caches,tttt)"
   ]
  },
  {
   "cell_type": "code",
   "execution_count": 16,
   "id": "d4b2c568",
   "metadata": {},
   "outputs": [
    {
     "data": {
      "text/plain": [
       "(13191.419937940731, 13191.419937940731)"
      ]
     },
     "execution_count": 16,
     "metadata": {},
     "output_type": "execute_result"
    }
   ],
   "source": [
    "import math\n",
    "math.log(math.factorial(2000)//math.factorial(10)), math.log(math.factorial(2000)) - math.log(math.factorial(10))"
   ]
  },
  {
   "cell_type": "code",
   "execution_count": 17,
   "id": "a70d6bd7",
   "metadata": {},
   "outputs": [],
   "source": [
    "# math.factorial(200)//math.factorial(10), int(math.factorial(200)/math.factorial(10))"
   ]
  },
  {
   "cell_type": "code",
   "execution_count": 18,
   "id": "0118a979",
   "metadata": {
    "scrolled": true
   },
   "outputs": [
    {
     "name": "stdout",
     "output_type": "stream",
     "text": [
      "passed 1.0 %, failed to grow: 33.6%\n",
      "-8.0 7.0 8.0\n",
      "-8.0 8.0 8.0\n",
      "-7.0 9.0 9.0\n",
      "finished estimating limits: 8.0 8.0 9.0\n"
     ]
    }
   ],
   "source": [
    "GROW_CACHES_FOLDER = os.path.join(os.path.dirname(consts.__file__), 'grow_caches.txt.gz')\n",
    "consts.caches = get_grow_caches(fname = GROW_CACHES_FOLDER ,\n",
    "                params=(50, 25,25,25))\n",
    "results = []\n",
    "box = (2,2,3)\n",
    "for i in range(1):\n",
    "    boxes = URW_saw(40, 100000, box=box)\n",
    "    results.append(boxes)"
   ]
  },
  {
   "cell_type": "code",
   "execution_count": 19,
   "id": "dfbb6a8a",
   "metadata": {},
   "outputs": [],
   "source": [
    "def list_to_arr(boxes):\n",
    "#     items = Counter(boxes).items()\n",
    "#     keys = Counter(boxes).keys()\n",
    "    arr = np.zeros(30)\n",
    "    for item in Counter(boxes).items():\n",
    "#     print(item)\n",
    "        arr[item[0]] = item[1]\n",
    "    return arr/np.sum(arr)\n",
    "    "
   ]
  },
  {
   "cell_type": "code",
   "execution_count": 20,
   "id": "04322f5c",
   "metadata": {},
   "outputs": [
    {
     "data": {
      "text/plain": [
       "(1, 30)"
      ]
     },
     "execution_count": 20,
     "metadata": {},
     "output_type": "execute_result"
    }
   ],
   "source": [
    "lst_arr = []\n",
    "for result in results:\n",
    "    arr = list_to_arr(result)\n",
    "    lst_arr.append(arr)\n",
    "\n",
    "big_arr = np.array(lst_arr)\n",
    "big_arr.shape "
   ]
  },
  {
   "cell_type": "code",
   "execution_count": 21,
   "id": "3fd17ea2",
   "metadata": {},
   "outputs": [
    {
     "data": {
      "text/plain": [
       "(array([0.00000000e+00, 0.00000000e+00, 0.00000000e+00, 0.00000000e+00,\n",
       "        8.61424934e-03, 3.00827883e-01, 4.74957691e-01, 1.71766607e-01,\n",
       "        3.67134733e-02, 6.31203403e-03, 7.47076491e-04, 4.57393770e-05,\n",
       "        1.52464590e-05, 0.00000000e+00, 0.00000000e+00, 0.00000000e+00,\n",
       "        0.00000000e+00, 0.00000000e+00, 0.00000000e+00, 0.00000000e+00,\n",
       "        0.00000000e+00, 0.00000000e+00, 0.00000000e+00, 0.00000000e+00,\n",
       "        0.00000000e+00, 0.00000000e+00, 0.00000000e+00, 0.00000000e+00,\n",
       "        0.00000000e+00, 0.00000000e+00]),\n",
       " 0.0)"
      ]
     },
     "execution_count": 21,
     "metadata": {},
     "output_type": "execute_result"
    }
   ],
   "source": [
    "mean = np.mean(big_arr, axis=0)\n",
    "err = np.std(big_arr, axis=0)\n",
    "mean, mean[max(box)]"
   ]
  },
  {
   "cell_type": "code",
   "execution_count": 22,
   "id": "c021575f",
   "metadata": {},
   "outputs": [
    {
     "data": {
      "text/plain": [
       "[30]"
      ]
     },
     "execution_count": 22,
     "metadata": {},
     "output_type": "execute_result"
    }
   ],
   "source": [
    "[len(el) for el in lst_arr]"
   ]
  },
  {
   "cell_type": "code",
   "execution_count": 23,
   "id": "38d36d55",
   "metadata": {},
   "outputs": [
    {
     "data": {
      "text/plain": [
       "(0.0, 17.0)"
      ]
     },
     "execution_count": 23,
     "metadata": {},
     "output_type": "execute_result"
    },
    {
     "data": {
      "image/png": "[encoded data removed]",
      "text/plain": [
       "<Figure size 864x576 with 1 Axes>"
      ]
     },
     "metadata": {
      "needs_background": "light"
     },
     "output_type": "display_data"
    }
   ],
   "source": [
    "\n",
    "plt.figure(figsize=(12,8))\n",
    "plt.errorbar(range(len(mean)) ,mean , yerr=err, fmt=\".\", color='black', capsize=5, label='stdev')\n",
    "plt.bar(range(len(mean)), mean, hatch='.', alpha=0.2, edgecolor='black', label='fraction')\n",
    "plt.yscale('log')\n",
    "# plt.grid()\n",
    "plt.legend()\n",
    "plt.xlim(0,17)"
   ]
  },
  {
   "cell_type": "code",
   "execution_count": null,
   "id": "4327eb45",
   "metadata": {},
   "outputs": [],
   "source": []
  },
  {
   "cell_type": "code",
   "execution_count": 24,
   "id": "f4d62925",
   "metadata": {},
   "outputs": [
    {
     "name": "stdout",
     "output_type": "stream",
     "text": [
      "0.0\n",
      "0.0\n",
      "1.0\n",
      "1.0\n",
      "2.0\n",
      "2.0\n",
      "3.0\n",
      "3.0\n",
      "4.0\n",
      "4.0\n"
     ]
    }
   ],
   "source": [
    "dx=2\n",
    "for i in range(10):\n",
    "    print((i - i%dx)/dx)"
   ]
  },
  {
   "cell_type": "code",
   "execution_count": 27,
   "id": "3f6d375a",
   "metadata": {},
   "outputs": [],
   "source": [
    "# def get_cube_shell(a, delta, x,y,z):\n",
    "#     scale = 1\n",
    "#     while True:\n",
    "#         xr = range(-(a[0] + delta[0])*scale, (a[0]+delta[0])*scale)\n",
    "#         yr = range(-(a[1] + delta[1])*scale, (a[1]+delta[1])*scale)\n",
    "#         yr = range(-(a[2] + delta[2])*scale, (a[2]+delta[2])*scale)\n",
    "\n",
    "#         if (x in r) & (y in r) & (z in r):\n",
    "#             return scale\n",
    "#         scale +=1\n",
    "    "
   ]
  },
  {
   "cell_type": "code",
   "execution_count": 28,
   "id": "028943d4",
   "metadata": {},
   "outputs": [],
   "source": [
    "# get_cube_shell(a=[1,1,1], delta=2, x=-1, y=4, z=3)"
   ]
  },
  {
   "cell_type": "code",
   "execution_count": 29,
   "id": "d7c7b3b7",
   "metadata": {},
   "outputs": [],
   "source": [
    "def box(a,b,c):\n",
    "    return range(-a,a), range(-b,b), range(-c,c)"
   ]
  },
  {
   "cell_type": "code",
   "execution_count": 30,
   "id": "2a945c6a",
   "metadata": {},
   "outputs": [
    {
     "data": {
      "text/plain": [
       "(range(-1, 1), range(-2, 2), range(-3, 3))"
      ]
     },
     "execution_count": 30,
     "metadata": {},
     "output_type": "execute_result"
    }
   ],
   "source": [
    "box(1,2,3)"
   ]
  },
  {
   "cell_type": "code",
   "execution_count": 31,
   "id": "fb6a742a",
   "metadata": {},
   "outputs": [
    {
     "data": {
      "text/plain": [
       "(0.075, 0.15625, 0.4166666666666667, 0.25)"
      ]
     },
     "execution_count": 31,
     "metadata": {},
     "output_type": "execute_result"
    }
   ],
   "source": [
    "60/(5*5*4)/8, 60/(4*4*3)/8, 60/(3*3*2)/8, 60/(5*3*2)/8"
   ]
  },
  {
   "cell_type": "code",
   "execution_count": 32,
   "id": "be8f07cf",
   "metadata": {},
   "outputs": [
    {
     "data": {
      "text/plain": [
       "0.4166666666666667"
      ]
     },
     "execution_count": 32,
     "metadata": {},
     "output_type": "execute_result"
    }
   ],
   "source": [
    "40/(2*2*3)/8"
   ]
  },
  {
   "cell_type": "code",
   "execution_count": 38,
   "id": "c4f3acda",
   "metadata": {},
   "outputs": [],
   "source": [
    "\n",
    "def get_n(box):\n",
    "    t = density*box[0]*box[1]*box[2]*8\n",
    "    return  int(t - t%2)"
   ]
  },
  {
   "cell_type": "code",
   "execution_count": 39,
   "id": "2e301e1c",
   "metadata": {},
   "outputs": [],
   "source": [
    "def check_symmetry():\n",
    "    \"\"\"\n",
    "    the results for permutation of a triple should  be identical\n",
    "    \"\"\"\n",
    "    pass"
   ]
  },
  {
   "cell_type": "code",
   "execution_count": 40,
   "id": "b02c4844",
   "metadata": {},
   "outputs": [
    {
     "data": {
      "text/plain": [
       "86"
      ]
     },
     "execution_count": 40,
     "metadata": {},
     "output_type": "execute_result"
    }
   ],
   "source": [
    "get_n([4,3,3])"
   ]
  },
  {
   "cell_type": "code",
   "execution_count": 41,
   "id": "b46c3596",
   "metadata": {
    "scrolled": true
   },
   "outputs": [
    {
     "name": "stdout",
     "output_type": "stream",
     "text": [
      "boxes: [[4, 1, 1], [3, 1, 1], [2, 1, 1], [1, 1, 1]]\n",
      "number of steps: [200000, 140000, 80000, 20000]\n",
      "density: 0.300000, box: [4, 1, 1], #monomers: 8, #steps: 200000\n",
      "passed 0.5 %, failed to grow: 21.1%\n",
      "passed 1.0 %, failed to grow: 19.6%\n",
      "passed 1.5 %, failed to grow: 19.3%\n",
      "-3.0 3.0 3.0\n",
      "-3.0 3.0 3.0\n",
      "-3.0 3.0 3.0\n",
      "finished estimating limits: 3.0 3.0 3.0\n",
      "density: 0.300000, box: [3, 1, 1], #monomers: 6, #steps: 140000\n",
      "passed 0.7 %, failed to grow: 14.6%\n",
      "passed 1.4 %, failed to grow: 14.1%\n",
      "-2.0 2.0 2.0\n",
      "-2.0 2.0 2.0\n",
      "-2.0 2.0 2.0\n",
      "finished estimating limits: 2.0 2.0 2.0\n",
      "density: 0.300000, box: [2, 1, 1], #monomers: 4, #steps: 80000\n",
      "passed 1.2 %, failed to grow: 12.5%\n",
      "-1.0 1.0 1.0\n",
      "-1.0 1.0 1.0\n",
      "-1.0 1.0 1.0\n",
      "finished estimating limits: 1.0 1.0 1.0\n",
      "density: 0.300000, box: [1, 1, 1], #monomers: 2, #steps: 20000\n",
      "-1.0 1.0 1.0\n",
      "-1.0 1.0 1.0\n",
      "-1.0 1.0 1.0\n",
      "finished estimating limits: 1.0 1.0 1.0\n",
      "boxes: [[4, 2, 2], [3, 2, 2], [2, 2, 2], [1, 2, 2]]\n",
      "number of steps: [200000, 146000, 93000, 40000]\n",
      "density: 0.300000, box: [4, 2, 2], #monomers: 38, #steps: 200000\n",
      "passed 0.5 %, failed to grow: 34.5%\n",
      "passed 1.0 %, failed to grow: 34.4%\n",
      "passed 1.5 %, failed to grow: 34.4%\n",
      "-9.0 8.0 9.0\n",
      "-9.0 9.0 9.0\n",
      "-9.0 8.0 9.0\n",
      "finished estimating limits: 9.0 9.0 9.0\n"
     ]
    },
    {
     "ename": "KeyboardInterrupt",
     "evalue": "",
     "output_type": "error",
     "traceback": [
      "\u001b[0;31m---------------------------------------------------------------------------\u001b[0m",
      "\u001b[0;31mKeyboardInterrupt\u001b[0m                         Traceback (most recent call last)",
      "Input \u001b[0;32mIn [41]\u001b[0m, in \u001b[0;36m<cell line: 5>\u001b[0;34m()\u001b[0m\n\u001b[1;32m     14\u001b[0m \u001b[38;5;28;01mfor\u001b[39;00m i \u001b[38;5;129;01min\u001b[39;00m \u001b[38;5;28mrange\u001b[39m(\u001b[38;5;28mlen\u001b[39m(boxes)):\n\u001b[1;32m     15\u001b[0m     \u001b[38;5;28mprint\u001b[39m(\u001b[38;5;124m\"\u001b[39m\u001b[38;5;124mdensity: \u001b[39m\u001b[38;5;132;01m%f\u001b[39;00m\u001b[38;5;124m, box: \u001b[39m\u001b[38;5;132;01m%s\u001b[39;00m\u001b[38;5;124m, #monomers: \u001b[39m\u001b[38;5;132;01m%i\u001b[39;00m\u001b[38;5;124m, #steps: \u001b[39m\u001b[38;5;132;01m%i\u001b[39;00m\u001b[38;5;124m\"\u001b[39m\u001b[38;5;241m%\u001b[39m(density, boxes[i], get_n(boxes[i]), nsteps[i] ))\n\u001b[0;32m---> 16\u001b[0m     boxes_ \u001b[38;5;241m=\u001b[39m \u001b[43mURW_saw\u001b[49m\u001b[43m(\u001b[49m\u001b[43mget_n\u001b[49m\u001b[43m(\u001b[49m\u001b[43mboxes\u001b[49m\u001b[43m[\u001b[49m\u001b[43mi\u001b[49m\u001b[43m]\u001b[49m\u001b[43m)\u001b[49m\u001b[43m,\u001b[49m\u001b[43m \u001b[49m\u001b[43mnsteps\u001b[49m\u001b[43m[\u001b[49m\u001b[43mi\u001b[49m\u001b[43m]\u001b[49m\u001b[43m,\u001b[49m\u001b[43m \u001b[49m\u001b[43mbox\u001b[49m\u001b[38;5;241;43m=\u001b[39;49m\u001b[43mboxes\u001b[49m\u001b[43m[\u001b[49m\u001b[43mi\u001b[49m\u001b[43m]\u001b[49m\u001b[43m)\u001b[49m\n\u001b[1;32m     17\u001b[0m     results\u001b[38;5;241m.\u001b[39mappend(list_to_arr(boxes_))\n\u001b[1;32m     19\u001b[0m total_results\u001b[38;5;241m.\u001b[39mappend(results)\n",
      "File \u001b[0;32m~/Documents/projects/chromosome_segregation/chromosome_segregation/simulation.py:147\u001b[0m, in \u001b[0;36mURW_saw\u001b[0;34m(n, n_steps, box)\u001b[0m\n\u001b[1;32m    145\u001b[0m     logging\u001b[38;5;241m.\u001b[39minfo(\u001b[38;5;124m\"\u001b[39m\u001b[38;5;124mpassed \u001b[39m\u001b[38;5;132;01m%3.1f\u001b[39;00m\u001b[38;5;124m \u001b[39m\u001b[38;5;132;01m%%\u001b[39;00m\u001b[38;5;124m, failed to grow: \u001b[39m\u001b[38;5;132;01m%3.1f\u001b[39;00m\u001b[38;5;132;01m%%\u001b[39;00m\u001b[38;5;124m\"\u001b[39m \u001b[38;5;241m%\u001b[39m (i \u001b[38;5;241m/\u001b[39m n_steps \u001b[38;5;241m*\u001b[39m \u001b[38;5;241m100\u001b[39m, failed_to_grow \u001b[38;5;241m/\u001b[39m i \u001b[38;5;241m*\u001b[39m \u001b[38;5;241m100\u001b[39m))\n\u001b[1;32m    146\u001b[0m \u001b[38;5;66;03m# coords = regrow(n, 0, 0, 0, [])\u001b[39;00m\n\u001b[0;32m--> 147\u001b[0m coords, _, _ \u001b[38;5;241m=\u001b[39m \u001b[43mregrow_saw\u001b[49m\u001b[43m(\u001b[49m\u001b[43mn\u001b[49m\u001b[43m,\u001b[49m\u001b[43m \u001b[49m\u001b[38;5;241;43m0\u001b[39;49m\u001b[43m,\u001b[49m\u001b[43m \u001b[49m\u001b[38;5;241;43m0\u001b[39;49m\u001b[43m,\u001b[49m\u001b[43m \u001b[49m\u001b[38;5;241;43m0\u001b[39;49m\u001b[43m,\u001b[49m\u001b[43m \u001b[49m\u001b[43m[\u001b[49m\u001b[43m]\u001b[49m\u001b[43m,\u001b[49m\u001b[43m \u001b[49m\u001b[43mw\u001b[49m\u001b[38;5;241;43m=\u001b[39;49m\u001b[38;5;241;43m1\u001b[39;49m\u001b[43m,\u001b[49m\u001b[43m \u001b[49m\u001b[43malpha\u001b[49m\u001b[38;5;241;43m=\u001b[39;49m\u001b[38;5;241;43m0.0\u001b[39;49m\u001b[43m,\u001b[49m\u001b[43m \u001b[49m\u001b[43mk\u001b[49m\u001b[38;5;241;43m=\u001b[39;49m\u001b[38;5;241;43m0\u001b[39;49m\u001b[43m)\u001b[49m\n\u001b[1;32m    148\u001b[0m \u001b[38;5;28;01mif\u001b[39;00m \u001b[38;5;28mlen\u001b[39m(coords) \u001b[38;5;241m<\u001b[39m n:\n\u001b[1;32m    149\u001b[0m     failed_to_grow \u001b[38;5;241m+\u001b[39m\u001b[38;5;241m=\u001b[39m \u001b[38;5;241m1\u001b[39m\n",
      "File \u001b[0;32m~/Documents/projects/chromosome_segregation/chromosome_segregation/regrow.py:181\u001b[0m, in \u001b[0;36mregrow_saw\u001b[0;34m(n, dx, dy, dz, res, w, alpha, k)\u001b[0m\n\u001b[1;32m    178\u001b[0m     \u001b[38;5;28mprint\u001b[39m(\u001b[38;5;124m'\u001b[39m\u001b[38;5;124mSELECTED NOT POSSIBLE\u001b[39m\u001b[38;5;124m'\u001b[39m)\n\u001b[1;32m    180\u001b[0m k \u001b[38;5;241m+\u001b[39m\u001b[38;5;241m=\u001b[39m all_coincidence[selected]\n\u001b[0;32m--> 181\u001b[0m \u001b[38;5;28;01mreturn\u001b[39;00m \u001b[43mregrow_saw\u001b[49m\u001b[43m(\u001b[49m\u001b[38;5;241;43m*\u001b[39;49m\u001b[43mneighbours\u001b[49m\u001b[43m[\u001b[49m\u001b[43mselected\u001b[49m\u001b[43m]\u001b[49m\u001b[43m,\u001b[49m\u001b[43m \u001b[49m\u001b[43mres\u001b[49m\u001b[43m,\u001b[49m\u001b[43m \u001b[49m\u001b[43mw\u001b[49m\u001b[43m,\u001b[49m\u001b[43m \u001b[49m\u001b[43malpha\u001b[49m\u001b[43m,\u001b[49m\u001b[43m \u001b[49m\u001b[43mk\u001b[49m\u001b[43m)\u001b[49m\n",
      "File \u001b[0;32m~/Documents/projects/chromosome_segregation/chromosome_segregation/regrow.py:181\u001b[0m, in \u001b[0;36mregrow_saw\u001b[0;34m(n, dx, dy, dz, res, w, alpha, k)\u001b[0m\n\u001b[1;32m    178\u001b[0m     \u001b[38;5;28mprint\u001b[39m(\u001b[38;5;124m'\u001b[39m\u001b[38;5;124mSELECTED NOT POSSIBLE\u001b[39m\u001b[38;5;124m'\u001b[39m)\n\u001b[1;32m    180\u001b[0m k \u001b[38;5;241m+\u001b[39m\u001b[38;5;241m=\u001b[39m all_coincidence[selected]\n\u001b[0;32m--> 181\u001b[0m \u001b[38;5;28;01mreturn\u001b[39;00m \u001b[43mregrow_saw\u001b[49m\u001b[43m(\u001b[49m\u001b[38;5;241;43m*\u001b[39;49m\u001b[43mneighbours\u001b[49m\u001b[43m[\u001b[49m\u001b[43mselected\u001b[49m\u001b[43m]\u001b[49m\u001b[43m,\u001b[49m\u001b[43m \u001b[49m\u001b[43mres\u001b[49m\u001b[43m,\u001b[49m\u001b[43m \u001b[49m\u001b[43mw\u001b[49m\u001b[43m,\u001b[49m\u001b[43m \u001b[49m\u001b[43malpha\u001b[49m\u001b[43m,\u001b[49m\u001b[43m \u001b[49m\u001b[43mk\u001b[49m\u001b[43m)\u001b[49m\n",
      "    \u001b[0;31m[... skipping similar frames: regrow_saw at line 181 (10 times)]\u001b[0m\n",
      "File \u001b[0;32m~/Documents/projects/chromosome_segregation/chromosome_segregation/regrow.py:181\u001b[0m, in \u001b[0;36mregrow_saw\u001b[0;34m(n, dx, dy, dz, res, w, alpha, k)\u001b[0m\n\u001b[1;32m    178\u001b[0m     \u001b[38;5;28mprint\u001b[39m(\u001b[38;5;124m'\u001b[39m\u001b[38;5;124mSELECTED NOT POSSIBLE\u001b[39m\u001b[38;5;124m'\u001b[39m)\n\u001b[1;32m    180\u001b[0m k \u001b[38;5;241m+\u001b[39m\u001b[38;5;241m=\u001b[39m all_coincidence[selected]\n\u001b[0;32m--> 181\u001b[0m \u001b[38;5;28;01mreturn\u001b[39;00m \u001b[43mregrow_saw\u001b[49m\u001b[43m(\u001b[49m\u001b[38;5;241;43m*\u001b[39;49m\u001b[43mneighbours\u001b[49m\u001b[43m[\u001b[49m\u001b[43mselected\u001b[49m\u001b[43m]\u001b[49m\u001b[43m,\u001b[49m\u001b[43m \u001b[49m\u001b[43mres\u001b[49m\u001b[43m,\u001b[49m\u001b[43m \u001b[49m\u001b[43mw\u001b[49m\u001b[43m,\u001b[49m\u001b[43m \u001b[49m\u001b[43malpha\u001b[49m\u001b[43m,\u001b[49m\u001b[43m \u001b[49m\u001b[43mk\u001b[49m\u001b[43m)\u001b[49m\n",
      "File \u001b[0;32m~/Documents/projects/chromosome_segregation/chromosome_segregation/regrow.py:138\u001b[0m, in \u001b[0;36mregrow_saw\u001b[0;34m(n, dx, dy, dz, res, w, alpha, k)\u001b[0m\n\u001b[1;32m    131\u001b[0m     \u001b[38;5;28;01mreturn\u001b[39;00m res \u001b[38;5;241m+\u001b[39m [[\u001b[38;5;241m0\u001b[39m, \u001b[38;5;241m0\u001b[39m, \u001b[38;5;241m0\u001b[39m]], w, k\n\u001b[1;32m    132\u001b[0m \u001b[38;5;28;01melse\u001b[39;00m:\n\u001b[1;32m    133\u001b[0m     neighbours \u001b[38;5;241m=\u001b[39m [[n \u001b[38;5;241m-\u001b[39m \u001b[38;5;241m1\u001b[39m, dx \u001b[38;5;241m-\u001b[39m \u001b[38;5;241m1\u001b[39m, dy, dz],\n\u001b[1;32m    134\u001b[0m                   [n \u001b[38;5;241m-\u001b[39m \u001b[38;5;241m1\u001b[39m, dx \u001b[38;5;241m+\u001b[39m \u001b[38;5;241m1\u001b[39m, dy, dz],\n\u001b[1;32m    135\u001b[0m                   [n \u001b[38;5;241m-\u001b[39m \u001b[38;5;241m1\u001b[39m, dx, dy \u001b[38;5;241m-\u001b[39m \u001b[38;5;241m1\u001b[39m, dz],\n\u001b[1;32m    136\u001b[0m                   [n \u001b[38;5;241m-\u001b[39m \u001b[38;5;241m1\u001b[39m, dx, dy \u001b[38;5;241m+\u001b[39m \u001b[38;5;241m1\u001b[39m, dz],\n\u001b[1;32m    137\u001b[0m                   [n \u001b[38;5;241m-\u001b[39m \u001b[38;5;241m1\u001b[39m, dx, dy, dz \u001b[38;5;241m-\u001b[39m \u001b[38;5;241m1\u001b[39m],\n\u001b[0;32m--> 138\u001b[0m                   [n \u001b[38;5;241m-\u001b[39m \u001b[38;5;241m1\u001b[39m, dx, dy, \u001b[43mdz\u001b[49m\u001b[43m \u001b[49m\u001b[38;5;241;43m+\u001b[39;49m\u001b[43m \u001b[49m\u001b[38;5;241;43m1\u001b[39;49m]\n\u001b[1;32m    139\u001b[0m                   ]\n\u001b[1;32m    140\u001b[0m     counts \u001b[38;5;241m=\u001b[39m []\n\u001b[1;32m    141\u001b[0m     tmp \u001b[38;5;241m=\u001b[39m \u001b[38;5;241m0\u001b[39m\n",
      "\u001b[0;31mKeyboardInterrupt\u001b[0m: "
     ]
    }
   ],
   "source": [
    "density = 0.3\n",
    "n_boxes = 4\n",
    "\n",
    "total_results = []\n",
    "for thickness in [1,2,3]:\n",
    "    boxes = [[i, thickness, thickness] for i in range(n_boxes,0,-1)]\n",
    "    print('boxes: %s'% boxes)\n",
    "    nsteps = np.linspace(20000*thickness, 200000, len(boxes))\n",
    "    nsteps = [int(el - el%1000) for el in nsteps]\n",
    "    nsteps = nsteps[::-1]\n",
    "    print('number of steps: %s'%nsteps)\n",
    "    \n",
    "    results = []\n",
    "    for i in range(len(boxes)):\n",
    "        print(\"density: %f, box: %s, #monomers: %i, #steps: %i\"%(density, boxes[i], get_n(boxes[i]), nsteps[i] ))\n",
    "        boxes_ = URW_saw(get_n(boxes[i]), nsteps[i], box=boxes[i])\n",
    "        results.append(list_to_arr(boxes_))\n",
    "        \n",
    "    total_results.append(results)\n",
    "    "
   ]
  },
  {
   "cell_type": "code",
   "execution_count": null,
   "id": "3bafc3de",
   "metadata": {},
   "outputs": [],
   "source": [
    "overlap = overlaps.Overlap(10)\n",
    "print(overlap.n_conformations)"
   ]
  },
  {
   "cell_type": "markdown",
   "id": "9cb9696e",
   "metadata": {},
   "source": [
    "# getting the SAW fraction  from the fit curve"
   ]
  },
  {
   "cell_type": "code",
   "execution_count": null,
   "id": "ea4daaea",
   "metadata": {},
   "outputs": [],
   "source": [
    "def f(x, a,b,c):\n",
    "    return a*x*np.log(x) +  b*x +c"
   ]
  },
  {
   "cell_type": "code",
   "execution_count": null,
   "id": "bfde6f38",
   "metadata": {},
   "outputs": [],
   "source": [
    "len(total_results)"
   ]
  },
  {
   "cell_type": "code",
   "execution_count": null,
   "id": "8f48758e",
   "metadata": {},
   "outputs": [],
   "source": [
    "plt.figure(figsize=(12,8))\n",
    "# thickness=3\n",
    "\n",
    "for result, thickness in zip(total_results, (1,2,3)):\n",
    "    x=[]\n",
    "    y=[]\n",
    "    boxes = [[i, thickness, thickness] for i in range(n_boxes,0,-1)]\n",
    "    for i in range(len(boxes)):\n",
    "        n = get_n(boxes[i])\n",
    "        x.append(1-n/get_n(boxes[0]))\n",
    "#         x.append(n)\n",
    "        specific_free_energy = f(1/n, a=0.375, b=.1347, c=-.2459)\n",
    "        n_conformations_total = overlaps.Overlap(n).n_conformations\n",
    "        saw_fraction =  np.exp(specific_free_energy * n)\n",
    "        n_saws = saw_fraction* n_conformations_total\n",
    "        \n",
    "        print(i, boxes[i],n, result[i][boxes[i][0]],  result[i][boxes[i][0]]* n_saws)#, list_to_arr(results[i]))\n",
    "        y.append(-np.log(result[i][boxes[i][0]] * n_saws )/(n))\n",
    "\n",
    "    plt.plot(x,y, linestyle='--', marker='o', markersize=10, label='thickness=%i'%thickness)\n",
    "    thickness-=1\n",
    "plt.grid()\n",
    "plt.xlabel(\"$1-N/N_0$\")\n",
    "plt.ylabel(\"$ F/N$\")\n",
    "plt.title('density %3.1f; For SAW'%(density))\n",
    "plt.legend()"
   ]
  },
  {
   "cell_type": "code",
   "execution_count": null,
   "id": "8f1ac435",
   "metadata": {},
   "outputs": [],
   "source": [
    "6//2, 7//2"
   ]
  },
  {
   "cell_type": "code",
   "execution_count": null,
   "id": "5db3a38f",
   "metadata": {},
   "outputs": [],
   "source": [
    "mean = total_results[0][0]\n",
    "# total_results_save = total_results.copy()"
   ]
  },
  {
   "cell_type": "code",
   "execution_count": null,
   "id": "061006a0",
   "metadata": {},
   "outputs": [],
   "source": [
    "plt.figure(figsize=(12,8))\n",
    "# plt.errorbar(range(len(mean)) ,mean , yerr=err, fmt=\".\", color='black', capsize=5, label='stdev')\n",
    "plt.bar(range(len(mean)), mean, hatch='.', alpha=0.2, edgecolor='black', label='fraction')\n",
    "plt.yscale('log')\n",
    "# plt.grid()\n",
    "plt.legend()\n",
    "plt.xlim(0,15)"
   ]
  },
  {
   "cell_type": "markdown",
   "id": "3fc4ea5c",
   "metadata": {},
   "source": [
    "# I need to use larger $N$, so must use Stirling's formula\n",
    "\n",
    "$$\n",
    "n!\\approx \\sqrt{2\\pi n}\\left(\\frac{n}{e}\\right)^n\n",
    "$$"
   ]
  },
  {
   "cell_type": "code",
   "execution_count": 42,
   "id": "b340bf74",
   "metadata": {},
   "outputs": [
    {
     "name": "stdout",
     "output_type": "stream",
     "text": [
      "0 -0.08106146679532733\n",
      "12.80182748008147 15.096082009642155\n",
      "359.1342053695755 363.7385422250079\n",
      "857.9336698258574 863.231570526086\n",
      "2605.1158503617376 2611.3302917935116\n",
      "5905.220423209189 5912.128095154832\n"
     ]
    }
   ],
   "source": [
    "for n_ in (1,10,100,200,500,1000):\n",
    "#     print(sum([math.log(el) for el in range(1,n_)]), np.log((lambda x: math.sqrt(2*np.pi*x)*(x/math.e)**x)(n_)))\n",
    "    print(sum([math.log(el) for el in range(1,n_)]), .5*np.log(2*np.pi*n_)+ n_*(np.log(n_)-1))"
   ]
  },
  {
   "cell_type": "code",
   "execution_count": 43,
   "id": "d4c2f339",
   "metadata": {},
   "outputs": [],
   "source": [
    "def ln_fact(x):\n",
    "    \n",
    "    return sum([math.log(el) for el in range(1,x)])"
   ]
  },
  {
   "cell_type": "code",
   "execution_count": 44,
   "id": "c33651fa",
   "metadata": {},
   "outputs": [],
   "source": [
    "def ln_fact1(x):\n",
    "    \n",
    "    return .5*np.log(2*np.pi*n_)+ n_*(np.log(n_)-1)"
   ]
  },
  {
   "cell_type": "code",
   "execution_count": null,
   "id": "310dcf17",
   "metadata": {},
   "outputs": [],
   "source": []
  },
  {
   "cell_type": "code",
   "execution_count": 45,
   "id": "1c5f4703",
   "metadata": {},
   "outputs": [
    {
     "name": "stdout",
     "output_type": "stream",
     "text": [
      "76.8 µs ± 1.42 µs per loop (mean ± std. dev. of 7 runs, 10,000 loops each)\n"
     ]
    }
   ],
   "source": [
    "%timeit ln_fact(500)"
   ]
  },
  {
   "cell_type": "code",
   "execution_count": 46,
   "id": "0a7ab153",
   "metadata": {},
   "outputs": [
    {
     "name": "stdout",
     "output_type": "stream",
     "text": [
      "2.83 µs ± 105 ns per loop (mean ± std. dev. of 7 runs, 100,000 loops each)\n"
     ]
    }
   ],
   "source": [
    "%timeit ln_fact1(50)"
   ]
  },
  {
   "cell_type": "code",
   "execution_count": 47,
   "id": "d0ed8ce9",
   "metadata": {},
   "outputs": [
    {
     "name": "stdout",
     "output_type": "stream",
     "text": [
      "572 ns ± 8.56 ns per loop (mean ± std. dev. of 7 runs, 1,000,000 loops each)\n"
     ]
    }
   ],
   "source": [
    "%timeit math.factorial(50)"
   ]
  },
  {
   "cell_type": "code",
   "execution_count": 48,
   "id": "b41dd5f3",
   "metadata": {},
   "outputs": [
    {
     "name": "stdout",
     "output_type": "stream",
     "text": [
      "AUTHORS.rst             \u001b[34mchromosome_segregation\u001b[m\u001b[m/ \u001b[34mresults_saw\u001b[m\u001b[m/\r\n",
      "CONTRIBUTING.rst        \u001b[34mdocs\u001b[m\u001b[m/                   setup.cfg\r\n",
      "HISTORY.rst             grow_caches.npy         setup.py\r\n",
      "LICENSE                 grow_caches.txt.gz      tabulate.ipynb\r\n",
      "MANIFEST.in             grow_caches7.txt.gz     \u001b[34mtests\u001b[m\u001b[m/\r\n",
      "Makefile                \u001b[34mpics\u001b[m\u001b[m/                   thickness.png\r\n",
      "README.rst              requirements.txt        tox.ini\r\n",
      "Untitled.ipynb          requirements_dev.txt    \u001b[34mvenv\u001b[m\u001b[m/\r\n"
     ]
    }
   ],
   "source": [
    "%ls"
   ]
  },
  {
   "cell_type": "code",
   "execution_count": 49,
   "id": "ca9ced5b",
   "metadata": {},
   "outputs": [],
   "source": [
    "from chromosome_segregation import run_saw"
   ]
  },
  {
   "cell_type": "code",
   "execution_count": 52,
   "id": "8982874b",
   "metadata": {
    "scrolled": true
   },
   "outputs": [],
   "source": [
    "# run_saw.run(density=0.5, n_boxes=4, thicknesses=list(range(2, 3)))"
   ]
  },
  {
   "cell_type": "code",
   "execution_count": 53,
   "id": "9f41352c",
   "metadata": {},
   "outputs": [],
   "source": [
    "from chromosome_segregation import aux, run_saw"
   ]
  },
  {
   "cell_type": "code",
   "execution_count": 54,
   "id": "9cf9c61a",
   "metadata": {},
   "outputs": [],
   "source": [
    "# %cp  chromosome_segregation/grow_caches.txt.gz .\n"
   ]
  },
  {
   "cell_type": "code",
   "execution_count": 55,
   "id": "3604a4f9",
   "metadata": {},
   "outputs": [],
   "source": [
    "import logging\n",
    "# reload(logging)\n",
    "logging.basicConfig(\n",
    "                level=logging.INFO,\n",
    "                format=\"%(asctime)s [%(levelname)s] %(module)s.%(funcName)s:%(lineno)d %(message)s\",\n",
    "                handlers=[\n",
    "                    logging.StreamHandler()\n",
    "                ]\n",
    "            )\n"
   ]
  },
  {
   "cell_type": "code",
   "execution_count": 56,
   "id": "9ae00134",
   "metadata": {},
   "outputs": [
    {
     "name": "stdout",
     "output_type": "stream",
     "text": [
      "100\n",
      "passed 0.3 %, failed to grow: 39.3%\n"
     ]
    },
    {
     "ename": "KeyboardInterrupt",
     "evalue": "",
     "output_type": "error",
     "traceback": [
      "\u001b[0;31m---------------------------------------------------------------------------\u001b[0m",
      "\u001b[0;31mKeyboardInterrupt\u001b[0m                         Traceback (most recent call last)",
      "Input \u001b[0;32mIn [56]\u001b[0m, in \u001b[0;36m<cell line: 11>\u001b[0;34m()\u001b[0m\n\u001b[1;32m      6\u001b[0m GROW_CACHES_FOLDER \u001b[38;5;241m=\u001b[39m os\u001b[38;5;241m.\u001b[39mpath\u001b[38;5;241m.\u001b[39mjoin(os\u001b[38;5;241m.\u001b[39mpath\u001b[38;5;241m.\u001b[39mdirname(consts\u001b[38;5;241m.\u001b[39m\u001b[38;5;18m__file__\u001b[39m), \u001b[38;5;124m'\u001b[39m\u001b[38;5;124mgrow_caches.txt.gz\u001b[39m\u001b[38;5;124m'\u001b[39m)\n\u001b[1;32m      8\u001b[0m consts\u001b[38;5;241m.\u001b[39mcaches \u001b[38;5;241m=\u001b[39m get_grow_caches(fname \u001b[38;5;241m=\u001b[39m GROW_CACHES_FOLDER ,\n\u001b[1;32m      9\u001b[0m                 params\u001b[38;5;241m=\u001b[39m(n, \u001b[38;5;241m25\u001b[39m,\u001b[38;5;241m25\u001b[39m,\u001b[38;5;241m25\u001b[39m))\n\u001b[0;32m---> 11\u001b[0m all_boxes \u001b[38;5;241m=\u001b[39m \u001b[43mURW_saw\u001b[49m\u001b[43m(\u001b[49m\u001b[43mn\u001b[49m\u001b[43m,\u001b[49m\u001b[43m \u001b[49m\u001b[38;5;241;43m300000\u001b[39;49m\u001b[43m,\u001b[49m\u001b[43m \u001b[49m\u001b[43mbox\u001b[49m\u001b[38;5;241;43m=\u001b[39;49m\u001b[43mbox\u001b[49m\u001b[43m)\u001b[49m\n",
      "File \u001b[0;32m~/Documents/projects/chromosome_segregation/chromosome_segregation/simulation.py:79\u001b[0m, in \u001b[0;36mURW_saw\u001b[0;34m(n, n_steps, box)\u001b[0m\n\u001b[1;32m     77\u001b[0m     \u001b[38;5;28mprint\u001b[39m(\u001b[38;5;124m\"\u001b[39m\u001b[38;5;124mpassed \u001b[39m\u001b[38;5;132;01m%3.1f\u001b[39;00m\u001b[38;5;124m \u001b[39m\u001b[38;5;132;01m%%\u001b[39;00m\u001b[38;5;124m, failed to grow: \u001b[39m\u001b[38;5;132;01m%3.1f\u001b[39;00m\u001b[38;5;132;01m%%\u001b[39;00m\u001b[38;5;124m\"\u001b[39m  \u001b[38;5;241m%\u001b[39m(i\u001b[38;5;241m/\u001b[39mn_steps \u001b[38;5;241m*\u001b[39m \u001b[38;5;241m100\u001b[39m, failed_to_grow\u001b[38;5;241m/\u001b[39mi\u001b[38;5;241m*\u001b[39m\u001b[38;5;241m100\u001b[39m))\n\u001b[1;32m     78\u001b[0m \u001b[38;5;66;03m# coords = regrow(n, 0, 0, 0, [])\u001b[39;00m\n\u001b[0;32m---> 79\u001b[0m coords, _, _ \u001b[38;5;241m=\u001b[39m \u001b[43mregrow_saw\u001b[49m\u001b[43m(\u001b[49m\u001b[43mn\u001b[49m\u001b[43m,\u001b[49m\u001b[43m \u001b[49m\u001b[38;5;241;43m0\u001b[39;49m\u001b[43m,\u001b[49m\u001b[43m \u001b[49m\u001b[38;5;241;43m0\u001b[39;49m\u001b[43m,\u001b[49m\u001b[43m \u001b[49m\u001b[38;5;241;43m0\u001b[39;49m\u001b[43m,\u001b[49m\u001b[43m \u001b[49m\u001b[43m[\u001b[49m\u001b[43m]\u001b[49m\u001b[43m,\u001b[49m\u001b[43m \u001b[49m\u001b[43mw\u001b[49m\u001b[38;5;241;43m=\u001b[39;49m\u001b[38;5;241;43m1\u001b[39;49m\u001b[43m,\u001b[49m\u001b[43m \u001b[49m\u001b[43malpha\u001b[49m\u001b[38;5;241;43m=\u001b[39;49m\u001b[38;5;241;43m0.0\u001b[39;49m\u001b[43m,\u001b[49m\u001b[43m \u001b[49m\u001b[43mk\u001b[49m\u001b[38;5;241;43m=\u001b[39;49m\u001b[38;5;241;43m0\u001b[39;49m\u001b[43m)\u001b[49m\n\u001b[1;32m     80\u001b[0m \u001b[38;5;28;01mif\u001b[39;00m \u001b[38;5;28mlen\u001b[39m(coords) \u001b[38;5;241m<\u001b[39m n:\n\u001b[1;32m     81\u001b[0m     failed_to_grow \u001b[38;5;241m+\u001b[39m\u001b[38;5;241m=\u001b[39m\u001b[38;5;241m1\u001b[39m\n",
      "File \u001b[0;32m~/Documents/projects/chromosome_segregation/chromosome_segregation/regrow.py:181\u001b[0m, in \u001b[0;36mregrow_saw\u001b[0;34m(n, dx, dy, dz, res, w, alpha, k)\u001b[0m\n\u001b[1;32m    178\u001b[0m     \u001b[38;5;28mprint\u001b[39m(\u001b[38;5;124m'\u001b[39m\u001b[38;5;124mSELECTED NOT POSSIBLE\u001b[39m\u001b[38;5;124m'\u001b[39m)\n\u001b[1;32m    180\u001b[0m k \u001b[38;5;241m+\u001b[39m\u001b[38;5;241m=\u001b[39m all_coincidence[selected]\n\u001b[0;32m--> 181\u001b[0m \u001b[38;5;28;01mreturn\u001b[39;00m \u001b[43mregrow_saw\u001b[49m\u001b[43m(\u001b[49m\u001b[38;5;241;43m*\u001b[39;49m\u001b[43mneighbours\u001b[49m\u001b[43m[\u001b[49m\u001b[43mselected\u001b[49m\u001b[43m]\u001b[49m\u001b[43m,\u001b[49m\u001b[43m \u001b[49m\u001b[43mres\u001b[49m\u001b[43m,\u001b[49m\u001b[43m \u001b[49m\u001b[43mw\u001b[49m\u001b[43m,\u001b[49m\u001b[43m \u001b[49m\u001b[43malpha\u001b[49m\u001b[43m,\u001b[49m\u001b[43m \u001b[49m\u001b[43mk\u001b[49m\u001b[43m)\u001b[49m\n",
      "File \u001b[0;32m~/Documents/projects/chromosome_segregation/chromosome_segregation/regrow.py:181\u001b[0m, in \u001b[0;36mregrow_saw\u001b[0;34m(n, dx, dy, dz, res, w, alpha, k)\u001b[0m\n\u001b[1;32m    178\u001b[0m     \u001b[38;5;28mprint\u001b[39m(\u001b[38;5;124m'\u001b[39m\u001b[38;5;124mSELECTED NOT POSSIBLE\u001b[39m\u001b[38;5;124m'\u001b[39m)\n\u001b[1;32m    180\u001b[0m k \u001b[38;5;241m+\u001b[39m\u001b[38;5;241m=\u001b[39m all_coincidence[selected]\n\u001b[0;32m--> 181\u001b[0m \u001b[38;5;28;01mreturn\u001b[39;00m \u001b[43mregrow_saw\u001b[49m\u001b[43m(\u001b[49m\u001b[38;5;241;43m*\u001b[39;49m\u001b[43mneighbours\u001b[49m\u001b[43m[\u001b[49m\u001b[43mselected\u001b[49m\u001b[43m]\u001b[49m\u001b[43m,\u001b[49m\u001b[43m \u001b[49m\u001b[43mres\u001b[49m\u001b[43m,\u001b[49m\u001b[43m \u001b[49m\u001b[43mw\u001b[49m\u001b[43m,\u001b[49m\u001b[43m \u001b[49m\u001b[43malpha\u001b[49m\u001b[43m,\u001b[49m\u001b[43m \u001b[49m\u001b[43mk\u001b[49m\u001b[43m)\u001b[49m\n",
      "    \u001b[0;31m[... skipping similar frames: regrow_saw at line 181 (39 times)]\u001b[0m\n",
      "File \u001b[0;32m~/Documents/projects/chromosome_segregation/chromosome_segregation/regrow.py:181\u001b[0m, in \u001b[0;36mregrow_saw\u001b[0;34m(n, dx, dy, dz, res, w, alpha, k)\u001b[0m\n\u001b[1;32m    178\u001b[0m     \u001b[38;5;28mprint\u001b[39m(\u001b[38;5;124m'\u001b[39m\u001b[38;5;124mSELECTED NOT POSSIBLE\u001b[39m\u001b[38;5;124m'\u001b[39m)\n\u001b[1;32m    180\u001b[0m k \u001b[38;5;241m+\u001b[39m\u001b[38;5;241m=\u001b[39m all_coincidence[selected]\n\u001b[0;32m--> 181\u001b[0m \u001b[38;5;28;01mreturn\u001b[39;00m \u001b[43mregrow_saw\u001b[49m\u001b[43m(\u001b[49m\u001b[38;5;241;43m*\u001b[39;49m\u001b[43mneighbours\u001b[49m\u001b[43m[\u001b[49m\u001b[43mselected\u001b[49m\u001b[43m]\u001b[49m\u001b[43m,\u001b[49m\u001b[43m \u001b[49m\u001b[43mres\u001b[49m\u001b[43m,\u001b[49m\u001b[43m \u001b[49m\u001b[43mw\u001b[49m\u001b[43m,\u001b[49m\u001b[43m \u001b[49m\u001b[43malpha\u001b[49m\u001b[43m,\u001b[49m\u001b[43m \u001b[49m\u001b[43mk\u001b[49m\u001b[43m)\u001b[49m\n",
      "File \u001b[0;32m~/Documents/projects/chromosome_segregation/chromosome_segregation/regrow.py:167\u001b[0m, in \u001b[0;36mregrow_saw\u001b[0;34m(n, dx, dy, dz, res, w, alpha, k)\u001b[0m\n\u001b[1;32m    164\u001b[0m counts \u001b[38;5;241m=\u001b[39m [c \u001b[38;5;241m/\u001b[39m \u001b[38;5;28msum\u001b[39m(counts) \u001b[38;5;28;01mfor\u001b[39;00m c \u001b[38;5;129;01min\u001b[39;00m counts]\n\u001b[1;32m    166\u001b[0m \u001b[38;5;66;03m# making cumulative sum\u001b[39;00m\n\u001b[0;32m--> 167\u001b[0m counts_ \u001b[38;5;241m=\u001b[39m \u001b[43mnp\u001b[49m\u001b[38;5;241;43m.\u001b[39;49m\u001b[43mcumsum\u001b[49m\u001b[43m(\u001b[49m\u001b[43mcounts\u001b[49m\u001b[43m)\u001b[49m\n\u001b[1;32m    169\u001b[0m \u001b[38;5;28;01mif\u001b[39;00m \u001b[38;5;28msum\u001b[39m(counts_) \u001b[38;5;241m==\u001b[39m \u001b[38;5;241m0\u001b[39m:\n\u001b[1;32m    170\u001b[0m     \u001b[38;5;28mprint\u001b[39m(\u001b[38;5;124m'\u001b[39m\u001b[38;5;124mfailed to grow\u001b[39m\u001b[38;5;124m'\u001b[39m)\n",
      "File \u001b[0;32m<__array_function__ internals>:180\u001b[0m, in \u001b[0;36mcumsum\u001b[0;34m(*args, **kwargs)\u001b[0m\n",
      "File \u001b[0;32m~/Documents/projects/chromosome_segregation/venv/lib/python3.9/site-packages/numpy/core/fromnumeric.py:2569\u001b[0m, in \u001b[0;36mcumsum\u001b[0;34m(a, axis, dtype, out)\u001b[0m\n\u001b[1;32m   2495\u001b[0m \u001b[38;5;129m@array_function_dispatch\u001b[39m(_cumsum_dispatcher)\n\u001b[1;32m   2496\u001b[0m \u001b[38;5;28;01mdef\u001b[39;00m \u001b[38;5;21mcumsum\u001b[39m(a, axis\u001b[38;5;241m=\u001b[39m\u001b[38;5;28;01mNone\u001b[39;00m, dtype\u001b[38;5;241m=\u001b[39m\u001b[38;5;28;01mNone\u001b[39;00m, out\u001b[38;5;241m=\u001b[39m\u001b[38;5;28;01mNone\u001b[39;00m):\n\u001b[1;32m   2497\u001b[0m     \u001b[38;5;124;03m\"\"\"\u001b[39;00m\n\u001b[1;32m   2498\u001b[0m \u001b[38;5;124;03m    Return the cumulative sum of the elements along a given axis.\u001b[39;00m\n\u001b[1;32m   2499\u001b[0m \n\u001b[0;32m   (...)\u001b[0m\n\u001b[1;32m   2567\u001b[0m \n\u001b[1;32m   2568\u001b[0m \u001b[38;5;124;03m    \"\"\"\u001b[39;00m\n\u001b[0;32m-> 2569\u001b[0m     \u001b[38;5;28;01mreturn\u001b[39;00m \u001b[43m_wrapfunc\u001b[49m\u001b[43m(\u001b[49m\u001b[43ma\u001b[49m\u001b[43m,\u001b[49m\u001b[43m \u001b[49m\u001b[38;5;124;43m'\u001b[39;49m\u001b[38;5;124;43mcumsum\u001b[39;49m\u001b[38;5;124;43m'\u001b[39;49m\u001b[43m,\u001b[49m\u001b[43m \u001b[49m\u001b[43maxis\u001b[49m\u001b[38;5;241;43m=\u001b[39;49m\u001b[43maxis\u001b[49m\u001b[43m,\u001b[49m\u001b[43m \u001b[49m\u001b[43mdtype\u001b[49m\u001b[38;5;241;43m=\u001b[39;49m\u001b[43mdtype\u001b[49m\u001b[43m,\u001b[49m\u001b[43m \u001b[49m\u001b[43mout\u001b[49m\u001b[38;5;241;43m=\u001b[39;49m\u001b[43mout\u001b[49m\u001b[43m)\u001b[49m\n",
      "File \u001b[0;32m~/Documents/projects/chromosome_segregation/venv/lib/python3.9/site-packages/numpy/core/fromnumeric.py:54\u001b[0m, in \u001b[0;36m_wrapfunc\u001b[0;34m(obj, method, *args, **kwds)\u001b[0m\n\u001b[1;32m     52\u001b[0m bound \u001b[38;5;241m=\u001b[39m \u001b[38;5;28mgetattr\u001b[39m(obj, method, \u001b[38;5;28;01mNone\u001b[39;00m)\n\u001b[1;32m     53\u001b[0m \u001b[38;5;28;01mif\u001b[39;00m bound \u001b[38;5;129;01mis\u001b[39;00m \u001b[38;5;28;01mNone\u001b[39;00m:\n\u001b[0;32m---> 54\u001b[0m     \u001b[38;5;28;01mreturn\u001b[39;00m \u001b[43m_wrapit\u001b[49m\u001b[43m(\u001b[49m\u001b[43mobj\u001b[49m\u001b[43m,\u001b[49m\u001b[43m \u001b[49m\u001b[43mmethod\u001b[49m\u001b[43m,\u001b[49m\u001b[43m \u001b[49m\u001b[38;5;241;43m*\u001b[39;49m\u001b[43margs\u001b[49m\u001b[43m,\u001b[49m\u001b[43m \u001b[49m\u001b[38;5;241;43m*\u001b[39;49m\u001b[38;5;241;43m*\u001b[39;49m\u001b[43mkwds\u001b[49m\u001b[43m)\u001b[49m\n\u001b[1;32m     56\u001b[0m \u001b[38;5;28;01mtry\u001b[39;00m:\n\u001b[1;32m     57\u001b[0m     \u001b[38;5;28;01mreturn\u001b[39;00m bound(\u001b[38;5;241m*\u001b[39margs, \u001b[38;5;241m*\u001b[39m\u001b[38;5;241m*\u001b[39mkwds)\n",
      "File \u001b[0;32m~/Documents/projects/chromosome_segregation/venv/lib/python3.9/site-packages/numpy/core/fromnumeric.py:43\u001b[0m, in \u001b[0;36m_wrapit\u001b[0;34m(obj, method, *args, **kwds)\u001b[0m\n\u001b[1;32m     41\u001b[0m \u001b[38;5;28;01mexcept\u001b[39;00m \u001b[38;5;167;01mAttributeError\u001b[39;00m:\n\u001b[1;32m     42\u001b[0m     wrap \u001b[38;5;241m=\u001b[39m \u001b[38;5;28;01mNone\u001b[39;00m\n\u001b[0;32m---> 43\u001b[0m result \u001b[38;5;241m=\u001b[39m \u001b[38;5;28;43mgetattr\u001b[39;49m\u001b[43m(\u001b[49m\u001b[43masarray\u001b[49m\u001b[43m(\u001b[49m\u001b[43mobj\u001b[49m\u001b[43m)\u001b[49m\u001b[43m,\u001b[49m\u001b[43m \u001b[49m\u001b[43mmethod\u001b[49m\u001b[43m)\u001b[49m\u001b[43m(\u001b[49m\u001b[38;5;241;43m*\u001b[39;49m\u001b[43margs\u001b[49m\u001b[43m,\u001b[49m\u001b[43m \u001b[49m\u001b[38;5;241;43m*\u001b[39;49m\u001b[38;5;241;43m*\u001b[39;49m\u001b[43mkwds\u001b[49m\u001b[43m)\u001b[49m\n\u001b[1;32m     44\u001b[0m \u001b[38;5;28;01mif\u001b[39;00m wrap:\n\u001b[1;32m     45\u001b[0m     \u001b[38;5;28;01mif\u001b[39;00m \u001b[38;5;129;01mnot\u001b[39;00m \u001b[38;5;28misinstance\u001b[39m(result, mu\u001b[38;5;241m.\u001b[39mndarray):\n",
      "\u001b[0;31mKeyboardInterrupt\u001b[0m: "
     ]
    }
   ],
   "source": [
    "box = [8,5,5]\n",
    "\n",
    "n = run_saw.get_n(box, .5)\n",
    "print(n)\n",
    "\n",
    "GROW_CACHES_FOLDER = os.path.join(os.path.dirname(consts.__file__), 'grow_caches.txt.gz')\n",
    "\n",
    "consts.caches = get_grow_caches(fname = GROW_CACHES_FOLDER ,\n",
    "                params=(n, 25,25,25))\n",
    "\n",
    "all_boxes = URW_saw(n, 300000, box=box)\n",
    "\n"
   ]
  },
  {
   "cell_type": "code",
   "execution_count": 57,
   "id": "6ad7e4ab",
   "metadata": {},
   "outputs": [
    {
     "ename": "NameError",
     "evalue": "name 'all_boxes' is not defined",
     "output_type": "error",
     "traceback": [
      "\u001b[0;31m---------------------------------------------------------------------------\u001b[0m",
      "\u001b[0;31mNameError\u001b[0m                                 Traceback (most recent call last)",
      "Input \u001b[0;32mIn [57]\u001b[0m, in \u001b[0;36m<cell line: 1>\u001b[0;34m()\u001b[0m\n\u001b[0;32m----> 1\u001b[0m res \u001b[38;5;241m=\u001b[39m list_to_arr(\u001b[43mall_boxes\u001b[49m)\n\u001b[1;32m      2\u001b[0m res\n",
      "\u001b[0;31mNameError\u001b[0m: name 'all_boxes' is not defined"
     ]
    }
   ],
   "source": [
    "res = list_to_arr(all_boxes)\n",
    "res"
   ]
  },
  {
   "cell_type": "code",
   "execution_count": 58,
   "id": "affe85f0",
   "metadata": {},
   "outputs": [
    {
     "ename": "NameError",
     "evalue": "name 'res' is not defined",
     "output_type": "error",
     "traceback": [
      "\u001b[0;31m---------------------------------------------------------------------------\u001b[0m",
      "\u001b[0;31mNameError\u001b[0m                                 Traceback (most recent call last)",
      "Input \u001b[0;32mIn [58]\u001b[0m, in \u001b[0;36m<cell line: 3>\u001b[0;34m()\u001b[0m\n\u001b[1;32m      1\u001b[0m plt\u001b[38;5;241m.\u001b[39mfigure(figsize\u001b[38;5;241m=\u001b[39m(\u001b[38;5;241m12\u001b[39m,\u001b[38;5;241m8\u001b[39m))\n\u001b[1;32m      2\u001b[0m \u001b[38;5;66;03m# plt.errorbar(range(len(mean)) ,mean , yerr=err, fmt=\".\", color='black', capsize=5, label='stdev')\u001b[39;00m\n\u001b[0;32m----> 3\u001b[0m plt\u001b[38;5;241m.\u001b[39mbar(\u001b[38;5;28mrange\u001b[39m(\u001b[38;5;28mlen\u001b[39m(\u001b[43mres\u001b[49m)), res, hatch\u001b[38;5;241m=\u001b[39m\u001b[38;5;124m'\u001b[39m\u001b[38;5;124m.\u001b[39m\u001b[38;5;124m'\u001b[39m, alpha\u001b[38;5;241m=\u001b[39m\u001b[38;5;241m0.2\u001b[39m, edgecolor\u001b[38;5;241m=\u001b[39m\u001b[38;5;124m'\u001b[39m\u001b[38;5;124mblack\u001b[39m\u001b[38;5;124m'\u001b[39m, label\u001b[38;5;241m=\u001b[39m\u001b[38;5;124m'\u001b[39m\u001b[38;5;124mfraction\u001b[39m\u001b[38;5;124m'\u001b[39m)\n\u001b[1;32m      4\u001b[0m plt\u001b[38;5;241m.\u001b[39myscale(\u001b[38;5;124m'\u001b[39m\u001b[38;5;124mlog\u001b[39m\u001b[38;5;124m'\u001b[39m)\n\u001b[1;32m      5\u001b[0m \u001b[38;5;66;03m# plt.grid()\u001b[39;00m\n",
      "\u001b[0;31mNameError\u001b[0m: name 'res' is not defined"
     ]
    },
    {
     "data": {
      "text/plain": [
       "<Figure size 864x576 with 0 Axes>"
      ]
     },
     "metadata": {},
     "output_type": "display_data"
    }
   ],
   "source": [
    "plt.figure(figsize=(12,8))\n",
    "# plt.errorbar(range(len(mean)) ,mean , yerr=err, fmt=\".\", color='black', capsize=5, label='stdev')\n",
    "plt.bar(range(len(res)), res, hatch='.', alpha=0.2, edgecolor='black', label='fraction')\n",
    "plt.yscale('log')\n",
    "# plt.grid()\n",
    "plt.legend()\n",
    "plt.xlim(0,21)"
   ]
  },
  {
   "cell_type": "code",
   "execution_count": 59,
   "id": "d90c87ef",
   "metadata": {},
   "outputs": [
    {
     "ename": "NameError",
     "evalue": "name 'res' is not defined",
     "output_type": "error",
     "traceback": [
      "\u001b[0;31m---------------------------------------------------------------------------\u001b[0m",
      "\u001b[0;31mNameError\u001b[0m                                 Traceback (most recent call last)",
      "Input \u001b[0;32mIn [59]\u001b[0m, in \u001b[0;36m<cell line: 3>\u001b[0;34m()\u001b[0m\n\u001b[1;32m      1\u001b[0m plt\u001b[38;5;241m.\u001b[39mfigure(figsize\u001b[38;5;241m=\u001b[39m(\u001b[38;5;241m12\u001b[39m,\u001b[38;5;241m8\u001b[39m))\n\u001b[1;32m      2\u001b[0m \u001b[38;5;66;03m# plt.errorbar(range(len(mean)) ,mean , yerr=err, fmt=\".\", color='black', capsize=5, label='stdev')\u001b[39;00m\n\u001b[0;32m----> 3\u001b[0m plt\u001b[38;5;241m.\u001b[39mbar(\u001b[38;5;28mrange\u001b[39m(\u001b[38;5;28mlen\u001b[39m(\u001b[43mres\u001b[49m)), res, hatch\u001b[38;5;241m=\u001b[39m\u001b[38;5;124m'\u001b[39m\u001b[38;5;124m.\u001b[39m\u001b[38;5;124m'\u001b[39m, alpha\u001b[38;5;241m=\u001b[39m\u001b[38;5;241m0.2\u001b[39m, edgecolor\u001b[38;5;241m=\u001b[39m\u001b[38;5;124m'\u001b[39m\u001b[38;5;124mblack\u001b[39m\u001b[38;5;124m'\u001b[39m, label\u001b[38;5;241m=\u001b[39m\u001b[38;5;124m'\u001b[39m\u001b[38;5;124mfraction\u001b[39m\u001b[38;5;124m'\u001b[39m)\n\u001b[1;32m      4\u001b[0m plt\u001b[38;5;241m.\u001b[39myscale(\u001b[38;5;124m'\u001b[39m\u001b[38;5;124mlog\u001b[39m\u001b[38;5;124m'\u001b[39m)\n\u001b[1;32m      5\u001b[0m \u001b[38;5;66;03m# plt.grid()\u001b[39;00m\n",
      "\u001b[0;31mNameError\u001b[0m: name 'res' is not defined"
     ]
    },
    {
     "data": {
      "text/plain": [
       "<Figure size 864x576 with 0 Axes>"
      ]
     },
     "metadata": {},
     "output_type": "display_data"
    }
   ],
   "source": [
    "plt.figure(figsize=(12,8))\n",
    "# plt.errorbar(range(len(mean)) ,mean , yerr=err, fmt=\".\", color='black', capsize=5, label='stdev')\n",
    "plt.bar(range(len(res)), res, hatch='.', alpha=0.2, edgecolor='black', label='fraction')\n",
    "plt.yscale('log')\n",
    "# plt.grid()\n",
    "plt.legend()\n",
    "plt.xlim(0,21)"
   ]
  },
  {
   "cell_type": "code",
   "execution_count": 60,
   "id": "597068eb",
   "metadata": {},
   "outputs": [
    {
     "name": "stdout",
     "output_type": "stream",
     "text": [
      "AUTHORS.rst             \u001b[34mchromosome_segregation\u001b[m\u001b[m/ \u001b[34mresults_saw\u001b[m\u001b[m/\r\n",
      "CONTRIBUTING.rst        \u001b[34mdocs\u001b[m\u001b[m/                   setup.cfg\r\n",
      "HISTORY.rst             grow_caches.npy         setup.py\r\n",
      "LICENSE                 grow_caches.txt.gz      tabulate.ipynb\r\n",
      "MANIFEST.in             grow_caches7.txt.gz     \u001b[34mtests\u001b[m\u001b[m/\r\n",
      "Makefile                \u001b[34mpics\u001b[m\u001b[m/                   thickness.png\r\n",
      "README.rst              requirements.txt        tox.ini\r\n",
      "Untitled.ipynb          requirements_dev.txt    \u001b[34mvenv\u001b[m\u001b[m/\r\n"
     ]
    }
   ],
   "source": [
    "%ls"
   ]
  },
  {
   "cell_type": "code",
   "execution_count": 61,
   "id": "2bd7d672",
   "metadata": {},
   "outputs": [],
   "source": [
    "arr100 = np.loadtxt('chromosome_segregation/results/100/run_1/fitted_s.txt')\n",
    "counts100 = np.loadtxt('chromosome_segregation/results/100/run_1/counts.txt')\n",
    "bins100 = np.loadtxt('chromosome_segregation/results/100/run_1/bins.txt')\n",
    "\n",
    "arr60 = np.loadtxt('chromosome_segregation/results/26/run_1/fitted_s.txt')\n",
    "counts60 = np.loadtxt('chromosome_segregation/results/26/run_1/counts.txt')\n",
    "bins60 = np.loadtxt('chromosome_segregation/results/26/run_1/bins.txt')\n"
   ]
  },
  {
   "cell_type": "code",
   "execution_count": 62,
   "id": "ad08a8f9",
   "metadata": {},
   "outputs": [
    {
     "data": {
      "text/plain": [
       "Text(0, 0.5, 'fraction')"
      ]
     },
     "execution_count": 62,
     "metadata": {},
     "output_type": "execute_result"
    },
    {
     "data": {
      "image/png": "[encoded data removed]",
      "text/plain": [
       "<Figure size 1152x720 with 1 Axes>"
      ]
     },
     "metadata": {
      "needs_background": "light"
     },
     "output_type": "display_data"
    }
   ],
   "source": [
    "\n",
    "plt.figure(figsize=(16,10))\n",
    "plt.scatter(bins100, counts100, marker='o', s=100, edgecolor='black', color='none', label='N=100, MC')\n",
    "plt.scatter(range(len(arr100)), arr100, s=10, label='N=100, WL',  color='black')\n",
    "# plt.scatter(bins60, counts60, marker='o', s=100, edgecolor='red', color='none', label='N=26, MC')\n",
    "# plt.scatter(range(len(arr60)), arr60, s=10, label='N=26, WL',  color='red')\n",
    "\n",
    "plt.yscale('log')\n",
    "plt.grid()\n",
    "plt.legend()\n",
    "plt.xlabel('number of  intersections')\n",
    "plt.ylabel('fraction')"
   ]
  },
  {
   "cell_type": "code",
   "execution_count": 63,
   "id": "f406a73e",
   "metadata": {},
   "outputs": [
    {
     "name": "stdout",
     "output_type": "stream",
     "text": [
      "__init__.py\r\n",
      "\u001b[34m__pycache__\u001b[m\u001b[m/\r\n",
      "aux.py\r\n",
      "aux.pyc\r\n",
      "chromosome_segregation.py\r\n",
      "chromosome_segregation.pyc\r\n",
      "cli.py\r\n",
      "consts.py\r\n",
      "grow_caches.txt.gz\r\n",
      "log.log\r\n",
      "overlaps.py\r\n",
      "regrow.py\r\n",
      "\u001b[34mresults\u001b[m\u001b[m/\r\n",
      "\u001b[34mresults_box_10_10_10\u001b[m\u001b[m/\r\n",
      "\u001b[34mresults_box_14_14_14\u001b[m\u001b[m/\r\n",
      "\u001b[34mresults_halfspace\u001b[m\u001b[m/\r\n",
      "\u001b[34mresults_saw\u001b[m\u001b[m/\r\n",
      "\u001b[34mresults_saw_old\u001b[m\u001b[m/\r\n",
      "run_saw.py\r\n",
      "simulation.py\r\n",
      "specific_entropy_free_box_comparison.png\r\n",
      "specific_entropy_free_half_comparison.png\r\n"
     ]
    }
   ],
   "source": [
    "%ls  chromosome_segregation/"
   ]
  },
  {
   "cell_type": "code",
   "execution_count": 64,
   "id": "c3f1346d",
   "metadata": {},
   "outputs": [
    {
     "name": "stdout",
     "output_type": "stream",
     "text": [
      "chromosome_segregation/results_saw/\n",
      "dirs ['density_0.5']\n",
      "['.DS_Store']\n",
      "ffffff\n",
      "chromosome_segregation/results_saw/density_0.5\n",
      "dirs ['run_2', 'run_1', 'run_0']\n",
      "['.DS_Store', 'f_n.png']\n",
      "ffffff\n",
      "chromosome_segregation/results_saw/density_0.5/run_2\n",
      "dirs []\n",
      "['data.csv']\n",
      "ffffff\n",
      "chromosome_segregation/results_saw/density_0.5/run_1\n",
      "dirs []\n",
      "['data.csv']\n",
      "ffffff\n",
      "chromosome_segregation/results_saw/density_0.5/run_0\n",
      "dirs []\n",
      "['data.csv']\n",
      "ffffff\n"
     ]
    }
   ],
   "source": [
    "for root, dirs, files  in os.walk('chromosome_segregation/results_saw/'):\n",
    "    print(root)\n",
    "    print('dirs', dirs)\n",
    "    print(files)\n",
    "    print('ffffff')"
   ]
  },
  {
   "cell_type": "code",
   "execution_count": null,
   "id": "7560111e",
   "metadata": {},
   "outputs": [],
   "source": []
  },
  {
   "cell_type": "code",
   "execution_count": 169,
   "id": "ef66895a",
   "metadata": {},
   "outputs": [
    {
     "data": {
      "text/plain": [
       "['chromosome_segregation/results_saw/density_0.5']"
      ]
     },
     "execution_count": 169,
     "metadata": {},
     "output_type": "execute_result"
    }
   ],
   "source": [
    "root = 'chromosome_segregation/results_saw/'\n",
    "data_per_density = [os.path.join(root, el) for el in os.listdir(root) if el.startswith('density')]\n",
    "data_per_density"
   ]
  },
  {
   "cell_type": "code",
   "execution_count": 170,
   "id": "05657db7",
   "metadata": {},
   "outputs": [],
   "source": [
    "density_data = {}\n",
    "for d in data_per_density:\n",
    "    tmp = []\n",
    "    for root, dirs, files in os.walk(d):\n",
    "        if files[0].startswith('data'): \n",
    "            tmp.append(os.path.join(root, files[0]))\n",
    "    density_data[d.split('/')[-1]] = tmp"
   ]
  },
  {
   "cell_type": "code",
   "execution_count": 171,
   "id": "ff88cedb",
   "metadata": {},
   "outputs": [
    {
     "data": {
      "text/plain": [
       "{'density_0.5': ['chromosome_segregation/results_saw/density_0.5/run_2/data.csv',\n",
       "  'chromosome_segregation/results_saw/density_0.5/run_3/data.csv',\n",
       "  'chromosome_segregation/results_saw/density_0.5/run_1/data.csv',\n",
       "  'chromosome_segregation/results_saw/density_0.5/run_0/data.csv']}"
      ]
     },
     "execution_count": 171,
     "metadata": {},
     "output_type": "execute_result"
    }
   ],
   "source": [
    "density_data"
   ]
  },
  {
   "cell_type": "code",
   "execution_count": 172,
   "id": "d5b527d2",
   "metadata": {},
   "outputs": [],
   "source": [
    "import pandas as pd"
   ]
  },
  {
   "cell_type": "code",
   "execution_count": 173,
   "id": "254d6fe1",
   "metadata": {},
   "outputs": [
    {
     "name": "stdout",
     "output_type": "stream",
     "text": [
      "density_0.5\n",
      "chromosome_segregation/results_saw/density_0.5/run_2/data.csv\n",
      "chromosome_segregation/results_saw/density_0.5/run_3/data.csv\n",
      "chromosome_segregation/results_saw/density_0.5/run_1/data.csv\n",
      "chromosome_segregation/results_saw/density_0.5/run_0/data.csv\n",
      "       x    y    z   en_mean    en_std      n  area\n",
      "0    1.0  2.0  2.0 -0.587400  0.000000    2.0   4.0\n",
      "1    1.0  3.0  3.0 -0.782800  0.000000    4.0   9.0\n",
      "2    1.0  4.0  4.0 -0.770700  0.001445    8.0  16.0\n",
      "3    1.0  5.0  5.0 -0.782700  0.001709   12.0  25.0\n",
      "4    1.0  6.0  6.0 -0.779200       NaN   18.0  36.0\n",
      "5    2.0  2.0  2.0 -0.782800  0.000000    4.0   4.0\n",
      "6    2.0  3.0  3.0 -1.006050  0.000071    8.0   9.0\n",
      "7    2.0  4.0  4.0 -1.101550  0.000289   16.0  16.0\n",
      "8    2.0  5.0  5.0 -1.123800  0.000529   24.0  25.0\n",
      "9    2.0  6.0  6.0 -1.139500       NaN   36.0  36.0\n",
      "10   3.0  2.0  2.0 -0.919300  0.000000    6.0   4.0\n",
      "11   3.0  3.0  3.0 -1.073200  0.000000   12.0   9.0\n",
      "12   3.0  4.0  4.0 -1.190600  0.000490   24.0  16.0\n",
      "13   3.0  5.0  5.0 -1.228067  0.000987   36.0  25.0\n",
      "14   3.0  6.0  6.0 -1.242700       NaN   54.0  36.0\n",
      "15   4.0  2.0  2.0 -0.998900  0.000000    8.0   4.0\n",
      "16   4.0  3.0  3.0 -1.157400  0.000283   18.0   9.0\n",
      "17   4.0  4.0  4.0 -1.197200  0.000356   32.0  16.0\n",
      "18   4.0  5.0  5.0 -1.267800  0.000458   50.0  25.0\n",
      "19   4.0  6.0  6.0 -1.289700       NaN   72.0  36.0\n",
      "20   5.0  2.0  2.0 -0.976250  0.000071   10.0   4.0\n",
      "21   5.0  3.0  3.0 -1.169650  0.000354   22.0   9.0\n",
      "22   5.0  4.0  4.0 -1.245750  0.000370   40.0  16.0\n",
      "23   5.0  5.0  5.0 -1.274067  0.004202   62.0  25.0\n",
      "24   5.0  6.0  6.0 -1.312900       NaN   90.0  36.0\n",
      "25   6.0  2.0  2.0 -0.944650  0.000071   12.0   4.0\n",
      "26   6.0  3.0  3.0 -1.168350  0.000495   26.0   9.0\n",
      "27   6.0  4.0  4.0 -1.253225  0.000690   48.0  16.0\n",
      "28   6.0  5.0  5.0 -1.305167  0.002312   74.0  25.0\n",
      "29   6.0  6.0  6.0       NaN       NaN  108.0  36.0\n",
      "30   7.0  2.0  2.0 -0.918550  0.001344   14.0   4.0\n",
      "31   7.0  3.0  3.0 -1.165400  0.000141   30.0   9.0\n",
      "32   7.0  4.0  4.0 -1.258400  0.001042   56.0  16.0\n",
      "33   7.0  5.0  5.0 -1.314767  0.006048   86.0  25.0\n",
      "34   7.0  6.0  6.0       NaN       NaN  126.0  36.0\n",
      "35   8.0  2.0  2.0 -0.899200  0.000141   16.0   4.0\n",
      "36   8.0  3.0  3.0 -1.155600  0.000707   36.0   9.0\n",
      "37   8.0  4.0  4.0 -1.261025  0.005619   64.0  16.0\n",
      "38   8.0  5.0  5.0 -1.332300       NaN  100.0  25.0\n",
      "39   8.0  6.0  6.0       NaN       NaN  144.0  36.0\n",
      "40   9.0  4.0  4.0 -1.275300       NaN   72.0  16.0\n",
      "41   9.0  5.0  5.0       NaN       NaN  112.0  25.0\n",
      "42  10.0  4.0  4.0       NaN       NaN   80.0  16.0\n",
      "43  10.0  5.0  5.0       NaN       NaN  124.0  25.0\n"
     ]
    }
   ],
   "source": [
    "for k, files in density_data.items():\n",
    "    print(k)\n",
    "    dfs = []\n",
    "    for file in files:\n",
    "        print(file)\n",
    "        dfs.append(pd.read_csv(file, sep=' ', header=None))\n",
    "    df = pd.concat(dfs)\n",
    "    df.columns = ['x', 'y', 'z', 'en', 'n']\n",
    "    df.replace([np.inf, -np.inf], np.nan, inplace=True)\n",
    "#     print(df.head(n=50))\n",
    "#     aggregated = df.groupby(['x','y','z']).agg({'en':['mean', 'std'], 'n':['mean']})\n",
    "    aggregated = df.groupby(['x','y','z']).agg(en_mean=('en','mean'), en_std=('en', 'std'), n=('n','mean'))\n",
    "\n",
    "    aggregated.reset_index(inplace=True)\n",
    "    aggregated['area'] = aggregated['y']*aggregated['z']\n",
    "    print(aggregated)\n",
    "    "
   ]
  },
  {
   "cell_type": "code",
   "execution_count": 174,
   "id": "1f2121ba",
   "metadata": {},
   "outputs": [
    {
     "data": {
      "text/plain": [
       "Index(['x', 'y', 'z', 'en_mean', 'en_std', 'n', 'area'], dtype='object')"
      ]
     },
     "execution_count": 174,
     "metadata": {},
     "output_type": "execute_result"
    }
   ],
   "source": [
    "aggregated.columns"
   ]
  },
  {
   "cell_type": "code",
   "execution_count": 175,
   "id": "cd3cd3a2",
   "metadata": {},
   "outputs": [
    {
     "name": "stdout",
     "output_type": "stream",
     "text": [
      "4.0\n",
      "9.0\n",
      "16.0\n",
      "25.0\n",
      "36.0\n"
     ]
    },
    {
     "data": {
      "text/plain": [
       "Text(0, 0.5, '$F/N$')"
      ]
     },
     "execution_count": 175,
     "metadata": {},
     "output_type": "execute_result"
    },
    {
     "data": {
      "image/png": "[encoded data removed]",
      "text/plain": [
       "<Figure size 1008x576 with 1 Axes>"
      ]
     },
     "metadata": {
      "needs_background": "light"
     },
     "output_type": "display_data"
    }
   ],
   "source": [
    "plt.figure(figsize=(14,8))\n",
    "for k,group in aggregated.groupby('area'):\n",
    "    print(k)\n",
    "    plt.plot(group['x'], group['en_mean'], marker='p',label='area='+str(k))\n",
    "#     plt.errorbar(group['area'], group['en_mean'], yerr=group['en_std'],capsize=10)\n",
    "plt.grid()\n",
    "plt.legend()\n",
    "plt.title('$F/N$ as a function of $x$ for different S; contentration=0.5')\n",
    "plt.xlabel('length, $x$')\n",
    "plt.ylabel('$F/N$')"
   ]
  },
  {
   "cell_type": "code",
   "execution_count": 176,
   "id": "118e6316",
   "metadata": {},
   "outputs": [
    {
     "name": "stdout",
     "output_type": "stream",
     "text": [
      "1.0\n",
      "2.0\n",
      "3.0\n",
      "4.0\n",
      "5.0\n",
      "6.0\n",
      "7.0\n",
      "8.0\n",
      "9.0\n",
      "10.0\n"
     ]
    },
    {
     "data": {
      "text/plain": [
       "Text(0, 0.5, '$F/N$')"
      ]
     },
     "execution_count": 176,
     "metadata": {},
     "output_type": "execute_result"
    },
    {
     "data": {
      "image/png": "[encoded data removed]",
      "text/plain": [
       "<Figure size 1008x720 with 1 Axes>"
      ]
     },
     "metadata": {
      "needs_background": "light"
     },
     "output_type": "display_data"
    }
   ],
   "source": [
    "plt.figure(figsize=(14,10))\n",
    "for k,group in aggregated.groupby('x'):\n",
    "    print(k)\n",
    "    plt.scatter(group['area'], group['en_mean'], label='length='+str(k))\n",
    "    plt.errorbar(group['area'], group['en_mean'], yerr=group['en_std'],capsize=10)\n",
    "plt.grid()\n",
    "plt.legend()\n",
    "plt.title('$F/N$ as a function of $S$ for different lengths; contentration=0.5')\n",
    "plt.xlabel('area, $S$')\n",
    "plt.ylabel('$F/N$')"
   ]
  },
  {
   "cell_type": "code",
   "execution_count": 73,
   "id": "18bf894f",
   "metadata": {},
   "outputs": [
    {
     "data": {
      "image/png": "[encoded data removed]",
      "text/plain": [
       "<Figure size 1152x720 with 1 Axes>"
      ]
     },
     "metadata": {
      "needs_background": "light"
     },
     "output_type": "display_data"
    }
   ],
   "source": [
    "plt.rc('font', size=16)\n",
    "plt.figure(figsize=(16,10))\n",
    "\n",
    "for k, group in aggregated.groupby('area'):\n",
    "    plt.plot(1/group['n'], group['en_mean'], linestyle='-', marker='p', markersize=10, label='area='+str(k))\n",
    "#     plt.errorbar(1/group['n'], group['en_mean'], yerr=group['en_std'], capsize=4)\n",
    "\n",
    "plt.grid()\n",
    "plt.legend()\n",
    "plt.xlabel('$1/N$')\n",
    "plt.ylabel('$F/N$')\n",
    "plt.title('$F/N$ for different areas; concentration=0.5')\n",
    "plt.xscale('log')\n",
    "plt.xticks(np.exp(np.linspace(np.log(0.01), np.log(.5), 12)), labels=['1/'+str(round(1/el,0) )for el in np.exp(np.linspace(np.log(0.01), np.log(.5), 12))], rotation=70)\n",
    "plt.show()"
   ]
  },
  {
   "cell_type": "code",
   "execution_count": null,
   "id": "0a6d4d6d",
   "metadata": {},
   "outputs": [],
   "source": []
  },
  {
   "cell_type": "code",
   "execution_count": 74,
   "id": "b591f7fa",
   "metadata": {},
   "outputs": [
    {
     "data": {
      "text/plain": [
       "(array([  2.71828183,   7.3890561 ,  20.08553692,  54.59815003,\n",
       "        148.4131591 ]),\n",
       " array([0.01  , 0.1325, 0.255 , 0.3775, 0.5   ]))"
      ]
     },
     "execution_count": 74,
     "metadata": {},
     "output_type": "execute_result"
    }
   ],
   "source": [
    "np.exp(np.linspace(1,5, 5)), np.linspace(.01,.5, 5)"
   ]
  },
  {
   "cell_type": "code",
   "execution_count": 75,
   "id": "12cc6e97",
   "metadata": {},
   "outputs": [],
   "source": [
    "def get_box(sx, sy, sz, l):\n",
    "    \n",
    "    variants = [(l[0], l[1], l[2]),\n",
    "                (l[0], l[2], l[1]),\n",
    "                (l[1], l[0], l[2]),\n",
    "                (l[1], l[2], l[0]),\n",
    "                (l[2], l[0], l[1]),\n",
    "                (l[2], l[1], l[0])\n",
    "                ]\n",
    "    min_box = 1000\n",
    "    for v in variants:\n",
    "        box_x = sx.index(v[0])\n",
    "        box_y = sy.index(v[1])\n",
    "        box_z = sz.index(v[2])\n",
    "        box = max(box_x, box_y, box_z)\n",
    "        if box<min_box:\n",
    "            min_box = box\n",
    "            \n",
    "    return min_box\n",
    "        "
   ]
  },
  {
   "cell_type": "code",
   "execution_count": 76,
   "id": "8ed97d42",
   "metadata": {},
   "outputs": [
    {
     "data": {
      "text/plain": [
       "True"
      ]
     },
     "execution_count": 76,
     "metadata": {},
     "output_type": "execute_result"
    }
   ],
   "source": [
    "sx = range(-2, 5)\n",
    "sy = range(-1, 6)\n",
    "sz = range(7)\n",
    "box = (4,2,3)\n",
    "get_box(sx, sy, sz, box) == 4"
   ]
  },
  {
   "cell_type": "code",
   "execution_count": 77,
   "id": "b8f64c26",
   "metadata": {},
   "outputs": [
    {
     "data": {
      "text/plain": [
       "True"
      ]
     },
     "execution_count": 77,
     "metadata": {},
     "output_type": "execute_result"
    }
   ],
   "source": [
    "sx = range(7)\n",
    "sy = range(-2, 5)\n",
    "sz = range(-1,6)\n",
    "box = (4,2,3)\n",
    "get_box(sx, sy, sz, box) == 4"
   ]
  },
  {
   "cell_type": "code",
   "execution_count": 168,
   "id": "79f5f2f4",
   "metadata": {},
   "outputs": [
    {
     "data": {
      "image/png": "[encoded data removed]",
      "text/plain": [
       "<Figure size 1152x720 with 1 Axes>"
      ]
     },
     "metadata": {
      "needs_background": "light"
     },
     "output_type": "display_data"
    }
   ],
   "source": [
    "from chromosome_segregation.run_saw import load_and_process_results\n",
    "\n",
    "load_and_process_results()"
   ]
  },
  {
   "cell_type": "code",
   "execution_count": 177,
   "id": "adcc6eff",
   "metadata": {},
   "outputs": [
    {
     "data": {
      "text/html": [
       "<div>\n",
       "<style scoped>\n",
       "    .dataframe tbody tr th:only-of-type {\n",
       "        vertical-align: middle;\n",
       "    }\n",
       "\n",
       "    .dataframe tbody tr th {\n",
       "        vertical-align: top;\n",
       "    }\n",
       "\n",
       "    .dataframe thead th {\n",
       "        text-align: right;\n",
       "    }\n",
       "</style>\n",
       "<table border=\"1\" class=\"dataframe\">\n",
       "  <thead>\n",
       "    <tr style=\"text-align: right;\">\n",
       "      <th></th>\n",
       "      <th>x</th>\n",
       "      <th>y</th>\n",
       "      <th>z</th>\n",
       "      <th>en_mean</th>\n",
       "      <th>en_std</th>\n",
       "      <th>n</th>\n",
       "      <th>area</th>\n",
       "    </tr>\n",
       "  </thead>\n",
       "  <tbody>\n",
       "    <tr>\n",
       "      <th>0</th>\n",
       "      <td>1.0</td>\n",
       "      <td>2.0</td>\n",
       "      <td>2.0</td>\n",
       "      <td>-0.587400</td>\n",
       "      <td>0.000000</td>\n",
       "      <td>2.0</td>\n",
       "      <td>4.0</td>\n",
       "    </tr>\n",
       "    <tr>\n",
       "      <th>1</th>\n",
       "      <td>1.0</td>\n",
       "      <td>3.0</td>\n",
       "      <td>3.0</td>\n",
       "      <td>-0.782800</td>\n",
       "      <td>0.000000</td>\n",
       "      <td>4.0</td>\n",
       "      <td>9.0</td>\n",
       "    </tr>\n",
       "    <tr>\n",
       "      <th>2</th>\n",
       "      <td>1.0</td>\n",
       "      <td>4.0</td>\n",
       "      <td>4.0</td>\n",
       "      <td>-0.770700</td>\n",
       "      <td>0.001445</td>\n",
       "      <td>8.0</td>\n",
       "      <td>16.0</td>\n",
       "    </tr>\n",
       "    <tr>\n",
       "      <th>3</th>\n",
       "      <td>1.0</td>\n",
       "      <td>5.0</td>\n",
       "      <td>5.0</td>\n",
       "      <td>-0.782700</td>\n",
       "      <td>0.001709</td>\n",
       "      <td>12.0</td>\n",
       "      <td>25.0</td>\n",
       "    </tr>\n",
       "    <tr>\n",
       "      <th>4</th>\n",
       "      <td>1.0</td>\n",
       "      <td>6.0</td>\n",
       "      <td>6.0</td>\n",
       "      <td>-0.779200</td>\n",
       "      <td>NaN</td>\n",
       "      <td>18.0</td>\n",
       "      <td>36.0</td>\n",
       "    </tr>\n",
       "    <tr>\n",
       "      <th>5</th>\n",
       "      <td>2.0</td>\n",
       "      <td>2.0</td>\n",
       "      <td>2.0</td>\n",
       "      <td>-0.782800</td>\n",
       "      <td>0.000000</td>\n",
       "      <td>4.0</td>\n",
       "      <td>4.0</td>\n",
       "    </tr>\n",
       "    <tr>\n",
       "      <th>6</th>\n",
       "      <td>2.0</td>\n",
       "      <td>3.0</td>\n",
       "      <td>3.0</td>\n",
       "      <td>-1.006050</td>\n",
       "      <td>0.000071</td>\n",
       "      <td>8.0</td>\n",
       "      <td>9.0</td>\n",
       "    </tr>\n",
       "    <tr>\n",
       "      <th>7</th>\n",
       "      <td>2.0</td>\n",
       "      <td>4.0</td>\n",
       "      <td>4.0</td>\n",
       "      <td>-1.101550</td>\n",
       "      <td>0.000289</td>\n",
       "      <td>16.0</td>\n",
       "      <td>16.0</td>\n",
       "    </tr>\n",
       "    <tr>\n",
       "      <th>8</th>\n",
       "      <td>2.0</td>\n",
       "      <td>5.0</td>\n",
       "      <td>5.0</td>\n",
       "      <td>-1.123800</td>\n",
       "      <td>0.000529</td>\n",
       "      <td>24.0</td>\n",
       "      <td>25.0</td>\n",
       "    </tr>\n",
       "    <tr>\n",
       "      <th>9</th>\n",
       "      <td>2.0</td>\n",
       "      <td>6.0</td>\n",
       "      <td>6.0</td>\n",
       "      <td>-1.139500</td>\n",
       "      <td>NaN</td>\n",
       "      <td>36.0</td>\n",
       "      <td>36.0</td>\n",
       "    </tr>\n",
       "    <tr>\n",
       "      <th>10</th>\n",
       "      <td>3.0</td>\n",
       "      <td>2.0</td>\n",
       "      <td>2.0</td>\n",
       "      <td>-0.919300</td>\n",
       "      <td>0.000000</td>\n",
       "      <td>6.0</td>\n",
       "      <td>4.0</td>\n",
       "    </tr>\n",
       "    <tr>\n",
       "      <th>11</th>\n",
       "      <td>3.0</td>\n",
       "      <td>3.0</td>\n",
       "      <td>3.0</td>\n",
       "      <td>-1.073200</td>\n",
       "      <td>0.000000</td>\n",
       "      <td>12.0</td>\n",
       "      <td>9.0</td>\n",
       "    </tr>\n",
       "    <tr>\n",
       "      <th>12</th>\n",
       "      <td>3.0</td>\n",
       "      <td>4.0</td>\n",
       "      <td>4.0</td>\n",
       "      <td>-1.190600</td>\n",
       "      <td>0.000490</td>\n",
       "      <td>24.0</td>\n",
       "      <td>16.0</td>\n",
       "    </tr>\n",
       "    <tr>\n",
       "      <th>13</th>\n",
       "      <td>3.0</td>\n",
       "      <td>5.0</td>\n",
       "      <td>5.0</td>\n",
       "      <td>-1.228067</td>\n",
       "      <td>0.000987</td>\n",
       "      <td>36.0</td>\n",
       "      <td>25.0</td>\n",
       "    </tr>\n",
       "    <tr>\n",
       "      <th>14</th>\n",
       "      <td>3.0</td>\n",
       "      <td>6.0</td>\n",
       "      <td>6.0</td>\n",
       "      <td>-1.242700</td>\n",
       "      <td>NaN</td>\n",
       "      <td>54.0</td>\n",
       "      <td>36.0</td>\n",
       "    </tr>\n",
       "    <tr>\n",
       "      <th>15</th>\n",
       "      <td>4.0</td>\n",
       "      <td>2.0</td>\n",
       "      <td>2.0</td>\n",
       "      <td>-0.998900</td>\n",
       "      <td>0.000000</td>\n",
       "      <td>8.0</td>\n",
       "      <td>4.0</td>\n",
       "    </tr>\n",
       "    <tr>\n",
       "      <th>16</th>\n",
       "      <td>4.0</td>\n",
       "      <td>3.0</td>\n",
       "      <td>3.0</td>\n",
       "      <td>-1.157400</td>\n",
       "      <td>0.000283</td>\n",
       "      <td>18.0</td>\n",
       "      <td>9.0</td>\n",
       "    </tr>\n",
       "    <tr>\n",
       "      <th>17</th>\n",
       "      <td>4.0</td>\n",
       "      <td>4.0</td>\n",
       "      <td>4.0</td>\n",
       "      <td>-1.197200</td>\n",
       "      <td>0.000356</td>\n",
       "      <td>32.0</td>\n",
       "      <td>16.0</td>\n",
       "    </tr>\n",
       "    <tr>\n",
       "      <th>18</th>\n",
       "      <td>4.0</td>\n",
       "      <td>5.0</td>\n",
       "      <td>5.0</td>\n",
       "      <td>-1.267800</td>\n",
       "      <td>0.000458</td>\n",
       "      <td>50.0</td>\n",
       "      <td>25.0</td>\n",
       "    </tr>\n",
       "    <tr>\n",
       "      <th>19</th>\n",
       "      <td>4.0</td>\n",
       "      <td>6.0</td>\n",
       "      <td>6.0</td>\n",
       "      <td>-1.289700</td>\n",
       "      <td>NaN</td>\n",
       "      <td>72.0</td>\n",
       "      <td>36.0</td>\n",
       "    </tr>\n",
       "    <tr>\n",
       "      <th>20</th>\n",
       "      <td>5.0</td>\n",
       "      <td>2.0</td>\n",
       "      <td>2.0</td>\n",
       "      <td>-0.976250</td>\n",
       "      <td>0.000071</td>\n",
       "      <td>10.0</td>\n",
       "      <td>4.0</td>\n",
       "    </tr>\n",
       "    <tr>\n",
       "      <th>21</th>\n",
       "      <td>5.0</td>\n",
       "      <td>3.0</td>\n",
       "      <td>3.0</td>\n",
       "      <td>-1.169650</td>\n",
       "      <td>0.000354</td>\n",
       "      <td>22.0</td>\n",
       "      <td>9.0</td>\n",
       "    </tr>\n",
       "    <tr>\n",
       "      <th>22</th>\n",
       "      <td>5.0</td>\n",
       "      <td>4.0</td>\n",
       "      <td>4.0</td>\n",
       "      <td>-1.245750</td>\n",
       "      <td>0.000370</td>\n",
       "      <td>40.0</td>\n",
       "      <td>16.0</td>\n",
       "    </tr>\n",
       "    <tr>\n",
       "      <th>23</th>\n",
       "      <td>5.0</td>\n",
       "      <td>5.0</td>\n",
       "      <td>5.0</td>\n",
       "      <td>-1.274067</td>\n",
       "      <td>0.004202</td>\n",
       "      <td>62.0</td>\n",
       "      <td>25.0</td>\n",
       "    </tr>\n",
       "    <tr>\n",
       "      <th>24</th>\n",
       "      <td>5.0</td>\n",
       "      <td>6.0</td>\n",
       "      <td>6.0</td>\n",
       "      <td>-1.312900</td>\n",
       "      <td>NaN</td>\n",
       "      <td>90.0</td>\n",
       "      <td>36.0</td>\n",
       "    </tr>\n",
       "    <tr>\n",
       "      <th>25</th>\n",
       "      <td>6.0</td>\n",
       "      <td>2.0</td>\n",
       "      <td>2.0</td>\n",
       "      <td>-0.944650</td>\n",
       "      <td>0.000071</td>\n",
       "      <td>12.0</td>\n",
       "      <td>4.0</td>\n",
       "    </tr>\n",
       "    <tr>\n",
       "      <th>26</th>\n",
       "      <td>6.0</td>\n",
       "      <td>3.0</td>\n",
       "      <td>3.0</td>\n",
       "      <td>-1.168350</td>\n",
       "      <td>0.000495</td>\n",
       "      <td>26.0</td>\n",
       "      <td>9.0</td>\n",
       "    </tr>\n",
       "    <tr>\n",
       "      <th>27</th>\n",
       "      <td>6.0</td>\n",
       "      <td>4.0</td>\n",
       "      <td>4.0</td>\n",
       "      <td>-1.253225</td>\n",
       "      <td>0.000690</td>\n",
       "      <td>48.0</td>\n",
       "      <td>16.0</td>\n",
       "    </tr>\n",
       "    <tr>\n",
       "      <th>28</th>\n",
       "      <td>6.0</td>\n",
       "      <td>5.0</td>\n",
       "      <td>5.0</td>\n",
       "      <td>-1.305167</td>\n",
       "      <td>0.002312</td>\n",
       "      <td>74.0</td>\n",
       "      <td>25.0</td>\n",
       "    </tr>\n",
       "    <tr>\n",
       "      <th>29</th>\n",
       "      <td>6.0</td>\n",
       "      <td>6.0</td>\n",
       "      <td>6.0</td>\n",
       "      <td>NaN</td>\n",
       "      <td>NaN</td>\n",
       "      <td>108.0</td>\n",
       "      <td>36.0</td>\n",
       "    </tr>\n",
       "    <tr>\n",
       "      <th>30</th>\n",
       "      <td>7.0</td>\n",
       "      <td>2.0</td>\n",
       "      <td>2.0</td>\n",
       "      <td>-0.918550</td>\n",
       "      <td>0.001344</td>\n",
       "      <td>14.0</td>\n",
       "      <td>4.0</td>\n",
       "    </tr>\n",
       "    <tr>\n",
       "      <th>31</th>\n",
       "      <td>7.0</td>\n",
       "      <td>3.0</td>\n",
       "      <td>3.0</td>\n",
       "      <td>-1.165400</td>\n",
       "      <td>0.000141</td>\n",
       "      <td>30.0</td>\n",
       "      <td>9.0</td>\n",
       "    </tr>\n",
       "    <tr>\n",
       "      <th>32</th>\n",
       "      <td>7.0</td>\n",
       "      <td>4.0</td>\n",
       "      <td>4.0</td>\n",
       "      <td>-1.258400</td>\n",
       "      <td>0.001042</td>\n",
       "      <td>56.0</td>\n",
       "      <td>16.0</td>\n",
       "    </tr>\n",
       "    <tr>\n",
       "      <th>33</th>\n",
       "      <td>7.0</td>\n",
       "      <td>5.0</td>\n",
       "      <td>5.0</td>\n",
       "      <td>-1.314767</td>\n",
       "      <td>0.006048</td>\n",
       "      <td>86.0</td>\n",
       "      <td>25.0</td>\n",
       "    </tr>\n",
       "    <tr>\n",
       "      <th>34</th>\n",
       "      <td>7.0</td>\n",
       "      <td>6.0</td>\n",
       "      <td>6.0</td>\n",
       "      <td>NaN</td>\n",
       "      <td>NaN</td>\n",
       "      <td>126.0</td>\n",
       "      <td>36.0</td>\n",
       "    </tr>\n",
       "    <tr>\n",
       "      <th>35</th>\n",
       "      <td>8.0</td>\n",
       "      <td>2.0</td>\n",
       "      <td>2.0</td>\n",
       "      <td>-0.899200</td>\n",
       "      <td>0.000141</td>\n",
       "      <td>16.0</td>\n",
       "      <td>4.0</td>\n",
       "    </tr>\n",
       "    <tr>\n",
       "      <th>36</th>\n",
       "      <td>8.0</td>\n",
       "      <td>3.0</td>\n",
       "      <td>3.0</td>\n",
       "      <td>-1.155600</td>\n",
       "      <td>0.000707</td>\n",
       "      <td>36.0</td>\n",
       "      <td>9.0</td>\n",
       "    </tr>\n",
       "    <tr>\n",
       "      <th>37</th>\n",
       "      <td>8.0</td>\n",
       "      <td>4.0</td>\n",
       "      <td>4.0</td>\n",
       "      <td>-1.261025</td>\n",
       "      <td>0.005619</td>\n",
       "      <td>64.0</td>\n",
       "      <td>16.0</td>\n",
       "    </tr>\n",
       "    <tr>\n",
       "      <th>38</th>\n",
       "      <td>8.0</td>\n",
       "      <td>5.0</td>\n",
       "      <td>5.0</td>\n",
       "      <td>-1.332300</td>\n",
       "      <td>NaN</td>\n",
       "      <td>100.0</td>\n",
       "      <td>25.0</td>\n",
       "    </tr>\n",
       "    <tr>\n",
       "      <th>39</th>\n",
       "      <td>8.0</td>\n",
       "      <td>6.0</td>\n",
       "      <td>6.0</td>\n",
       "      <td>NaN</td>\n",
       "      <td>NaN</td>\n",
       "      <td>144.0</td>\n",
       "      <td>36.0</td>\n",
       "    </tr>\n",
       "    <tr>\n",
       "      <th>40</th>\n",
       "      <td>9.0</td>\n",
       "      <td>4.0</td>\n",
       "      <td>4.0</td>\n",
       "      <td>-1.275300</td>\n",
       "      <td>NaN</td>\n",
       "      <td>72.0</td>\n",
       "      <td>16.0</td>\n",
       "    </tr>\n",
       "    <tr>\n",
       "      <th>41</th>\n",
       "      <td>9.0</td>\n",
       "      <td>5.0</td>\n",
       "      <td>5.0</td>\n",
       "      <td>NaN</td>\n",
       "      <td>NaN</td>\n",
       "      <td>112.0</td>\n",
       "      <td>25.0</td>\n",
       "    </tr>\n",
       "    <tr>\n",
       "      <th>42</th>\n",
       "      <td>10.0</td>\n",
       "      <td>4.0</td>\n",
       "      <td>4.0</td>\n",
       "      <td>NaN</td>\n",
       "      <td>NaN</td>\n",
       "      <td>80.0</td>\n",
       "      <td>16.0</td>\n",
       "    </tr>\n",
       "    <tr>\n",
       "      <th>43</th>\n",
       "      <td>10.0</td>\n",
       "      <td>5.0</td>\n",
       "      <td>5.0</td>\n",
       "      <td>NaN</td>\n",
       "      <td>NaN</td>\n",
       "      <td>124.0</td>\n",
       "      <td>25.0</td>\n",
       "    </tr>\n",
       "  </tbody>\n",
       "</table>\n",
       "</div>"
      ],
      "text/plain": [
       "       x    y    z   en_mean    en_std      n  area\n",
       "0    1.0  2.0  2.0 -0.587400  0.000000    2.0   4.0\n",
       "1    1.0  3.0  3.0 -0.782800  0.000000    4.0   9.0\n",
       "2    1.0  4.0  4.0 -0.770700  0.001445    8.0  16.0\n",
       "3    1.0  5.0  5.0 -0.782700  0.001709   12.0  25.0\n",
       "4    1.0  6.0  6.0 -0.779200       NaN   18.0  36.0\n",
       "5    2.0  2.0  2.0 -0.782800  0.000000    4.0   4.0\n",
       "6    2.0  3.0  3.0 -1.006050  0.000071    8.0   9.0\n",
       "7    2.0  4.0  4.0 -1.101550  0.000289   16.0  16.0\n",
       "8    2.0  5.0  5.0 -1.123800  0.000529   24.0  25.0\n",
       "9    2.0  6.0  6.0 -1.139500       NaN   36.0  36.0\n",
       "10   3.0  2.0  2.0 -0.919300  0.000000    6.0   4.0\n",
       "11   3.0  3.0  3.0 -1.073200  0.000000   12.0   9.0\n",
       "12   3.0  4.0  4.0 -1.190600  0.000490   24.0  16.0\n",
       "13   3.0  5.0  5.0 -1.228067  0.000987   36.0  25.0\n",
       "14   3.0  6.0  6.0 -1.242700       NaN   54.0  36.0\n",
       "15   4.0  2.0  2.0 -0.998900  0.000000    8.0   4.0\n",
       "16   4.0  3.0  3.0 -1.157400  0.000283   18.0   9.0\n",
       "17   4.0  4.0  4.0 -1.197200  0.000356   32.0  16.0\n",
       "18   4.0  5.0  5.0 -1.267800  0.000458   50.0  25.0\n",
       "19   4.0  6.0  6.0 -1.289700       NaN   72.0  36.0\n",
       "20   5.0  2.0  2.0 -0.976250  0.000071   10.0   4.0\n",
       "21   5.0  3.0  3.0 -1.169650  0.000354   22.0   9.0\n",
       "22   5.0  4.0  4.0 -1.245750  0.000370   40.0  16.0\n",
       "23   5.0  5.0  5.0 -1.274067  0.004202   62.0  25.0\n",
       "24   5.0  6.0  6.0 -1.312900       NaN   90.0  36.0\n",
       "25   6.0  2.0  2.0 -0.944650  0.000071   12.0   4.0\n",
       "26   6.0  3.0  3.0 -1.168350  0.000495   26.0   9.0\n",
       "27   6.0  4.0  4.0 -1.253225  0.000690   48.0  16.0\n",
       "28   6.0  5.0  5.0 -1.305167  0.002312   74.0  25.0\n",
       "29   6.0  6.0  6.0       NaN       NaN  108.0  36.0\n",
       "30   7.0  2.0  2.0 -0.918550  0.001344   14.0   4.0\n",
       "31   7.0  3.0  3.0 -1.165400  0.000141   30.0   9.0\n",
       "32   7.0  4.0  4.0 -1.258400  0.001042   56.0  16.0\n",
       "33   7.0  5.0  5.0 -1.314767  0.006048   86.0  25.0\n",
       "34   7.0  6.0  6.0       NaN       NaN  126.0  36.0\n",
       "35   8.0  2.0  2.0 -0.899200  0.000141   16.0   4.0\n",
       "36   8.0  3.0  3.0 -1.155600  0.000707   36.0   9.0\n",
       "37   8.0  4.0  4.0 -1.261025  0.005619   64.0  16.0\n",
       "38   8.0  5.0  5.0 -1.332300       NaN  100.0  25.0\n",
       "39   8.0  6.0  6.0       NaN       NaN  144.0  36.0\n",
       "40   9.0  4.0  4.0 -1.275300       NaN   72.0  16.0\n",
       "41   9.0  5.0  5.0       NaN       NaN  112.0  25.0\n",
       "42  10.0  4.0  4.0       NaN       NaN   80.0  16.0\n",
       "43  10.0  5.0  5.0       NaN       NaN  124.0  25.0"
      ]
     },
     "execution_count": 177,
     "metadata": {},
     "output_type": "execute_result"
    }
   ],
   "source": [
    "aggregated"
   ]
  },
  {
   "cell_type": "code",
   "execution_count": 178,
   "id": "25471ff8",
   "metadata": {},
   "outputs": [
    {
     "name": "stderr",
     "output_type": "stream",
     "text": [
      "/var/folders/zr/t79_wh252w1d3vc6snt72_lh0000gn/T/ipykernel_35688/3608185589.py:5: MatplotlibDeprecationWarning: Axes3D(fig) adding itself to the figure is deprecated since 3.4. Pass the keyword argument auto_add_to_figure=False and use fig.add_axes(ax) to suppress this warning. The default value of auto_add_to_figure will change to False in mpl3.5 and True values will no longer work in 3.6.  This is consistent with other Axes classes.\n",
      "  ax = Axes3D(fig)\n"
     ]
    },
    {
     "data": {
      "text/plain": [
       "<mpl_toolkits.mplot3d.art3d.Poly3DCollection at 0x1320c16d0>"
      ]
     },
     "execution_count": 178,
     "metadata": {},
     "output_type": "execute_result"
    },
    {
     "data": {
      "image/png": "[encoded data removed]",
      "text/plain": [
       "<Figure size 432x288 with 1 Axes>"
      ]
     },
     "metadata": {
      "needs_background": "light"
     },
     "output_type": "display_data"
    }
   ],
   "source": [
    "from mpl_toolkits.mplot3d import Axes3D\n",
    "from matplotlib import cm\n",
    "\n",
    "fig = plt.figure()\n",
    "ax = Axes3D(fig)\n",
    "ax.plot_trisurf(aggregated.x, aggregated.area, aggregated.en_mean, cmap=cm.jet, linewidth=0.2)\n"
   ]
  },
  {
   "cell_type": "code",
   "execution_count": 179,
   "id": "a970c652",
   "metadata": {},
   "outputs": [],
   "source": [
    "# mesh = ipv.plot_trisurf(x, y, z,  color='orange')\n",
    "# ipv.show()\n"
   ]
  },
  {
   "cell_type": "code",
   "execution_count": 180,
   "id": "1b148713",
   "metadata": {},
   "outputs": [],
   "source": [
    "import ipyvolume as ipv\n",
    "# # x, y, z, u, v = ipv.examples.klein_bottle(draw=False)\n",
    "# ipv.figure()\n",
    "# x = aggregated['x']\n",
    "# y = aggregated['area']\n",
    "# z = aggregated['en_mean']\n",
    "# m = ipv.plot_mesh(x, y, z, wireframe=False)\n",
    "# ipv.squarelim()\n",
    "# ipv.show()"
   ]
  },
  {
   "cell_type": "code",
   "execution_count": 181,
   "id": "5fec952a",
   "metadata": {},
   "outputs": [],
   "source": [
    "# a = np.arange(-5, 5)\n",
    "# U, V = np.meshgrid(a, a)\n",
    "# X = U\n",
    "# Y = V\n",
    "# Z = X*Y**2\n",
    "# ipv.figure()\n",
    "# ipv.plot_surface(X, Z, Y, color=\"orange\")\n",
    "# ipv.plot_wireframe(X, Z, Y, color=\"red\")\n",
    "# ipv.show()"
   ]
  },
  {
   "cell_type": "code",
   "execution_count": 187,
   "id": "8db3dd7d",
   "metadata": {},
   "outputs": [
    {
     "data": {
      "text/plain": [
       "array([[nan, nan, nan, nan, nan, nan, nan, nan, nan, nan],\n",
       "       [nan, nan, nan, nan, nan, nan, nan, nan, nan, nan],\n",
       "       [nan, nan, nan, nan, nan, nan, nan, nan, nan, nan],\n",
       "       [nan, nan, nan, nan, nan, nan, nan, nan, nan, nan],\n",
       "       [nan, nan, nan, nan, nan, nan, nan, nan, nan, nan]])"
      ]
     },
     "execution_count": 187,
     "metadata": {},
     "output_type": "execute_result"
    }
   ],
   "source": [
    "# # aggregated['x'].values.reshape(10,4), aggregated['area'].values.reshape(9,4)\n",
    "nans = np.full((5,10), np.nan)\n",
    "nans\n"
   ]
  },
  {
   "cell_type": "code",
   "execution_count": 188,
   "id": "7707ad07",
   "metadata": {},
   "outputs": [],
   "source": [
    "X, Y = np.meshgrid(range(1,11), [4,9,16,25,36])\n",
    "# X, Y"
   ]
  },
  {
   "cell_type": "code",
   "execution_count": 189,
   "id": "009a01be",
   "metadata": {},
   "outputs": [],
   "source": [
    "for index, row in aggregated.iterrows():\n",
    "    idx = np.intersect1d(np.where(X.ravel()==row['x']) , np.where(Y.ravel()==row['area']) )[0]\n",
    "    nans.ravel()[idx] = row['en_mean']\n",
    "   \n"
   ]
  },
  {
   "cell_type": "code",
   "execution_count": 190,
   "id": "250ea12b",
   "metadata": {},
   "outputs": [],
   "source": [
    "# nans, X, Y"
   ]
  },
  {
   "cell_type": "code",
   "execution_count": null,
   "id": "79276bc1",
   "metadata": {},
   "outputs": [],
   "source": []
  },
  {
   "cell_type": "code",
   "execution_count": 220,
   "id": "0645d6f1",
   "metadata": {},
   "outputs": [
    {
     "name": "stderr",
     "output_type": "stream",
     "text": [
      "/var/folders/zr/t79_wh252w1d3vc6snt72_lh0000gn/T/ipykernel_35688/545410621.py:9: SettingWithCopyWarning: \n",
      "A value is trying to be set on a copy of a slice from a DataFrame\n",
      "\n",
      "See the caveats in the documentation: https://pandas.pydata.org/pandas-docs/stable/user_guide/indexing.html#returning-a-view-versus-a-copy\n",
      "  ttt['en_mean'][nan_index] =  2*ttt['en_mean'][nan_index-1] - ttt['en_mean'][nan_index-2]\n"
     ]
    },
    {
     "data": {
      "text/plain": [
       "(array([1., 2., 3., 4., 5., 6., 7., 8.]),\n",
       " array([ 4.,  9., 16., 25., 36.]),\n",
       " 0    -0.587400\n",
       " 1    -0.782800\n",
       " 2    -0.770700\n",
       " 3    -0.782700\n",
       " 4    -0.779200\n",
       " 5    -0.782800\n",
       " 6    -1.006050\n",
       " 7    -1.101550\n",
       " 8    -1.123800\n",
       " 9    -1.139500\n",
       " 10   -0.919300\n",
       " 11   -1.073200\n",
       " 12   -1.190600\n",
       " 13   -1.228067\n",
       " 14   -1.242700\n",
       " 15   -0.998900\n",
       " 16   -1.157400\n",
       " 17   -1.197200\n",
       " 18   -1.267800\n",
       " 19   -1.289700\n",
       " 20   -0.976250\n",
       " 21   -1.169650\n",
       " 22   -1.245750\n",
       " 23   -1.274067\n",
       " 24   -1.312900\n",
       " 25   -0.944650\n",
       " 26   -1.168350\n",
       " 27   -1.253225\n",
       " 28   -1.305167\n",
       " 29   -1.357108\n",
       " 30   -0.918550\n",
       " 31   -1.165400\n",
       " 32   -1.258400\n",
       " 33   -1.314767\n",
       " 34   -1.371133\n",
       " 35   -0.899200\n",
       " 36   -1.155600\n",
       " 37   -1.261025\n",
       " 38   -1.332300\n",
       " 39   -1.403575\n",
       " Name: en_mean, dtype: float64)"
      ]
     },
     "execution_count": 220,
     "metadata": {},
     "output_type": "execute_result"
    }
   ],
   "source": [
    "from scipy import interpolate\n",
    "\n",
    "# z = np.sin(xx**2+yy**2)\n",
    "\n",
    "ttt = aggregated[aggregated['x']<9]\n",
    "\n",
    "# healing\n",
    "for nan_index in np.where(ttt['en_mean'] != ttt['en_mean'])[0]:\n",
    "    ttt['en_mean'][nan_index] =  2*ttt['en_mean'][nan_index-1] - ttt['en_mean'][nan_index-2]\n",
    "    \n",
    "\n",
    "x = ttt['x'].unique()\n",
    "y = ttt['area'].unique()\n",
    "z = ttt['en_mean']\n",
    "\n",
    "f = interpolate.interp2d(x, y, z, kind='linear')\n",
    "\n",
    "x,y,z"
   ]
  },
  {
   "cell_type": "code",
   "execution_count": 222,
   "id": "31a274bc",
   "metadata": {},
   "outputs": [],
   "source": [
    "# np.where(ttt['en_mean'] != ttt['en_mean'])[0][0]"
   ]
  },
  {
   "cell_type": "code",
   "execution_count": 224,
   "id": "4ec14819",
   "metadata": {},
   "outputs": [
    {
     "data": {
      "text/plain": [
       "(array([[1.        , 1.24137931, 1.48275862, 1.72413793, 1.96551724,\n",
       "         2.20689655, 2.44827586, 2.68965517, 2.93103448, 3.17241379,\n",
       "         3.4137931 , 3.65517241, 3.89655172, 4.13793103, 4.37931034,\n",
       "         4.62068966, 4.86206897, 5.10344828, 5.34482759, 5.5862069 ,\n",
       "         5.82758621, 6.06896552, 6.31034483, 6.55172414, 6.79310345,\n",
       "         7.03448276, 7.27586207, 7.51724138, 7.75862069, 8.        ],\n",
       "        [1.        , 1.24137931, 1.48275862, 1.72413793, 1.96551724,\n",
       "         2.20689655, 2.44827586, 2.68965517, 2.93103448, 3.17241379,\n",
       "         3.4137931 , 3.65517241, 3.89655172, 4.13793103, 4.37931034,\n",
       "         4.62068966, 4.86206897, 5.10344828, 5.34482759, 5.5862069 ,\n",
       "         5.82758621, 6.06896552, 6.31034483, 6.55172414, 6.79310345,\n",
       "         7.03448276, 7.27586207, 7.51724138, 7.75862069, 8.        ],\n",
       "        [1.        , 1.24137931, 1.48275862, 1.72413793, 1.96551724,\n",
       "         2.20689655, 2.44827586, 2.68965517, 2.93103448, 3.17241379,\n",
       "         3.4137931 , 3.65517241, 3.89655172, 4.13793103, 4.37931034,\n",
       "         4.62068966, 4.86206897, 5.10344828, 5.34482759, 5.5862069 ,\n",
       "         5.82758621, 6.06896552, 6.31034483, 6.55172414, 6.79310345,\n",
       "         7.03448276, 7.27586207, 7.51724138, 7.75862069, 8.        ],\n",
       "        [1.        , 1.24137931, 1.48275862, 1.72413793, 1.96551724,\n",
       "         2.20689655, 2.44827586, 2.68965517, 2.93103448, 3.17241379,\n",
       "         3.4137931 , 3.65517241, 3.89655172, 4.13793103, 4.37931034,\n",
       "         4.62068966, 4.86206897, 5.10344828, 5.34482759, 5.5862069 ,\n",
       "         5.82758621, 6.06896552, 6.31034483, 6.55172414, 6.79310345,\n",
       "         7.03448276, 7.27586207, 7.51724138, 7.75862069, 8.        ],\n",
       "        [1.        , 1.24137931, 1.48275862, 1.72413793, 1.96551724,\n",
       "         2.20689655, 2.44827586, 2.68965517, 2.93103448, 3.17241379,\n",
       "         3.4137931 , 3.65517241, 3.89655172, 4.13793103, 4.37931034,\n",
       "         4.62068966, 4.86206897, 5.10344828, 5.34482759, 5.5862069 ,\n",
       "         5.82758621, 6.06896552, 6.31034483, 6.55172414, 6.79310345,\n",
       "         7.03448276, 7.27586207, 7.51724138, 7.75862069, 8.        ],\n",
       "        [1.        , 1.24137931, 1.48275862, 1.72413793, 1.96551724,\n",
       "         2.20689655, 2.44827586, 2.68965517, 2.93103448, 3.17241379,\n",
       "         3.4137931 , 3.65517241, 3.89655172, 4.13793103, 4.37931034,\n",
       "         4.62068966, 4.86206897, 5.10344828, 5.34482759, 5.5862069 ,\n",
       "         5.82758621, 6.06896552, 6.31034483, 6.55172414, 6.79310345,\n",
       "         7.03448276, 7.27586207, 7.51724138, 7.75862069, 8.        ],\n",
       "        [1.        , 1.24137931, 1.48275862, 1.72413793, 1.96551724,\n",
       "         2.20689655, 2.44827586, 2.68965517, 2.93103448, 3.17241379,\n",
       "         3.4137931 , 3.65517241, 3.89655172, 4.13793103, 4.37931034,\n",
       "         4.62068966, 4.86206897, 5.10344828, 5.34482759, 5.5862069 ,\n",
       "         5.82758621, 6.06896552, 6.31034483, 6.55172414, 6.79310345,\n",
       "         7.03448276, 7.27586207, 7.51724138, 7.75862069, 8.        ],\n",
       "        [1.        , 1.24137931, 1.48275862, 1.72413793, 1.96551724,\n",
       "         2.20689655, 2.44827586, 2.68965517, 2.93103448, 3.17241379,\n",
       "         3.4137931 , 3.65517241, 3.89655172, 4.13793103, 4.37931034,\n",
       "         4.62068966, 4.86206897, 5.10344828, 5.34482759, 5.5862069 ,\n",
       "         5.82758621, 6.06896552, 6.31034483, 6.55172414, 6.79310345,\n",
       "         7.03448276, 7.27586207, 7.51724138, 7.75862069, 8.        ],\n",
       "        [1.        , 1.24137931, 1.48275862, 1.72413793, 1.96551724,\n",
       "         2.20689655, 2.44827586, 2.68965517, 2.93103448, 3.17241379,\n",
       "         3.4137931 , 3.65517241, 3.89655172, 4.13793103, 4.37931034,\n",
       "         4.62068966, 4.86206897, 5.10344828, 5.34482759, 5.5862069 ,\n",
       "         5.82758621, 6.06896552, 6.31034483, 6.55172414, 6.79310345,\n",
       "         7.03448276, 7.27586207, 7.51724138, 7.75862069, 8.        ],\n",
       "        [1.        , 1.24137931, 1.48275862, 1.72413793, 1.96551724,\n",
       "         2.20689655, 2.44827586, 2.68965517, 2.93103448, 3.17241379,\n",
       "         3.4137931 , 3.65517241, 3.89655172, 4.13793103, 4.37931034,\n",
       "         4.62068966, 4.86206897, 5.10344828, 5.34482759, 5.5862069 ,\n",
       "         5.82758621, 6.06896552, 6.31034483, 6.55172414, 6.79310345,\n",
       "         7.03448276, 7.27586207, 7.51724138, 7.75862069, 8.        ],\n",
       "        [1.        , 1.24137931, 1.48275862, 1.72413793, 1.96551724,\n",
       "         2.20689655, 2.44827586, 2.68965517, 2.93103448, 3.17241379,\n",
       "         3.4137931 , 3.65517241, 3.89655172, 4.13793103, 4.37931034,\n",
       "         4.62068966, 4.86206897, 5.10344828, 5.34482759, 5.5862069 ,\n",
       "         5.82758621, 6.06896552, 6.31034483, 6.55172414, 6.79310345,\n",
       "         7.03448276, 7.27586207, 7.51724138, 7.75862069, 8.        ],\n",
       "        [1.        , 1.24137931, 1.48275862, 1.72413793, 1.96551724,\n",
       "         2.20689655, 2.44827586, 2.68965517, 2.93103448, 3.17241379,\n",
       "         3.4137931 , 3.65517241, 3.89655172, 4.13793103, 4.37931034,\n",
       "         4.62068966, 4.86206897, 5.10344828, 5.34482759, 5.5862069 ,\n",
       "         5.82758621, 6.06896552, 6.31034483, 6.55172414, 6.79310345,\n",
       "         7.03448276, 7.27586207, 7.51724138, 7.75862069, 8.        ],\n",
       "        [1.        , 1.24137931, 1.48275862, 1.72413793, 1.96551724,\n",
       "         2.20689655, 2.44827586, 2.68965517, 2.93103448, 3.17241379,\n",
       "         3.4137931 , 3.65517241, 3.89655172, 4.13793103, 4.37931034,\n",
       "         4.62068966, 4.86206897, 5.10344828, 5.34482759, 5.5862069 ,\n",
       "         5.82758621, 6.06896552, 6.31034483, 6.55172414, 6.79310345,\n",
       "         7.03448276, 7.27586207, 7.51724138, 7.75862069, 8.        ],\n",
       "        [1.        , 1.24137931, 1.48275862, 1.72413793, 1.96551724,\n",
       "         2.20689655, 2.44827586, 2.68965517, 2.93103448, 3.17241379,\n",
       "         3.4137931 , 3.65517241, 3.89655172, 4.13793103, 4.37931034,\n",
       "         4.62068966, 4.86206897, 5.10344828, 5.34482759, 5.5862069 ,\n",
       "         5.82758621, 6.06896552, 6.31034483, 6.55172414, 6.79310345,\n",
       "         7.03448276, 7.27586207, 7.51724138, 7.75862069, 8.        ],\n",
       "        [1.        , 1.24137931, 1.48275862, 1.72413793, 1.96551724,\n",
       "         2.20689655, 2.44827586, 2.68965517, 2.93103448, 3.17241379,\n",
       "         3.4137931 , 3.65517241, 3.89655172, 4.13793103, 4.37931034,\n",
       "         4.62068966, 4.86206897, 5.10344828, 5.34482759, 5.5862069 ,\n",
       "         5.82758621, 6.06896552, 6.31034483, 6.55172414, 6.79310345,\n",
       "         7.03448276, 7.27586207, 7.51724138, 7.75862069, 8.        ],\n",
       "        [1.        , 1.24137931, 1.48275862, 1.72413793, 1.96551724,\n",
       "         2.20689655, 2.44827586, 2.68965517, 2.93103448, 3.17241379,\n",
       "         3.4137931 , 3.65517241, 3.89655172, 4.13793103, 4.37931034,\n",
       "         4.62068966, 4.86206897, 5.10344828, 5.34482759, 5.5862069 ,\n",
       "         5.82758621, 6.06896552, 6.31034483, 6.55172414, 6.79310345,\n",
       "         7.03448276, 7.27586207, 7.51724138, 7.75862069, 8.        ],\n",
       "        [1.        , 1.24137931, 1.48275862, 1.72413793, 1.96551724,\n",
       "         2.20689655, 2.44827586, 2.68965517, 2.93103448, 3.17241379,\n",
       "         3.4137931 , 3.65517241, 3.89655172, 4.13793103, 4.37931034,\n",
       "         4.62068966, 4.86206897, 5.10344828, 5.34482759, 5.5862069 ,\n",
       "         5.82758621, 6.06896552, 6.31034483, 6.55172414, 6.79310345,\n",
       "         7.03448276, 7.27586207, 7.51724138, 7.75862069, 8.        ],\n",
       "        [1.        , 1.24137931, 1.48275862, 1.72413793, 1.96551724,\n",
       "         2.20689655, 2.44827586, 2.68965517, 2.93103448, 3.17241379,\n",
       "         3.4137931 , 3.65517241, 3.89655172, 4.13793103, 4.37931034,\n",
       "         4.62068966, 4.86206897, 5.10344828, 5.34482759, 5.5862069 ,\n",
       "         5.82758621, 6.06896552, 6.31034483, 6.55172414, 6.79310345,\n",
       "         7.03448276, 7.27586207, 7.51724138, 7.75862069, 8.        ],\n",
       "        [1.        , 1.24137931, 1.48275862, 1.72413793, 1.96551724,\n",
       "         2.20689655, 2.44827586, 2.68965517, 2.93103448, 3.17241379,\n",
       "         3.4137931 , 3.65517241, 3.89655172, 4.13793103, 4.37931034,\n",
       "         4.62068966, 4.86206897, 5.10344828, 5.34482759, 5.5862069 ,\n",
       "         5.82758621, 6.06896552, 6.31034483, 6.55172414, 6.79310345,\n",
       "         7.03448276, 7.27586207, 7.51724138, 7.75862069, 8.        ],\n",
       "        [1.        , 1.24137931, 1.48275862, 1.72413793, 1.96551724,\n",
       "         2.20689655, 2.44827586, 2.68965517, 2.93103448, 3.17241379,\n",
       "         3.4137931 , 3.65517241, 3.89655172, 4.13793103, 4.37931034,\n",
       "         4.62068966, 4.86206897, 5.10344828, 5.34482759, 5.5862069 ,\n",
       "         5.82758621, 6.06896552, 6.31034483, 6.55172414, 6.79310345,\n",
       "         7.03448276, 7.27586207, 7.51724138, 7.75862069, 8.        ],\n",
       "        [1.        , 1.24137931, 1.48275862, 1.72413793, 1.96551724,\n",
       "         2.20689655, 2.44827586, 2.68965517, 2.93103448, 3.17241379,\n",
       "         3.4137931 , 3.65517241, 3.89655172, 4.13793103, 4.37931034,\n",
       "         4.62068966, 4.86206897, 5.10344828, 5.34482759, 5.5862069 ,\n",
       "         5.82758621, 6.06896552, 6.31034483, 6.55172414, 6.79310345,\n",
       "         7.03448276, 7.27586207, 7.51724138, 7.75862069, 8.        ],\n",
       "        [1.        , 1.24137931, 1.48275862, 1.72413793, 1.96551724,\n",
       "         2.20689655, 2.44827586, 2.68965517, 2.93103448, 3.17241379,\n",
       "         3.4137931 , 3.65517241, 3.89655172, 4.13793103, 4.37931034,\n",
       "         4.62068966, 4.86206897, 5.10344828, 5.34482759, 5.5862069 ,\n",
       "         5.82758621, 6.06896552, 6.31034483, 6.55172414, 6.79310345,\n",
       "         7.03448276, 7.27586207, 7.51724138, 7.75862069, 8.        ],\n",
       "        [1.        , 1.24137931, 1.48275862, 1.72413793, 1.96551724,\n",
       "         2.20689655, 2.44827586, 2.68965517, 2.93103448, 3.17241379,\n",
       "         3.4137931 , 3.65517241, 3.89655172, 4.13793103, 4.37931034,\n",
       "         4.62068966, 4.86206897, 5.10344828, 5.34482759, 5.5862069 ,\n",
       "         5.82758621, 6.06896552, 6.31034483, 6.55172414, 6.79310345,\n",
       "         7.03448276, 7.27586207, 7.51724138, 7.75862069, 8.        ],\n",
       "        [1.        , 1.24137931, 1.48275862, 1.72413793, 1.96551724,\n",
       "         2.20689655, 2.44827586, 2.68965517, 2.93103448, 3.17241379,\n",
       "         3.4137931 , 3.65517241, 3.89655172, 4.13793103, 4.37931034,\n",
       "         4.62068966, 4.86206897, 5.10344828, 5.34482759, 5.5862069 ,\n",
       "         5.82758621, 6.06896552, 6.31034483, 6.55172414, 6.79310345,\n",
       "         7.03448276, 7.27586207, 7.51724138, 7.75862069, 8.        ],\n",
       "        [1.        , 1.24137931, 1.48275862, 1.72413793, 1.96551724,\n",
       "         2.20689655, 2.44827586, 2.68965517, 2.93103448, 3.17241379,\n",
       "         3.4137931 , 3.65517241, 3.89655172, 4.13793103, 4.37931034,\n",
       "         4.62068966, 4.86206897, 5.10344828, 5.34482759, 5.5862069 ,\n",
       "         5.82758621, 6.06896552, 6.31034483, 6.55172414, 6.79310345,\n",
       "         7.03448276, 7.27586207, 7.51724138, 7.75862069, 8.        ],\n",
       "        [1.        , 1.24137931, 1.48275862, 1.72413793, 1.96551724,\n",
       "         2.20689655, 2.44827586, 2.68965517, 2.93103448, 3.17241379,\n",
       "         3.4137931 , 3.65517241, 3.89655172, 4.13793103, 4.37931034,\n",
       "         4.62068966, 4.86206897, 5.10344828, 5.34482759, 5.5862069 ,\n",
       "         5.82758621, 6.06896552, 6.31034483, 6.55172414, 6.79310345,\n",
       "         7.03448276, 7.27586207, 7.51724138, 7.75862069, 8.        ],\n",
       "        [1.        , 1.24137931, 1.48275862, 1.72413793, 1.96551724,\n",
       "         2.20689655, 2.44827586, 2.68965517, 2.93103448, 3.17241379,\n",
       "         3.4137931 , 3.65517241, 3.89655172, 4.13793103, 4.37931034,\n",
       "         4.62068966, 4.86206897, 5.10344828, 5.34482759, 5.5862069 ,\n",
       "         5.82758621, 6.06896552, 6.31034483, 6.55172414, 6.79310345,\n",
       "         7.03448276, 7.27586207, 7.51724138, 7.75862069, 8.        ],\n",
       "        [1.        , 1.24137931, 1.48275862, 1.72413793, 1.96551724,\n",
       "         2.20689655, 2.44827586, 2.68965517, 2.93103448, 3.17241379,\n",
       "         3.4137931 , 3.65517241, 3.89655172, 4.13793103, 4.37931034,\n",
       "         4.62068966, 4.86206897, 5.10344828, 5.34482759, 5.5862069 ,\n",
       "         5.82758621, 6.06896552, 6.31034483, 6.55172414, 6.79310345,\n",
       "         7.03448276, 7.27586207, 7.51724138, 7.75862069, 8.        ],\n",
       "        [1.        , 1.24137931, 1.48275862, 1.72413793, 1.96551724,\n",
       "         2.20689655, 2.44827586, 2.68965517, 2.93103448, 3.17241379,\n",
       "         3.4137931 , 3.65517241, 3.89655172, 4.13793103, 4.37931034,\n",
       "         4.62068966, 4.86206897, 5.10344828, 5.34482759, 5.5862069 ,\n",
       "         5.82758621, 6.06896552, 6.31034483, 6.55172414, 6.79310345,\n",
       "         7.03448276, 7.27586207, 7.51724138, 7.75862069, 8.        ],\n",
       "        [1.        , 1.24137931, 1.48275862, 1.72413793, 1.96551724,\n",
       "         2.20689655, 2.44827586, 2.68965517, 2.93103448, 3.17241379,\n",
       "         3.4137931 , 3.65517241, 3.89655172, 4.13793103, 4.37931034,\n",
       "         4.62068966, 4.86206897, 5.10344828, 5.34482759, 5.5862069 ,\n",
       "         5.82758621, 6.06896552, 6.31034483, 6.55172414, 6.79310345,\n",
       "         7.03448276, 7.27586207, 7.51724138, 7.75862069, 8.        ]]),\n",
       " array([[ 4.        ,  4.        ,  4.        ,  4.        ,  4.        ,\n",
       "          4.        ,  4.        ,  4.        ,  4.        ,  4.        ,\n",
       "          4.        ,  4.        ,  4.        ,  4.        ,  4.        ,\n",
       "          4.        ,  4.        ,  4.        ,  4.        ,  4.        ,\n",
       "          4.        ,  4.        ,  4.        ,  4.        ,  4.        ,\n",
       "          4.        ,  4.        ,  4.        ,  4.        ,  4.        ],\n",
       "        [ 5.10344828,  5.10344828,  5.10344828,  5.10344828,  5.10344828,\n",
       "          5.10344828,  5.10344828,  5.10344828,  5.10344828,  5.10344828,\n",
       "          5.10344828,  5.10344828,  5.10344828,  5.10344828,  5.10344828,\n",
       "          5.10344828,  5.10344828,  5.10344828,  5.10344828,  5.10344828,\n",
       "          5.10344828,  5.10344828,  5.10344828,  5.10344828,  5.10344828,\n",
       "          5.10344828,  5.10344828,  5.10344828,  5.10344828,  5.10344828],\n",
       "        [ 6.20689655,  6.20689655,  6.20689655,  6.20689655,  6.20689655,\n",
       "          6.20689655,  6.20689655,  6.20689655,  6.20689655,  6.20689655,\n",
       "          6.20689655,  6.20689655,  6.20689655,  6.20689655,  6.20689655,\n",
       "          6.20689655,  6.20689655,  6.20689655,  6.20689655,  6.20689655,\n",
       "          6.20689655,  6.20689655,  6.20689655,  6.20689655,  6.20689655,\n",
       "          6.20689655,  6.20689655,  6.20689655,  6.20689655,  6.20689655],\n",
       "        [ 7.31034483,  7.31034483,  7.31034483,  7.31034483,  7.31034483,\n",
       "          7.31034483,  7.31034483,  7.31034483,  7.31034483,  7.31034483,\n",
       "          7.31034483,  7.31034483,  7.31034483,  7.31034483,  7.31034483,\n",
       "          7.31034483,  7.31034483,  7.31034483,  7.31034483,  7.31034483,\n",
       "          7.31034483,  7.31034483,  7.31034483,  7.31034483,  7.31034483,\n",
       "          7.31034483,  7.31034483,  7.31034483,  7.31034483,  7.31034483],\n",
       "        [ 8.4137931 ,  8.4137931 ,  8.4137931 ,  8.4137931 ,  8.4137931 ,\n",
       "          8.4137931 ,  8.4137931 ,  8.4137931 ,  8.4137931 ,  8.4137931 ,\n",
       "          8.4137931 ,  8.4137931 ,  8.4137931 ,  8.4137931 ,  8.4137931 ,\n",
       "          8.4137931 ,  8.4137931 ,  8.4137931 ,  8.4137931 ,  8.4137931 ,\n",
       "          8.4137931 ,  8.4137931 ,  8.4137931 ,  8.4137931 ,  8.4137931 ,\n",
       "          8.4137931 ,  8.4137931 ,  8.4137931 ,  8.4137931 ,  8.4137931 ],\n",
       "        [ 9.51724138,  9.51724138,  9.51724138,  9.51724138,  9.51724138,\n",
       "          9.51724138,  9.51724138,  9.51724138,  9.51724138,  9.51724138,\n",
       "          9.51724138,  9.51724138,  9.51724138,  9.51724138,  9.51724138,\n",
       "          9.51724138,  9.51724138,  9.51724138,  9.51724138,  9.51724138,\n",
       "          9.51724138,  9.51724138,  9.51724138,  9.51724138,  9.51724138,\n",
       "          9.51724138,  9.51724138,  9.51724138,  9.51724138,  9.51724138],\n",
       "        [10.62068966, 10.62068966, 10.62068966, 10.62068966, 10.62068966,\n",
       "         10.62068966, 10.62068966, 10.62068966, 10.62068966, 10.62068966,\n",
       "         10.62068966, 10.62068966, 10.62068966, 10.62068966, 10.62068966,\n",
       "         10.62068966, 10.62068966, 10.62068966, 10.62068966, 10.62068966,\n",
       "         10.62068966, 10.62068966, 10.62068966, 10.62068966, 10.62068966,\n",
       "         10.62068966, 10.62068966, 10.62068966, 10.62068966, 10.62068966],\n",
       "        [11.72413793, 11.72413793, 11.72413793, 11.72413793, 11.72413793,\n",
       "         11.72413793, 11.72413793, 11.72413793, 11.72413793, 11.72413793,\n",
       "         11.72413793, 11.72413793, 11.72413793, 11.72413793, 11.72413793,\n",
       "         11.72413793, 11.72413793, 11.72413793, 11.72413793, 11.72413793,\n",
       "         11.72413793, 11.72413793, 11.72413793, 11.72413793, 11.72413793,\n",
       "         11.72413793, 11.72413793, 11.72413793, 11.72413793, 11.72413793],\n",
       "        [12.82758621, 12.82758621, 12.82758621, 12.82758621, 12.82758621,\n",
       "         12.82758621, 12.82758621, 12.82758621, 12.82758621, 12.82758621,\n",
       "         12.82758621, 12.82758621, 12.82758621, 12.82758621, 12.82758621,\n",
       "         12.82758621, 12.82758621, 12.82758621, 12.82758621, 12.82758621,\n",
       "         12.82758621, 12.82758621, 12.82758621, 12.82758621, 12.82758621,\n",
       "         12.82758621, 12.82758621, 12.82758621, 12.82758621, 12.82758621],\n",
       "        [13.93103448, 13.93103448, 13.93103448, 13.93103448, 13.93103448,\n",
       "         13.93103448, 13.93103448, 13.93103448, 13.93103448, 13.93103448,\n",
       "         13.93103448, 13.93103448, 13.93103448, 13.93103448, 13.93103448,\n",
       "         13.93103448, 13.93103448, 13.93103448, 13.93103448, 13.93103448,\n",
       "         13.93103448, 13.93103448, 13.93103448, 13.93103448, 13.93103448,\n",
       "         13.93103448, 13.93103448, 13.93103448, 13.93103448, 13.93103448],\n",
       "        [15.03448276, 15.03448276, 15.03448276, 15.03448276, 15.03448276,\n",
       "         15.03448276, 15.03448276, 15.03448276, 15.03448276, 15.03448276,\n",
       "         15.03448276, 15.03448276, 15.03448276, 15.03448276, 15.03448276,\n",
       "         15.03448276, 15.03448276, 15.03448276, 15.03448276, 15.03448276,\n",
       "         15.03448276, 15.03448276, 15.03448276, 15.03448276, 15.03448276,\n",
       "         15.03448276, 15.03448276, 15.03448276, 15.03448276, 15.03448276],\n",
       "        [16.13793103, 16.13793103, 16.13793103, 16.13793103, 16.13793103,\n",
       "         16.13793103, 16.13793103, 16.13793103, 16.13793103, 16.13793103,\n",
       "         16.13793103, 16.13793103, 16.13793103, 16.13793103, 16.13793103,\n",
       "         16.13793103, 16.13793103, 16.13793103, 16.13793103, 16.13793103,\n",
       "         16.13793103, 16.13793103, 16.13793103, 16.13793103, 16.13793103,\n",
       "         16.13793103, 16.13793103, 16.13793103, 16.13793103, 16.13793103],\n",
       "        [17.24137931, 17.24137931, 17.24137931, 17.24137931, 17.24137931,\n",
       "         17.24137931, 17.24137931, 17.24137931, 17.24137931, 17.24137931,\n",
       "         17.24137931, 17.24137931, 17.24137931, 17.24137931, 17.24137931,\n",
       "         17.24137931, 17.24137931, 17.24137931, 17.24137931, 17.24137931,\n",
       "         17.24137931, 17.24137931, 17.24137931, 17.24137931, 17.24137931,\n",
       "         17.24137931, 17.24137931, 17.24137931, 17.24137931, 17.24137931],\n",
       "        [18.34482759, 18.34482759, 18.34482759, 18.34482759, 18.34482759,\n",
       "         18.34482759, 18.34482759, 18.34482759, 18.34482759, 18.34482759,\n",
       "         18.34482759, 18.34482759, 18.34482759, 18.34482759, 18.34482759,\n",
       "         18.34482759, 18.34482759, 18.34482759, 18.34482759, 18.34482759,\n",
       "         18.34482759, 18.34482759, 18.34482759, 18.34482759, 18.34482759,\n",
       "         18.34482759, 18.34482759, 18.34482759, 18.34482759, 18.34482759],\n",
       "        [19.44827586, 19.44827586, 19.44827586, 19.44827586, 19.44827586,\n",
       "         19.44827586, 19.44827586, 19.44827586, 19.44827586, 19.44827586,\n",
       "         19.44827586, 19.44827586, 19.44827586, 19.44827586, 19.44827586,\n",
       "         19.44827586, 19.44827586, 19.44827586, 19.44827586, 19.44827586,\n",
       "         19.44827586, 19.44827586, 19.44827586, 19.44827586, 19.44827586,\n",
       "         19.44827586, 19.44827586, 19.44827586, 19.44827586, 19.44827586],\n",
       "        [20.55172414, 20.55172414, 20.55172414, 20.55172414, 20.55172414,\n",
       "         20.55172414, 20.55172414, 20.55172414, 20.55172414, 20.55172414,\n",
       "         20.55172414, 20.55172414, 20.55172414, 20.55172414, 20.55172414,\n",
       "         20.55172414, 20.55172414, 20.55172414, 20.55172414, 20.55172414,\n",
       "         20.55172414, 20.55172414, 20.55172414, 20.55172414, 20.55172414,\n",
       "         20.55172414, 20.55172414, 20.55172414, 20.55172414, 20.55172414],\n",
       "        [21.65517241, 21.65517241, 21.65517241, 21.65517241, 21.65517241,\n",
       "         21.65517241, 21.65517241, 21.65517241, 21.65517241, 21.65517241,\n",
       "         21.65517241, 21.65517241, 21.65517241, 21.65517241, 21.65517241,\n",
       "         21.65517241, 21.65517241, 21.65517241, 21.65517241, 21.65517241,\n",
       "         21.65517241, 21.65517241, 21.65517241, 21.65517241, 21.65517241,\n",
       "         21.65517241, 21.65517241, 21.65517241, 21.65517241, 21.65517241],\n",
       "        [22.75862069, 22.75862069, 22.75862069, 22.75862069, 22.75862069,\n",
       "         22.75862069, 22.75862069, 22.75862069, 22.75862069, 22.75862069,\n",
       "         22.75862069, 22.75862069, 22.75862069, 22.75862069, 22.75862069,\n",
       "         22.75862069, 22.75862069, 22.75862069, 22.75862069, 22.75862069,\n",
       "         22.75862069, 22.75862069, 22.75862069, 22.75862069, 22.75862069,\n",
       "         22.75862069, 22.75862069, 22.75862069, 22.75862069, 22.75862069],\n",
       "        [23.86206897, 23.86206897, 23.86206897, 23.86206897, 23.86206897,\n",
       "         23.86206897, 23.86206897, 23.86206897, 23.86206897, 23.86206897,\n",
       "         23.86206897, 23.86206897, 23.86206897, 23.86206897, 23.86206897,\n",
       "         23.86206897, 23.86206897, 23.86206897, 23.86206897, 23.86206897,\n",
       "         23.86206897, 23.86206897, 23.86206897, 23.86206897, 23.86206897,\n",
       "         23.86206897, 23.86206897, 23.86206897, 23.86206897, 23.86206897],\n",
       "        [24.96551724, 24.96551724, 24.96551724, 24.96551724, 24.96551724,\n",
       "         24.96551724, 24.96551724, 24.96551724, 24.96551724, 24.96551724,\n",
       "         24.96551724, 24.96551724, 24.96551724, 24.96551724, 24.96551724,\n",
       "         24.96551724, 24.96551724, 24.96551724, 24.96551724, 24.96551724,\n",
       "         24.96551724, 24.96551724, 24.96551724, 24.96551724, 24.96551724,\n",
       "         24.96551724, 24.96551724, 24.96551724, 24.96551724, 24.96551724],\n",
       "        [26.06896552, 26.06896552, 26.06896552, 26.06896552, 26.06896552,\n",
       "         26.06896552, 26.06896552, 26.06896552, 26.06896552, 26.06896552,\n",
       "         26.06896552, 26.06896552, 26.06896552, 26.06896552, 26.06896552,\n",
       "         26.06896552, 26.06896552, 26.06896552, 26.06896552, 26.06896552,\n",
       "         26.06896552, 26.06896552, 26.06896552, 26.06896552, 26.06896552,\n",
       "         26.06896552, 26.06896552, 26.06896552, 26.06896552, 26.06896552],\n",
       "        [27.17241379, 27.17241379, 27.17241379, 27.17241379, 27.17241379,\n",
       "         27.17241379, 27.17241379, 27.17241379, 27.17241379, 27.17241379,\n",
       "         27.17241379, 27.17241379, 27.17241379, 27.17241379, 27.17241379,\n",
       "         27.17241379, 27.17241379, 27.17241379, 27.17241379, 27.17241379,\n",
       "         27.17241379, 27.17241379, 27.17241379, 27.17241379, 27.17241379,\n",
       "         27.17241379, 27.17241379, 27.17241379, 27.17241379, 27.17241379],\n",
       "        [28.27586207, 28.27586207, 28.27586207, 28.27586207, 28.27586207,\n",
       "         28.27586207, 28.27586207, 28.27586207, 28.27586207, 28.27586207,\n",
       "         28.27586207, 28.27586207, 28.27586207, 28.27586207, 28.27586207,\n",
       "         28.27586207, 28.27586207, 28.27586207, 28.27586207, 28.27586207,\n",
       "         28.27586207, 28.27586207, 28.27586207, 28.27586207, 28.27586207,\n",
       "         28.27586207, 28.27586207, 28.27586207, 28.27586207, 28.27586207],\n",
       "        [29.37931034, 29.37931034, 29.37931034, 29.37931034, 29.37931034,\n",
       "         29.37931034, 29.37931034, 29.37931034, 29.37931034, 29.37931034,\n",
       "         29.37931034, 29.37931034, 29.37931034, 29.37931034, 29.37931034,\n",
       "         29.37931034, 29.37931034, 29.37931034, 29.37931034, 29.37931034,\n",
       "         29.37931034, 29.37931034, 29.37931034, 29.37931034, 29.37931034,\n",
       "         29.37931034, 29.37931034, 29.37931034, 29.37931034, 29.37931034],\n",
       "        [30.48275862, 30.48275862, 30.48275862, 30.48275862, 30.48275862,\n",
       "         30.48275862, 30.48275862, 30.48275862, 30.48275862, 30.48275862,\n",
       "         30.48275862, 30.48275862, 30.48275862, 30.48275862, 30.48275862,\n",
       "         30.48275862, 30.48275862, 30.48275862, 30.48275862, 30.48275862,\n",
       "         30.48275862, 30.48275862, 30.48275862, 30.48275862, 30.48275862,\n",
       "         30.48275862, 30.48275862, 30.48275862, 30.48275862, 30.48275862],\n",
       "        [31.5862069 , 31.5862069 , 31.5862069 , 31.5862069 , 31.5862069 ,\n",
       "         31.5862069 , 31.5862069 , 31.5862069 , 31.5862069 , 31.5862069 ,\n",
       "         31.5862069 , 31.5862069 , 31.5862069 , 31.5862069 , 31.5862069 ,\n",
       "         31.5862069 , 31.5862069 , 31.5862069 , 31.5862069 , 31.5862069 ,\n",
       "         31.5862069 , 31.5862069 , 31.5862069 , 31.5862069 , 31.5862069 ,\n",
       "         31.5862069 , 31.5862069 , 31.5862069 , 31.5862069 , 31.5862069 ],\n",
       "        [32.68965517, 32.68965517, 32.68965517, 32.68965517, 32.68965517,\n",
       "         32.68965517, 32.68965517, 32.68965517, 32.68965517, 32.68965517,\n",
       "         32.68965517, 32.68965517, 32.68965517, 32.68965517, 32.68965517,\n",
       "         32.68965517, 32.68965517, 32.68965517, 32.68965517, 32.68965517,\n",
       "         32.68965517, 32.68965517, 32.68965517, 32.68965517, 32.68965517,\n",
       "         32.68965517, 32.68965517, 32.68965517, 32.68965517, 32.68965517],\n",
       "        [33.79310345, 33.79310345, 33.79310345, 33.79310345, 33.79310345,\n",
       "         33.79310345, 33.79310345, 33.79310345, 33.79310345, 33.79310345,\n",
       "         33.79310345, 33.79310345, 33.79310345, 33.79310345, 33.79310345,\n",
       "         33.79310345, 33.79310345, 33.79310345, 33.79310345, 33.79310345,\n",
       "         33.79310345, 33.79310345, 33.79310345, 33.79310345, 33.79310345,\n",
       "         33.79310345, 33.79310345, 33.79310345, 33.79310345, 33.79310345],\n",
       "        [34.89655172, 34.89655172, 34.89655172, 34.89655172, 34.89655172,\n",
       "         34.89655172, 34.89655172, 34.89655172, 34.89655172, 34.89655172,\n",
       "         34.89655172, 34.89655172, 34.89655172, 34.89655172, 34.89655172,\n",
       "         34.89655172, 34.89655172, 34.89655172, 34.89655172, 34.89655172,\n",
       "         34.89655172, 34.89655172, 34.89655172, 34.89655172, 34.89655172,\n",
       "         34.89655172, 34.89655172, 34.89655172, 34.89655172, 34.89655172],\n",
       "        [36.        , 36.        , 36.        , 36.        , 36.        ,\n",
       "         36.        , 36.        , 36.        , 36.        , 36.        ,\n",
       "         36.        , 36.        , 36.        , 36.        , 36.        ,\n",
       "         36.        , 36.        , 36.        , 36.        , 36.        ,\n",
       "         36.        , 36.        , 36.        , 36.        , 36.        ,\n",
       "         36.        , 36.        , 36.        , 36.        , 36.        ]]),\n",
       " array([[-0.5874    , -0.63456552, -0.68173103, -0.72889655, -0.77606207,\n",
       "         -0.81104138, -0.84398966, -0.87693793, -0.90988621, -0.93302414,\n",
       "         -0.95223793, -0.97145172, -0.99066552, -0.99577586, -0.99030862,\n",
       "         -0.98484138, -0.97937414, -0.97298103, -0.96535345, -0.95772586,\n",
       "         -0.95009828, -0.94285   , -0.93655   , -0.93025   , -0.92395   ,\n",
       "         -0.91788276, -0.91321207, -0.90854138, -0.90387069, -0.8992    ],\n",
       "        [-0.63052276, -0.67917184, -0.72782093, -0.77647001, -0.8251191 ,\n",
       "         -0.85714383, -0.88639784, -0.91565184, -0.94490585, -0.96716331,\n",
       "         -0.98662214, -1.00608098, -1.02553981, -1.03181753, -1.02820941,\n",
       "         -1.02460128, -1.02099316, -1.01635416, -1.01034065, -1.00432715,\n",
       "         -0.99831364, -0.99257062, -0.98750382, -0.98243702, -0.97737021,\n",
       "         -0.97243268, -0.96827071, -0.96410875, -0.95994679, -0.95578483],\n",
       "        [-0.67364552, -0.72377817, -0.77391082, -0.82404347, -0.87417612,\n",
       "         -0.90324628, -0.92880602, -0.95436576, -0.97992549, -1.00130247,\n",
       "         -1.02100635, -1.04071023, -1.0604141 , -1.06785919, -1.06611019,\n",
       "         -1.06436119, -1.06261219, -1.05972729, -1.05532786, -1.05092843,\n",
       "         -1.046529  , -1.04229124, -1.03845763, -1.03462403, -1.03079043,\n",
       "         -1.02698259, -1.02332936, -1.01967612, -1.01602289, -1.01236966],\n",
       "        [-0.71676828, -0.76838449, -0.82000071, -0.87161693, -0.92323315,\n",
       "         -0.94934873, -0.9712142 , -0.99307967, -1.01494514, -1.03544164,\n",
       "         -1.05539056, -1.07533948, -1.09528839, -1.10390086, -1.10401098,\n",
       "         -1.10412109, -1.10423121, -1.10310042, -1.10031507, -1.09752971,\n",
       "         -1.09474436, -1.09201185, -1.08941145, -1.08681105, -1.08421064,\n",
       "         -1.08153251, -1.078388  , -1.0752435 , -1.07209899, -1.06895448],\n",
       "        [-0.75989103, -0.81299082, -0.86609061, -0.91919039, -0.97229018,\n",
       "         -0.99545118, -1.01362238, -1.03179358, -1.04996478, -1.06958081,\n",
       "         -1.08977477, -1.10996873, -1.13016269, -1.13994252, -1.14191176,\n",
       "         -1.143881  , -1.14585024, -1.14647354, -1.14530227, -1.144131  ,\n",
       "         -1.14295973, -1.14173247, -1.14036527, -1.13899806, -1.13763086,\n",
       "         -1.13608243, -1.13344665, -1.13081087, -1.12817509, -1.12553931],\n",
       "        [-0.78190591, -0.83771299, -0.89352006, -0.94932714, -1.00513421,\n",
       "         -1.02733456, -1.04393379, -1.06053301, -1.07713224, -1.0954035 ,\n",
       "         -1.11434357, -1.13328364, -1.15222371, -1.16240051, -1.16600485,\n",
       "         -1.16960919, -1.17321353, -1.17520575, -1.17504846, -1.17489118,\n",
       "         -1.1747339 , -1.17445951, -1.17389236, -1.1733252 , -1.17275805,\n",
       "         -1.17196565, -1.16982174, -1.16767784, -1.16553393, -1.16339002],\n",
       "        [-0.77999852, -0.83989977, -0.89980102, -0.95970227, -1.01960352,\n",
       "         -1.043103  , -1.06053552, -1.07796804, -1.09540056, -1.11180085,\n",
       "         -1.12778825, -1.14377564, -1.15976304, -1.16946367, -1.17444922,\n",
       "         -1.17943477, -1.18442032, -1.1873449 , -1.18752151, -1.18769811,\n",
       "         -1.18787472, -1.18792715, -1.18766915, -1.18741116, -1.18715316,\n",
       "         -1.18669329, -1.18502215, -1.18335101, -1.18167988, -1.18000874],\n",
       "        [-0.77809113, -0.84208656, -0.90608198, -0.9700774 , -1.03407282,\n",
       "         -1.05887144, -1.07713725, -1.09540307, -1.11366888, -1.1281982 ,\n",
       "         -1.14123292, -1.15426764, -1.16730236, -1.17652682, -1.18289359,\n",
       "         -1.18926035, -1.19562712, -1.19948405, -1.19999455, -1.20050504,\n",
       "         -1.20101553, -1.20139479, -1.20144595, -1.20149711, -1.20154827,\n",
       "         -1.20142092, -1.20022256, -1.19902419, -1.19782583, -1.19662746],\n",
       "        [-0.77618374, -0.84427334, -0.91236294, -0.98045253, -1.04854213,\n",
       "         -1.07463988, -1.09373898, -1.11283809, -1.1319372 , -1.14459555,\n",
       "         -1.15467759, -1.16475964, -1.17484169, -1.18358998, -1.19133796,\n",
       "         -1.19908594, -1.20683391, -1.21162321, -1.21246759, -1.21331197,\n",
       "         -1.21415635, -1.21486243, -1.21522275, -1.21558306, -1.21594338,\n",
       "         -1.21614856, -1.21542297, -1.21469737, -1.21397178, -1.21324618],\n",
       "        [-0.77427635, -0.84646012, -0.91864389, -0.99082766, -1.06301143,\n",
       "         -1.09040831, -1.11034072, -1.13027312, -1.15020552, -1.1609929 ,\n",
       "         -1.16812227, -1.17525164, -1.18238101, -1.19065313, -1.19978233,\n",
       "         -1.20891152, -1.21804071, -1.22376236, -1.22494063, -1.2261189 ,\n",
       "         -1.22729717, -1.22833007, -1.22899954, -1.22966901, -1.23033848,\n",
       "         -1.2308762 , -1.23062337, -1.23037055, -1.23011773, -1.2298649 ],\n",
       "        [-0.77236897, -0.84864691, -0.92492485, -1.00120279, -1.07748074,\n",
       "         -1.10617675, -1.12694245, -1.14770815, -1.16847384, -1.17739025,\n",
       "         -1.18156694, -1.18574364, -1.18992033, -1.19771629, -1.20822669,\n",
       "         -1.2187371 , -1.2292475 , -1.23590152, -1.23741367, -1.23892583,\n",
       "         -1.24043799, -1.24179771, -1.24277634, -1.24375496, -1.24473359,\n",
       "         -1.24560383, -1.24582378, -1.24604373, -1.24626367, -1.24648362],\n",
       "        [-0.77088391, -0.85078217, -0.93068043, -1.0105787 , -1.09047696,\n",
       "         -1.12036338, -1.1419145 , -1.16346562, -1.18501674, -1.19239968,\n",
       "         -1.19411536, -1.19583103, -1.1975467 , -1.20488916, -1.21645171,\n",
       "         -1.22801426, -1.2395768 , -1.2469947 , -1.24888641, -1.25077812,\n",
       "         -1.25266982, -1.25438261, -1.25564812, -1.25691363, -1.25817914,\n",
       "         -1.25936225, -1.26005102, -1.26073979, -1.26142857, -1.26211734],\n",
       "        [-0.77235517, -0.85255678, -0.93275838, -1.01295999, -1.09316159,\n",
       "         -1.12347735, -1.1454788 , -1.16748024, -1.18948169, -1.1976937 ,\n",
       "         -1.20038993, -1.20308617, -1.2057824 , -1.21283004, -1.22314124,\n",
       "         -1.23345244, -1.24376363, -1.25076612, -1.253357  , -1.25594787,\n",
       "         -1.25853874, -1.26078836, -1.26218482, -1.26358128, -1.26497774,\n",
       "         -1.26633614, -1.26746611, -1.26859609, -1.26972606, -1.27085603],\n",
       "        [-0.77382644, -0.85433138, -0.93483633, -1.01534128, -1.09584623,\n",
       "         -1.12659131, -1.14904309, -1.17149486, -1.19394664, -1.20298771,\n",
       "         -1.20666451, -1.2103413 , -1.2140181 , -1.22077093, -1.22983077,\n",
       "         -1.23889062, -1.24795047, -1.25453754, -1.25782758, -1.26111762,\n",
       "         -1.26440767, -1.2671941 , -1.26872152, -1.27024894, -1.27177635,\n",
       "         -1.27331002, -1.2748812 , -1.27645238, -1.27802355, -1.27959473],\n",
       "        [-0.7752977 , -0.85610599, -0.93691428, -1.01772257, -1.09853086,\n",
       "         -1.12970528, -1.15260738, -1.17550948, -1.19841159, -1.20828173,\n",
       "         -1.21293908, -1.21759644, -1.2222538 , -1.22871181, -1.2365203 ,\n",
       "         -1.2443288 , -1.2521373 , -1.25830896, -1.26229817, -1.26628738,\n",
       "         -1.27027659, -1.27359984, -1.27525822, -1.27691659, -1.27857496,\n",
       "         -1.28028391, -1.28229629, -1.28430867, -1.28632105, -1.28833343],\n",
       "        [-0.77676897, -0.8578806 , -0.93899223, -1.02010386, -1.1012155 ,\n",
       "         -1.13281924, -1.15617167, -1.1795241 , -1.20287654, -1.21357574,\n",
       "         -1.21921366, -1.22485158, -1.2304895 , -1.23665269, -1.24320984,\n",
       "         -1.24976698, -1.25632413, -1.26208038, -1.26676875, -1.27145713,\n",
       "         -1.27614551, -1.28000559, -1.28179491, -1.28358424, -1.28537357,\n",
       "         -1.28725779, -1.28971138, -1.29216496, -1.29461854, -1.29707213],\n",
       "        [-0.77824023, -0.85965521, -0.94107018, -1.02248516, -1.10390013,\n",
       "         -1.13593321, -1.15973597, -1.18353873, -1.20734149, -1.21886976,\n",
       "         -1.22548824, -1.23210672, -1.23872519, -1.24459357, -1.24989937,\n",
       "         -1.25520517, -1.26051096, -1.2658518 , -1.27123934, -1.27662688,\n",
       "         -1.28201443, -1.28641133, -1.28833161, -1.29025189, -1.29217218,\n",
       "         -1.29423168, -1.29712646, -1.30002125, -1.30291604, -1.30581082],\n",
       "        [-0.77971149, -0.86142981, -0.94314813, -1.02486645, -1.10658477,\n",
       "         -1.13904717, -1.16330026, -1.18755335, -1.21180643, -1.22416377,\n",
       "         -1.23176281, -1.23936185, -1.24696089, -1.25253445, -1.2565889 ,\n",
       "         -1.26064335, -1.2646978 , -1.26962321, -1.27570993, -1.28179664,\n",
       "         -1.28788335, -1.29281707, -1.29486831, -1.29691955, -1.29897079,\n",
       "         -1.30120556, -1.30454155, -1.30787754, -1.31121353, -1.31454952],\n",
       "        [-0.78118276, -0.86320442, -0.94522608, -1.02724774, -1.1092694 ,\n",
       "         -1.14216114, -1.16686455, -1.19156797, -1.21627138, -1.22945779,\n",
       "         -1.23803739, -1.24661699, -1.25519659, -1.26047533, -1.26327843,\n",
       "         -1.26608153, -1.26888463, -1.27339463, -1.28018051, -1.28696639,\n",
       "         -1.29375227, -1.29922281, -1.30140501, -1.3035872 , -1.30576939,\n",
       "         -1.30817945, -1.31195664, -1.31573383, -1.31951103, -1.32328822],\n",
       "        [-0.78265402, -0.86497903, -0.94730403, -1.02962903, -1.11195404,\n",
       "         -1.1452751 , -1.17042885, -1.19558259, -1.22073633, -1.2347518 ,\n",
       "         -1.24431197, -1.25387213, -1.26343229, -1.26841622, -1.26996796,\n",
       "         -1.27151971, -1.27307146, -1.27716605, -1.2846511 , -1.29213615,\n",
       "         -1.29962119, -1.30562856, -1.30794171, -1.31025485, -1.312568  ,\n",
       "         -1.31515333, -1.31937173, -1.32359012, -1.32780852, -1.33202692],\n",
       "        [-0.78235987, -0.86514473, -0.94792959, -1.03071444, -1.1134993 ,\n",
       "         -1.14687667, -1.17201947, -1.19716226, -1.22230506, -1.23646104,\n",
       "         -1.2462223 , -1.25598356, -1.26574482, -1.27101955, -1.2729294 ,\n",
       "         -1.27483925, -1.2767491 , -1.28118946, -1.28900384, -1.29681821,\n",
       "         -1.30463259, -1.31090601, -1.31332705, -1.31574809, -1.31816913,\n",
       "         -1.32089886, -1.32548075, -1.33006264, -1.33464452, -1.33922641],\n",
       "        [-0.78200878, -0.86525853, -0.94850829, -1.03175805, -1.1150078 ,\n",
       "         -1.14842946, -1.17354642, -1.19866339, -1.22378036, -1.23805464,\n",
       "         -1.24799185, -1.25792906, -1.26786627, -1.27345072, -1.27577058,\n",
       "         -1.27809044, -1.28041031, -1.28522099, -1.29335277, -1.30148455,\n",
       "         -1.30961633, -1.31614708, -1.31867526, -1.32120344, -1.32373163,\n",
       "         -1.32660477, -1.33154764, -1.33649051, -1.34143338, -1.34637625],\n",
       "        [-0.78165768, -0.86537234, -0.949087  , -1.03280165, -1.11651631,\n",
       "         -1.14998224, -1.17507338, -1.20016452, -1.22525566, -1.23964824,\n",
       "         -1.24976141, -1.25987457, -1.26998773, -1.27588188, -1.27861176,\n",
       "         -1.28134164, -1.28407152, -1.28925253, -1.29770171, -1.30615088,\n",
       "         -1.31460006, -1.32138814, -1.32402347, -1.3266588 , -1.32929412,\n",
       "         -1.33231067, -1.33761453, -1.34291838, -1.34822224, -1.3535261 ],\n",
       "        [-0.78130658, -0.86548614, -0.9496657 , -1.03384526, -1.11802482,\n",
       "         -1.15153502, -1.17660034, -1.20166565, -1.22673096, -1.24124184,\n",
       "         -1.25153096, -1.26182007, -1.27210919, -1.27831304, -1.28145293,\n",
       "         -1.28459283, -1.28773273, -1.29328406, -1.30205064, -1.31081722,\n",
       "         -1.3195838 , -1.3266292 , -1.32937168, -1.33211415, -1.33485662,\n",
       "         -1.33801658, -1.34368142, -1.34934626, -1.3550111 , -1.36067594],\n",
       "        [-0.78095549, -0.86559995, -0.95024441, -1.03488887, -1.11953333,\n",
       "         -1.15308781, -1.17812729, -1.20316677, -1.22820626, -1.24283544,\n",
       "         -1.25330051, -1.26376558, -1.27423065, -1.2807442 , -1.28429411,\n",
       "         -1.28784403, -1.29139394, -1.2973156 , -1.30639958, -1.31548355,\n",
       "         -1.32456753, -1.33187026, -1.33471988, -1.3375695 , -1.34041912,\n",
       "         -1.34372248, -1.34974831, -1.35577413, -1.36179996, -1.36782578],\n",
       "        [-0.78060439, -0.86571375, -0.95082311, -1.03593247, -1.12104183,\n",
       "         -1.15464059, -1.17965425, -1.2046679 , -1.22968156, -1.24442905,\n",
       "         -1.25507006, -1.26571108, -1.2763521 , -1.28317536, -1.28713529,\n",
       "         -1.29109522, -1.29505515, -1.30134713, -1.31074851, -1.32014989,\n",
       "         -1.32955127, -1.33711133, -1.34006809, -1.34302485, -1.34598162,\n",
       "         -1.34942839, -1.3558152 , -1.36220201, -1.36858882, -1.37497563],\n",
       "        [-0.78025329, -0.86582755, -0.95140182, -1.03697608, -1.12255034,\n",
       "         -1.15619337, -1.1811812 , -1.20616903, -1.23115686, -1.24602265,\n",
       "         -1.25683962, -1.26765659, -1.27847356, -1.28560652, -1.28997647,\n",
       "         -1.29434642, -1.29871637, -1.30537867, -1.31509745, -1.32481622,\n",
       "         -1.334535  , -1.34235239, -1.3454163 , -1.34848021, -1.35154412,\n",
       "         -1.35513429, -1.36188209, -1.36862988, -1.37537768, -1.38212547],\n",
       "        [-0.77990219, -0.86594136, -0.95198052, -1.03801968, -1.12405885,\n",
       "         -1.15774616, -1.18270816, -1.20767016, -1.23263216, -1.24761625,\n",
       "         -1.25860917, -1.26960209, -1.28059502, -1.28803768, -1.29281764,\n",
       "         -1.29759761, -1.30237758, -1.30941021, -1.31944638, -1.32948256,\n",
       "         -1.33951874, -1.34759345, -1.3507645 , -1.35393556, -1.35710661,\n",
       "         -1.3608402 , -1.36794898, -1.37505776, -1.38216654, -1.38927531],\n",
       "        [-0.7795511 , -0.86605516, -0.95255923, -1.03906329, -1.12556735,\n",
       "         -1.15929894, -1.18423511, -1.20917129, -1.23410746, -1.24920985,\n",
       "         -1.26037872, -1.2715476 , -1.28271647, -1.29046884, -1.29565882,\n",
       "         -1.30084881, -1.30603879, -1.31344174, -1.32379532, -1.33414889,\n",
       "         -1.34450247, -1.35283451, -1.35611271, -1.35939091, -1.36266911,\n",
       "         -1.36654611, -1.37401587, -1.38148563, -1.38895539, -1.39642516],\n",
       "        [-0.7792    , -0.86616897, -0.95313793, -1.0401069 , -1.12707586,\n",
       "         -1.16085172, -1.18576207, -1.21067241, -1.23558276, -1.25080345,\n",
       "         -1.26214828, -1.2734931 , -1.28483793, -1.2929    , -1.2985    ,\n",
       "         -1.3041    , -1.3097    , -1.31747328, -1.32814425, -1.33881523,\n",
       "         -1.34948621, -1.35807557, -1.36146092, -1.36484626, -1.36823161,\n",
       "         -1.37225201, -1.38008276, -1.38791351, -1.39574425, -1.403575  ]]))"
      ]
     },
     "execution_count": 224,
     "metadata": {},
     "output_type": "execute_result"
    }
   ],
   "source": [
    "x_new = np.linspace(1,8,30)\n",
    "s_new = np.linspace(4,36,30)\n",
    "en_new = f(x_new, s_new)\n",
    "\n",
    "XX, YY = np.meshgrid(x_new, s_new)\n",
    "XX, YY, en_new"
   ]
  },
  {
   "cell_type": "code",
   "execution_count": 226,
   "id": "5afa6724",
   "metadata": {},
   "outputs": [
    {
     "data": {
      "application/vnd.jupyter.widget-view+json": {
       "model_id": "a7926e49721744d388dfbc8c24a5b645",
       "version_major": 2,
       "version_minor": 0
      },
      "text/plain": [
       "VBox(children=(Figure(camera=PerspectiveCamera(fov=46.0, position=(0.0, 0.0, 2.0), projectionMatrix=(1.0, 0.0,…"
      ]
     },
     "metadata": {},
     "output_type": "display_data"
    }
   ],
   "source": [
    "ipv.figure()\n",
    "ipv.plot_surface(X, nans, Y, color=\"orange\")\n",
    "ipv.plot_wireframe(XX, en_new, YY, color='blue')\n",
    "ipv.ylim(-1.5,-.5)\n",
    "ipv.xlabel('x')\n",
    "ipv.ylabel('free energy')\n",
    "ipv.zlabel('area S')\n",
    "ipv.show()"
   ]
  },
  {
   "cell_type": "code",
   "execution_count": 107,
   "id": "0ec69319",
   "metadata": {},
   "outputs": [
    {
     "data": {
      "text/plain": [
       "(29, 22, -1.3079879310344829)"
      ]
     },
     "execution_count": 107,
     "metadata": {},
     "output_type": "execute_result"
    }
   ],
   "source": [
    "# np.where(XX == 8.0), np.where(YY >= 19.8), YY.shape\n",
    "i1 = np.abs(x_new-8.0).argmin()#%XX.shape[0]\n",
    "i2 = np.abs(s_new-19.8).argmin()#%XX.shape[0]\n",
    "i1, i2, en_new[i1 ,i2]"
   ]
  },
  {
   "cell_type": "code",
   "execution_count": null,
   "id": "0035631a",
   "metadata": {},
   "outputs": [],
   "source": []
  },
  {
   "cell_type": "code",
   "execution_count": 108,
   "id": "991f395b",
   "metadata": {},
   "outputs": [],
   "source": [
    "# def geten(v1, v2)"
   ]
  },
  {
   "cell_type": "code",
   "execution_count": 109,
   "id": "dda286a8",
   "metadata": {},
   "outputs": [],
   "source": [
    "alpha = 0.9\n",
    "lmax = 8\n",
    "lmin = 1\n",
    "\n",
    "lambdas = np.linspace(1-alpha/lmin, 1-alpha/lmax, 5)\n",
    "S = 25\n",
    "rho = 0.5\n"
   ]
  },
  {
   "cell_type": "code",
   "execution_count": 119,
   "id": "88543c9d",
   "metadata": {
    "scrolled": true
   },
   "outputs": [
    {
     "name": "stdout",
     "output_type": "stream",
     "text": [
      "XXXXXXXXXXXXXXXXXXXXXXXXXXXXXXXXXXXXXXXXXXXXXXXXXXXXXXXXXXXXXXXXXXXXXXXXXXXXXXXX\n",
      "S=25.00, lambda=0.10, T=11, t_crit=0, S1=22.5, S2=2.5, l0=1.0\n",
      "lambda=0.10, t=0\n",
      "(l_1=1.0, S1=22.5; en=-0.913, n=11), (l_2=0.0, S2=2.5; en=-0.587, n=0), (l_3=0.0, S=25.0; ; en=-0.899, n=0.0)\n",
      "lambda=0.10, t=1\n",
      "(l_1=0.9, S1=22.5; en=-0.913, n=10), (l_2=0.9, S2=2.5; en=-0.587, n=1), (l_3=0.1, S=25.0; ; en=-0.899, n=0.9)\n",
      "lambda=0.10, t=2\n",
      "(l_1=0.8, S1=22.5; en=-0.913, n=9), (l_2=0.8, S2=2.5; en=-0.587, n=1), (l_3=0.2, S=25.0; ; en=-0.899, n=3.0)\n",
      "lambda=0.10, t=3\n",
      "(l_1=0.7, S1=22.5; en=-0.913, n=8), (l_2=0.7, S2=2.5; en=-0.587, n=0), (l_3=0.4, S=25.0; ; en=-0.899, n=5.1)\n",
      "lambda=0.10, t=4\n",
      "(l_1=0.6, S1=22.5; en=-0.913, n=7), (l_2=0.6, S2=2.5; en=-0.587, n=0), (l_3=0.6, S=25.0; ; en=-0.899, n=7.2)\n",
      "lambda=0.10, t=5\n",
      "(l_1=0.6, S1=22.5; en=-0.913, n=6), (l_2=0.6, S2=2.5; en=-0.587, n=0), (l_3=0.7, S=25.0; ; en=-0.899, n=9.3)\n",
      "lambda=0.10, t=6\n",
      "(l_1=0.5, S1=22.5; en=-0.913, n=5), (l_2=0.5, S2=2.5; en=-0.587, n=0), (l_3=0.9, S=25.0; ; en=-0.899, n=11.4)\n",
      "lambda=0.10, t=7\n",
      "(l_1=0.4, S1=22.5; en=-0.913, n=4), (l_2=0.4, S2=2.5; en=-0.587, n=0), (l_3=1.1, S=25.0; ; en=-0.899, n=13.5)\n",
      "lambda=0.10, t=8\n",
      "(l_1=0.3, S1=22.5; en=-0.913, n=3), (l_2=0.3, S2=2.5; en=-0.587, n=0), (l_3=1.3, S=25.0; ; en=-0.936, n=15.6)\n",
      "lambda=0.10, t=9\n",
      "(l_1=0.2, S1=22.5; en=-0.913, n=2), (l_2=0.2, S2=2.5; en=-0.587, n=0), (l_3=1.4, S=25.0; ; en=-0.973, n=17.8)\n",
      "lambda=0.10, t=10\n",
      "(l_1=0.1, S1=22.5; en=-0.913, n=1), (l_2=0.1, S2=2.5; en=-0.587, n=0), (l_3=1.6, S=25.0; ; en=-0.973, n=19.9)\n",
      "lambda=0.10, t=11\n",
      "(l_1=0.0, S1=22.5; en=-0.913, n=0), (l_2=0.0, S2=2.5; en=-0.587, n=0), (l_3=1.8, S=25.0; ; en=-1.011, n=22.0)\n",
      "XXXXXXXXXXXXXXXXXXXXXXXXXXXXXXXXXXXXXXXXXXXXXXXXXXXXXXXXXXXXXXXXXXXXXXXXXXXXXXXX\n",
      "S=25.00, lambda=0.30, T=11, t_crit=1, S1=17.6, S2=7.4, l0=1.3\n",
      "lambda=0.30, t=0\n",
      "(l_1=1.3, S1=17.6; en=-0.988, n=11), (l_2=0.0, S2=7.4; en=-0.811, n=0), (l_3=0.0, S=25.0; ; en=-0.899, n=0.0)\n",
      "lambda=0.30, t=1\n",
      "(l_1=1.2, S1=17.6; en=-0.988, n=10), (l_2=0.5, S2=7.4; en=-0.811, n=2), (l_3=0.0, S=25.0; ; en=-0.899, n=0.0)\n",
      "lambda=0.30, t=2\n",
      "(l_1=1.1, S1=17.6; en=-0.958, n=9), (l_2=1.1, S2=7.4; en=-0.811, n=3), (l_3=0.0, S=25.0; ; en=-0.899, n=0.1)\n",
      "lambda=0.30, t=3\n",
      "(l_1=0.9, S1=17.6; en=-0.958, n=8), (l_2=0.9, S2=7.4; en=-0.811, n=3), (l_3=0.2, S=25.0; ; en=-0.899, n=2.5)\n",
      "lambda=0.30, t=4\n",
      "(l_1=0.8, S1=17.6; en=-0.958, n=7), (l_2=0.8, S2=7.4; en=-0.811, n=3), (l_3=0.4, S=25.0; ; en=-0.899, n=4.9)\n",
      "lambda=0.30, t=5\n",
      "(l_1=0.7, S1=17.6; en=-0.958, n=6), (l_2=0.7, S2=7.4; en=-0.811, n=2), (l_3=0.6, S=25.0; ; en=-0.899, n=7.4)\n",
      "lambda=0.30, t=6\n",
      "(l_1=0.6, S1=17.6; en=-0.958, n=5), (l_2=0.6, S2=7.4; en=-0.811, n=2), (l_3=0.8, S=25.0; ; en=-0.899, n=9.8)\n",
      "lambda=0.30, t=7\n",
      "(l_1=0.5, S1=17.6; en=-0.958, n=4), (l_2=0.5, S2=7.4; en=-0.811, n=1), (l_3=1.0, S=25.0; ; en=-0.899, n=12.2)\n",
      "lambda=0.30, t=8\n",
      "(l_1=0.4, S1=17.6; en=-0.958, n=3), (l_2=0.4, S2=7.4; en=-0.811, n=1), (l_3=1.2, S=25.0; ; en=-0.936, n=14.6)\n",
      "lambda=0.30, t=9\n",
      "(l_1=0.3, S1=17.6; en=-0.958, n=2), (l_2=0.3, S2=7.4; en=-0.811, n=0), (l_3=1.4, S=25.0; ; en=-0.973, n=17.0)\n",
      "lambda=0.30, t=10\n",
      "(l_1=0.1, S1=17.6; en=-0.958, n=1), (l_2=0.1, S2=7.4; en=-0.811, n=0), (l_3=1.6, S=25.0; ; en=-0.973, n=19.5)\n",
      "lambda=0.30, t=11\n",
      "(l_1=0.0, S1=17.6; en=-0.958, n=0), (l_2=0.0, S2=7.4; en=-0.811, n=0), (l_3=1.8, S=25.0; ; en=-1.011, n=21.9)\n",
      "XXXXXXXXXXXXXXXXXXXXXXXXXXXXXXXXXXXXXXXXXXXXXXXXXXXXXXXXXXXXXXXXXXXXXXXXXXXXXXXX\n",
      "S=25.00, lambda=0.49, T=11, t_crit=3, S1=12.7, S2=12.3, l0=1.8\n",
      "lambda=0.49, t=0\n",
      "(l_1=1.8, S1=12.7; en=-1.059, n=11), (l_2=0.0, S2=12.3; en=-0.991, n=0), (l_3=0.0, S=25.0; ; en=-0.899, n=0.0)\n",
      "lambda=0.49, t=1\n",
      "(l_1=1.6, S1=12.7; en=-1.059, n=10), (l_2=0.3, S2=12.3; en=-0.991, n=2), (l_3=0.0, S=25.0; ; en=-0.899, n=0.0)\n",
      "lambda=0.49, t=2\n",
      "(l_1=1.5, S1=12.7; en=-1.036, n=9), (l_2=0.6, S2=12.3; en=-0.991, n=4), (l_3=0.0, S=25.0; ; en=-0.899, n=0.0)\n",
      "lambda=0.49, t=3\n",
      "(l_1=1.3, S1=12.7; en=-1.014, n=8), (l_2=1.0, S2=12.3; en=-0.991, n=6), (l_3=0.0, S=25.0; ; en=-0.899, n=0.0)\n",
      "lambda=0.49, t=4\n",
      "(l_1=1.1, S1=12.7; en=-1.014, n=7), (l_2=1.1, S2=12.3; en=-1.014, n=7), (l_3=0.1, S=25.0; ; en=-0.899, n=0.9)\n",
      "lambda=0.49, t=5\n",
      "(l_1=1.0, S1=12.7; en=-0.991, n=6), (l_2=1.0, S2=12.3; en=-0.991, n=6), (l_3=0.3, S=25.0; ; en=-0.899, n=3.9)\n",
      "lambda=0.49, t=6\n",
      "(l_1=0.8, S1=12.7; en=-0.991, n=5), (l_2=0.8, S2=12.3; en=-0.991, n=5), (l_3=0.6, S=25.0; ; en=-0.899, n=6.9)\n",
      "lambda=0.49, t=7\n",
      "(l_1=0.7, S1=12.7; en=-0.991, n=4), (l_2=0.7, S2=12.3; en=-0.991, n=4), (l_3=0.8, S=25.0; ; en=-0.899, n=9.9)\n",
      "lambda=0.49, t=8\n",
      "(l_1=0.5, S1=12.7; en=-0.991, n=3), (l_2=0.5, S2=12.3; en=-0.991, n=3), (l_3=1.0, S=25.0; ; en=-0.899, n=12.8)\n",
      "lambda=0.49, t=9\n",
      "(l_1=0.4, S1=12.7; en=-0.991, n=2), (l_2=0.4, S2=12.3; en=-0.991, n=2), (l_3=1.3, S=25.0; ; en=-0.936, n=15.8)\n",
      "lambda=0.49, t=10\n",
      "(l_1=0.2, S1=12.7; en=-0.991, n=1), (l_2=0.2, S2=12.3; en=-0.991, n=1), (l_3=1.5, S=25.0; ; en=-0.973, n=18.8)\n",
      "lambda=0.49, t=11\n",
      "(l_1=0.0, S1=12.7; en=-0.991, n=0), (l_2=0.0, S2=12.3; en=-0.991, n=0), (l_3=1.7, S=25.0; ; en=-1.011, n=21.8)\n",
      "XXXXXXXXXXXXXXXXXXXXXXXXXXXXXXXXXXXXXXXXXXXXXXXXXXXXXXXXXXXXXXXXXXXXXXXXXXXXXXXX\n",
      "S=25.00, lambda=0.69, T=11, t_crit=5, S1=7.7, S2=17.3, l0=2.9\n",
      "lambda=0.69, t=0\n",
      "(l_1=2.9, S1=7.7; en=-1.031, n=11), (l_2=0.0, S2=17.3; en=-0.965, n=0), (l_3=0.0, S=25.0; ; en=-0.899, n=0.0)\n",
      "lambda=0.69, t=1\n",
      "(l_1=2.7, S1=7.7; en=-1.021, n=10), (l_2=0.2, S2=17.3; en=-0.965, n=2), (l_3=0.0, S=25.0; ; en=-0.899, n=0.0)\n",
      "lambda=0.69, t=2\n",
      "(l_1=2.4, S1=7.7; en=-0.993, n=9), (l_2=0.5, S2=17.3; en=-0.965, n=4), (l_3=0.0, S=25.0; ; en=-0.899, n=0.0)\n",
      "lambda=0.69, t=3\n",
      "(l_1=2.1, S1=7.7; en=-0.962, n=8), (l_2=0.7, S2=17.3; en=-0.965, n=6), (l_3=0.0, S=25.0; ; en=-0.899, n=0.0)\n",
      "lambda=0.69, t=4\n",
      "(l_1=1.9, S1=7.7; en=-0.932, n=7), (l_2=0.9, S2=17.3; en=-0.965, n=8), (l_3=0.0, S=25.0; ; en=-0.899, n=0.0)\n",
      "lambda=0.69, t=5\n",
      "(l_1=1.6, S1=7.7; en=-0.902, n=6), (l_2=1.2, S2=17.3; en=-0.995, n=10), (l_3=0.0, S=25.0; ; en=-0.899, n=0.0)\n",
      "lambda=0.69, t=6\n",
      "(l_1=1.4, S1=7.7; en=-0.841, n=5), (l_2=1.4, S2=17.3; en=-0.995, n=11), (l_3=0.0, S=25.0; ; en=-0.899, n=0.3)\n",
      "lambda=0.69, t=7\n",
      "(l_1=1.1, S1=7.7; en=-0.811, n=4), (l_2=1.1, S2=17.3; en=-0.965, n=9), (l_3=0.4, S=25.0; ; en=-0.899, n=4.5)\n",
      "lambda=0.69, t=8\n",
      "(l_1=0.8, S1=7.7; en=-0.811, n=3), (l_2=0.8, S2=17.3; en=-0.965, n=7), (l_3=0.7, S=25.0; ; en=-0.899, n=8.7)\n",
      "lambda=0.69, t=9\n",
      "(l_1=0.6, S1=7.7; en=-0.811, n=2), (l_2=0.6, S2=17.3; en=-0.965, n=5), (l_3=1.0, S=25.0; ; en=-0.899, n=13.0)\n",
      "lambda=0.69, t=10\n",
      "(l_1=0.3, S1=7.7; en=-0.811, n=1), (l_2=0.3, S2=17.3; en=-0.965, n=2), (l_3=1.4, S=25.0; ; en=-0.973, n=17.2)\n",
      "lambda=0.69, t=11\n",
      "(l_1=0.1, S1=7.7; en=-0.811, n=0), (l_2=0.1, S2=17.3; en=-0.965, n=0), (l_3=1.7, S=25.0; ; en=-1.011, n=21.4)\n",
      "XXXXXXXXXXXXXXXXXXXXXXXXXXXXXXXXXXXXXXXXXXXXXXXXXXXXXXXXXXXXXXXXXXXXXXXXXXXXXXXX\n",
      "S=25.00, lambda=0.89, T=11, t_crit=8, S1=2.8, S2=22.2, l0=8.0\n",
      "lambda=0.89, t=0\n",
      "(l_1=8.0, S1=2.8; en=-0.783, n=11), (l_2=0.0, S2=22.2; en=-0.918, n=0), (l_3=0.0, S=25.0; ; en=-0.899, n=0.0)\n",
      "lambda=0.89, t=1\n",
      "(l_1=7.3, S1=2.8; en=-0.780, n=10), (l_2=0.2, S2=22.2; en=-0.918, n=2), (l_3=0.0, S=25.0; ; en=-0.899, n=0.0)\n",
      "lambda=0.89, t=2\n",
      "(l_1=6.6, S1=2.8; en=-0.777, n=9), (l_2=0.4, S2=22.2; en=-0.918, n=4), (l_3=0.0, S=25.0; ; en=-0.899, n=0.0)\n",
      "lambda=0.89, t=3\n",
      "(l_1=5.9, S1=2.8; en=-0.774, n=8), (l_2=0.5, S2=22.2; en=-0.918, n=5), (l_3=0.0, S=25.0; ; en=-0.899, n=0.0)\n",
      "lambda=0.89, t=4\n",
      "(l_1=5.2, S1=2.8; en=-0.771, n=7), (l_2=0.7, S2=22.2; en=-0.918, n=8), (l_3=0.0, S=25.0; ; en=-0.899, n=0.0)\n",
      "lambda=0.89, t=5\n",
      "(l_1=4.4, S1=2.8; en=-0.774, n=6), (l_2=0.9, S2=22.2; en=-0.918, n=10), (l_3=0.0, S=25.0; ; en=-0.899, n=0.0)\n",
      "lambda=0.89, t=6\n",
      "(l_1=3.7, S1=2.8; en=-0.778, n=5), (l_2=1.1, S2=22.2; en=-0.918, n=11), (l_3=0.0, S=25.0; ; en=-0.899, n=0.0)\n",
      "lambda=0.89, t=7\n",
      "(l_1=3.0, S1=2.8; en=-0.781, n=4), (l_2=1.3, S2=22.2; en=-0.954, n=14), (l_3=0.0, S=25.0; ; en=-0.899, n=0.0)\n",
      "lambda=0.89, t=8\n",
      "(l_1=2.3, S1=2.8; en=-0.729, n=3), (l_2=1.4, S2=22.2; en=-0.989, n=16), (l_3=0.0, S=25.0; ; en=-0.899, n=0.0)\n",
      "lambda=0.89, t=9\n",
      "(l_1=1.6, S1=2.8; en=-0.644, n=2), (l_2=1.6, S2=22.2; en=-0.989, n=17), (l_3=0.0, S=25.0; ; en=-0.899, n=0.3)\n",
      "lambda=0.89, t=10\n",
      "(l_1=0.9, S1=2.8; en=-0.587, n=1), (l_2=0.9, S2=22.2; en=-0.918, n=9), (l_3=0.8, S=25.0; ; en=-0.899, n=10.1)\n",
      "lambda=0.89, t=11\n",
      "(l_1=0.2, S1=2.8; en=-0.587, n=0), (l_2=0.2, S2=22.2; en=-0.918, n=1), (l_3=1.6, S=25.0; ; en=-0.973, n=20.0)\n"
     ]
    }
   ],
   "source": [
    "tot_ens = []\n",
    "ll1=[]\n",
    "ll2 = []\n",
    "ll3 = []\n",
    "for  lbd_ in lambdas:\n",
    "    l0 = alpha/(1-lbd_)\n",
    "    S1 = S*(1-lbd_)\n",
    "    S2 = S*lbd_\n",
    "    t_crit  = l0*rho*S1*S2/(2*S1+S2)\n",
    "    l_crit = 2*l0*S1/(2*S1+S2)\n",
    "    T = int(l0*rho*S1)\n",
    "    print(20*'XXXX')\n",
    "    print('S=%3.2f, lambda=%3.2f, T=%i, t_crit=%i, S1=%3.1f, S2=%3.1f, l0=%3.1f'%(S, lbd_, T, t_crit, S1, S2, l0))\n",
    "    ens = []\n",
    "    for t in range(T+1):\n",
    "        print('lambda=%3.2f, t=%i' %(lbd_, t))\n",
    "#         print(20*'XXXX')\n",
    "\n",
    "        l_1 = l0 - t/(rho*S1)\n",
    "        \n",
    "        if t<t_crit:\n",
    "            l_2 = 2*t/rho/S2\n",
    "            l_3 = 0\n",
    "        else:\n",
    "            l_2 = l_crit - (t-t_crit)/rho/S1\n",
    "            l_3 = ((2+S2/S1)/rho/S)* (t-t_crit)\n",
    "            \n",
    "        i1_1 = np.abs(x_new-l_1).argmin()\n",
    "        i2_1 = np.abs(s_new-S1).argmin()\n",
    "        en1 = en_new[i1_1 ,i2_1]\n",
    "        \n",
    "        i1_2 = np.abs(x_new-l_2).argmin()\n",
    "        i2_2 = np.abs(s_new-S2).argmin()\n",
    "        en2 = en_new[i1_2 ,i2_2]\n",
    "        \n",
    "        i1_3 = np.abs(x_new-l_3).argmin()\n",
    "        i2_3 = np.abs(s_new-S).argmin()\n",
    "        en3 = en_new[i1_3 ,i2_3]\n",
    "        \n",
    "        print(\"(l_1=%3.1f, S1=%3.1f; en=%4.3f, n=%i), (l_2=%3.1f, S2=%3.1f; en=%4.3f, n=%i), (l_3=%3.1f, S=%3.1f; ; en=%4.3f, n=%3.1f)\"\n",
    "              %(l_1, S1, en1, rho*S1*l_1, l_2, S2, en2, rho*S2*l_2, l_3,S, en3, rho*S*l_3))\n",
    "        ens.append((en1*l_1*S1 + en2*l_2*S2 + en3*l_3*S)/(l_1*S1 + l_2*S2 + l_3*S))\n",
    "        ll1.append(l_1); ll2.append(l_2);ll3.append(l_3);\n",
    "    tot_ens.append((ens, lbd_))\n",
    "#     break"
   ]
  },
  {
   "cell_type": "code",
   "execution_count": 116,
   "id": "a8c55486",
   "metadata": {},
   "outputs": [
    {
     "data": {
      "image/png": "[encoded data removed]",
      "text/plain": [
       "<Figure size 1152x576 with 1 Axes>"
      ]
     },
     "metadata": {
      "needs_background": "light"
     },
     "output_type": "display_data"
    }
   ],
   "source": [
    "plt.figure(figsize=(16,8))\n",
    "for ens, l  in  tot_ens:\n",
    "    plt.plot(ens, label= '$\\lambda$='+'%3.2f'%l)\n",
    "\n",
    "# plt.plot(ll1, label='l1', color='red' , alpha = .5, linewidth=2)\n",
    "# plt.plot(ll2, label='l2', alpha = .5,  linewidth=5, linestyle='dashed')\n",
    "# plt.plot(ll3, label='l3', linestyle='-.')\n",
    "\n",
    "plt.legend()\n",
    "plt.grid()"
   ]
  },
  {
   "cell_type": "code",
   "execution_count": 230,
   "id": "7e94c387",
   "metadata": {},
   "outputs": [],
   "source": [
    "l0 = 8\n",
    "lambdas = np.arange(0.1, 0.6, 0.1)\n",
    "S=36\n",
    "rho=0.5"
   ]
  },
  {
   "cell_type": "code",
   "execution_count": 231,
   "id": "f15f6a5d",
   "metadata": {},
   "outputs": [
    {
     "name": "stdout",
     "output_type": "stream",
     "text": [
      "t_crit= 6.8, lambda=0.10, T=129.6 \n",
      "t= 0.0\n",
      "(l_1=8.0, S1=32.4; en=-1.380, n=129), (l_2=0.0, S2=3.6; en=-0.587, n=0), (l_3=0.0, S=36.0; ; en=-0.899, n=0.0)\n",
      "t= 6.821052631578939\n",
      "(l_1=7.6, S1=32.4; en=-1.368, n=122), (l_2=7.6, S2=3.6; en=-0.780, n=13), (l_3=0.0, S=36.0; ; en=-0.899, n=0.0)\n",
      "t= 13.642105263157893\n",
      "(l_1=7.2, S1=32.4; en=-1.362, n=115), (l_2=7.2, S2=3.6; en=-0.780, n=12), (l_3=0.8, S=36.0; ; en=-0.899, n=14.4)\n",
      "t= 20.46315789473685\n",
      "(l_1=6.7, S1=32.4; en=-1.350, n=109), (l_2=6.7, S2=3.6; en=-0.781, n=12), (l_3=1.6, S=36.0; ; en=-1.012, n=28.8)\n",
      "t= 27.284210526315785\n",
      "(l_1=6.3, S1=32.4; en=-1.338, n=102), (l_2=6.3, S2=3.6; en=-0.782, n=11), (l_3=2.4, S=36.0; ; en=-1.180, n=43.2)\n",
      "t= 34.105263157894726\n",
      "(l_1=5.9, S1=32.4; en=-1.325, n=95), (l_2=5.9, S2=3.6; en=-0.782, n=10), (l_3=3.2, S=36.0; ; en=-1.230, n=57.6)\n",
      "t= 40.92631578947368\n",
      "(l_1=5.5, S1=32.4; en=-1.319, n=88), (l_2=5.5, S2=3.6; en=-0.783, n=9), (l_3=4.0, S=36.0; ; en=-1.271, n=72.0)\n",
      "t= 47.747368421052634\n",
      "(l_1=5.1, S1=32.4; en=-1.305, n=81), (l_2=5.1, S2=3.6; en=-0.780, n=9), (l_3=4.8, S=36.0; ; en=-1.306, n=86.4)\n",
      "t= 54.56842105263157\n",
      "(l_1=4.6, S1=32.4; en=-1.290, n=75), (l_2=4.6, S2=3.6; en=-0.777, n=8), (l_3=5.6, S=36.0; ; en=-1.332, n=100.8)\n",
      "t= 61.389473684210515\n",
      "(l_1=4.2, S1=32.4; en=-1.275, n=68), (l_2=4.2, S2=3.6; en=-0.774, n=7), (l_3=6.4, S=36.0; ; en=-1.354, n=115.2)\n",
      "t= 68.21052631578947\n",
      "(l_1=3.8, S1=32.4; en=-1.267, n=61), (l_2=3.8, S2=3.6; en=-0.772, n=6), (l_3=7.2, S=36.0; ; en=-1.382, n=129.6)\n",
      "t= 75.03157894736842\n",
      "(l_1=3.4, S1=32.4; en=-1.246, n=54), (l_2=3.4, S2=3.6; en=-0.772, n=6), (l_3=8.0, S=36.0; ; en=-1.404, n=144.0)\n",
      "t= 81.85263157894737\n",
      "(l_1=2.9, S1=32.4; en=-1.215, n=47), (l_2=2.9, S2=3.6; en=-0.776, n=5), (l_3=8.8, S=36.0; ; en=-1.404, n=158.4)\n",
      "t= 88.6736842105263\n",
      "(l_1=2.5, S1=32.4; en=-1.185, n=40), (l_2=2.5, S2=3.6; en=-0.780, n=4), (l_3=9.6, S=36.0; ; en=-1.404, n=172.8)\n",
      "t= 95.49473684210525\n",
      "(l_1=2.1, S1=32.4; en=-1.170, n=34), (l_2=2.1, S2=3.6; en=-0.782, n=3), (l_3=10.4, S=36.0; ; en=-1.404, n=187.2)\n",
      "t= 102.3157894736842\n",
      "(l_1=1.7, S1=32.4; en=-1.078, n=27), (l_2=1.7, S2=3.6; en=-0.717, n=3), (l_3=11.2, S=36.0; ; en=-1.404, n=201.6)\n",
      "t= 109.13684210526314\n",
      "(l_1=1.3, S1=32.4; en=-0.968, n=20), (l_2=1.3, S2=3.6; en=-0.631, n=2), (l_3=12.0, S=36.0; ; en=-1.404, n=216.0)\n",
      "t= 115.95789473684209\n",
      "(l_1=0.8, S1=32.4; en=-0.913, n=13), (l_2=0.8, S2=3.6; en=-0.587, n=1), (l_3=12.8, S=36.0; ; en=-1.404, n=230.4)\n",
      "t= 122.77894736842104\n",
      "(l_1=0.4, S1=32.4; en=-0.913, n=6), (l_2=0.4, S2=3.6; en=-0.587, n=0), (l_3=13.6, S=36.0; ; en=-1.404, n=244.8)\n",
      "t= 129.6\n",
      "(l_1=0.0, S1=32.4; en=-0.913, n=0), (l_2=0.0, S2=3.6; en=-0.587, n=0), (l_3=14.4, S=36.0; ; en=-1.404, n=259.2)\n",
      "t_crit=12.8, lambda=0.20, T=115.2 \n",
      "t= 0.0\n",
      "(l_1=8.0, S1=28.8; en=-1.361, n=115), (l_2=0.0, S2=7.2; en=-0.729, n=0), (l_3=0.0, S=36.0; ; en=-0.899, n=0.0)\n",
      "t= 6.063157894736835\n",
      "(l_1=7.6, S1=28.8; en=-1.351, n=109), (l_2=3.4, S2=7.2; en=-1.001, n=12), (l_3=0.0, S=36.0; ; en=-0.899, n=0.0)\n",
      "t= 12.126315789473685\n",
      "(l_1=7.2, S1=28.8; en=-1.345, n=103), (l_2=6.7, S2=7.2; en=-1.035, n=24), (l_3=0.0, S=36.0; ; en=-0.899, n=0.0)\n",
      "t= 18.189473684210533\n",
      "(l_1=6.7, S1=28.8; en=-1.335, n=97), (l_2=6.7, S2=7.2; en=-1.035, n=24), (l_3=0.7, S=36.0; ; en=-0.899, n=12.1)\n",
      "t= 24.25263157894737\n",
      "(l_1=6.3, S1=28.8; en=-1.324, n=90), (l_2=6.3, S2=7.2; en=-1.033, n=22), (l_3=1.4, S=36.0; ; en=-1.012, n=25.8)\n",
      "t= 30.3157894736842\n",
      "(l_1=5.9, S1=28.8; en=-1.313, n=84), (l_2=5.9, S2=7.2; en=-1.031, n=21), (l_3=2.2, S=36.0; ; en=-1.163, n=39.4)\n",
      "t= 36.37894736842105\n",
      "(l_1=5.5, S1=28.8; en=-1.308, n=78), (l_2=5.5, S2=7.2; en=-1.030, n=19), (l_3=2.9, S=36.0; ; en=-1.213, n=53.1)\n",
      "t= 42.4421052631579\n",
      "(l_1=5.1, S1=28.8; en=-1.295, n=72), (l_2=5.1, S2=7.2; en=-1.025, n=18), (l_3=3.7, S=36.0; ; en=-1.262, n=66.7)\n",
      "t= 48.50526315789474\n",
      "(l_1=4.6, S1=28.8; en=-1.282, n=66), (l_2=4.6, S2=7.2; en=-1.020, n=16), (l_3=4.5, S=36.0; ; en=-1.288, n=80.3)\n",
      "t= 54.56842105263157\n",
      "(l_1=4.2, S1=28.8; en=-1.269, n=60), (l_2=4.2, S2=7.2; en=-1.015, n=15), (l_3=5.2, S=36.0; ; en=-1.315, n=94.0)\n",
      "t= 60.63157894736842\n",
      "(l_1=3.8, S1=28.8; en=-1.262, n=54), (l_2=3.8, S2=7.2; en=-1.013, n=13), (l_3=6.0, S=36.0; ; en=-1.346, n=107.6)\n",
      "t= 66.69473684210527\n",
      "(l_1=3.4, S1=28.8; en=-1.243, n=48), (l_2=3.4, S2=7.2; en=-1.001, n=12), (l_3=6.7, S=36.0; ; en=-1.368, n=121.3)\n",
      "t= 72.7578947368421\n",
      "(l_1=2.9, S1=28.8; en=-1.215, n=42), (l_2=2.9, S2=7.2; en=-0.980, n=10), (l_3=7.5, S=36.0; ; en=-1.389, n=134.9)\n",
      "t= 78.82105263157894\n",
      "(l_1=2.5, S1=28.8; en=-1.188, n=36), (l_2=2.5, S2=7.2; en=-0.960, n=9), (l_3=8.3, S=36.0; ; en=-1.404, n=148.5)\n",
      "t= 84.88421052631578\n",
      "(l_1=2.1, S1=28.8; en=-1.174, n=30), (l_2=2.1, S2=7.2; en=-0.949, n=7), (l_3=9.0, S=36.0; ; en=-1.404, n=162.2)\n",
      "t= 90.94736842105263\n",
      "(l_1=1.7, S1=28.8; en=-1.089, n=24), (l_2=1.7, S2=7.2; en=-0.872, n=6), (l_3=9.8, S=36.0; ; en=-1.404, n=175.8)\n",
      "t= 97.01052631578948\n",
      "(l_1=1.3, S1=28.8; en=-0.988, n=18), (l_2=1.3, S2=7.2; en=-0.776, n=4), (l_3=10.5, S=36.0; ; en=-1.404, n=189.5)\n",
      "t= 103.07368421052631\n",
      "(l_1=0.8, S1=28.8; en=-0.937, n=12), (l_2=0.8, S2=7.2; en=-0.729, n=3), (l_3=11.3, S=36.0; ; en=-1.404, n=203.1)\n",
      "t= 109.13684210526316\n",
      "(l_1=0.4, S1=28.8; en=-0.937, n=6), (l_2=0.4, S2=7.2; en=-0.729, n=1), (l_3=12.0, S=36.0; ; en=-1.404, n=216.8)\n",
      "t= 115.2\n",
      "(l_1=0.0, S1=28.8; en=-0.937, n=0), (l_2=0.0, S2=7.2; en=-0.729, n=0), (l_3=12.8, S=36.0; ; en=-1.404, n=230.4)\n",
      "t_crit=17.8, lambda=0.30, T=100.8 \n",
      "t= 0.0\n",
      "(l_1=8.0, S1=25.2; en=-1.339, n=100), (l_2=0.0, S2=10.8; en=-0.844, n=0), (l_3=0.0, S=36.0; ; en=-0.899, n=0.0)\n",
      "t= 5.305263157894731\n",
      "(l_1=7.6, S1=25.2; en=-1.329, n=95), (l_2=2.0, S2=10.8; en=-1.014, n=10), (l_3=0.0, S=36.0; ; en=-0.899, n=0.0)\n",
      "t= 10.610526315789473\n",
      "(l_1=7.2, S1=25.2; en=-1.325, n=90), (l_2=3.9, S2=10.8; en=-1.145, n=21), (l_3=0.0, S=36.0; ; en=-0.899, n=0.0)\n",
      "t= 15.915789473684216\n",
      "(l_1=6.7, S1=25.2; en=-1.315, n=84), (l_2=5.9, S2=10.8; en=-1.172, n=31), (l_3=0.0, S=36.0; ; en=-0.899, n=0.0)\n",
      "t= 21.221052631578946\n",
      "(l_1=6.3, S1=25.2; en=-1.306, n=79), (l_2=6.3, S2=10.8; en=-1.175, n=34), (l_3=0.5, S=36.0; ; en=-0.899, n=8.3)\n",
      "t= 26.526315789473678\n",
      "(l_1=5.9, S1=25.2; en=-1.297, n=74), (l_2=5.9, S2=10.8; en=-1.172, n=31), (l_3=1.2, S=36.0; ; en=-0.956, n=21.2)\n",
      "t= 31.831578947368417\n",
      "(l_1=5.5, S1=25.2; en=-1.292, n=68), (l_2=5.5, S2=10.8; en=-1.170, n=29), (l_3=1.9, S=36.0; ; en=-1.126, n=34.1)\n",
      "t= 37.13684210526316\n",
      "(l_1=5.1, S1=25.2; en=-1.282, n=63), (l_2=5.1, S2=10.8; en=-1.163, n=27), (l_3=2.6, S=36.0; ; en=-1.197, n=47.0)\n",
      "t= 42.44210526315789\n",
      "(l_1=4.6, S1=25.2; en=-1.271, n=58), (l_2=4.6, S2=10.8; en=-1.156, n=25), (l_3=3.3, S=36.0; ; en=-1.246, n=59.9)\n",
      "t= 47.74736842105262\n",
      "(l_1=4.2, S1=25.2; en=-1.261, n=53), (l_2=4.2, S2=10.8; en=-1.149, n=22), (l_3=4.0, S=36.0; ; en=-1.280, n=72.8)\n",
      "t= 53.05263157894736\n",
      "(l_1=3.8, S1=25.2; en=-1.256, n=47), (l_2=3.8, S2=10.8; en=-1.145, n=20), (l_3=4.8, S=36.0; ; en=-1.306, n=85.6)\n",
      "t= 58.357894736842105\n",
      "(l_1=3.4, S1=25.2; en=-1.239, n=42), (l_2=3.4, S2=10.8; en=-1.127, n=18), (l_3=5.5, S=36.0; ; en=-1.332, n=98.5)\n",
      "t= 63.663157894736834\n",
      "(l_1=2.9, S1=25.2; en=-1.213, n=37), (l_2=2.9, S2=10.8; en=-1.094, n=15), (l_3=6.2, S=36.0; ; en=-1.346, n=111.4)\n",
      "t= 68.96842105263157\n",
      "(l_1=2.5, S1=25.2; en=-1.188, n=31), (l_2=2.5, S2=10.8; en=-1.061, n=13), (l_3=6.9, S=36.0; ; en=-1.368, n=124.3)\n",
      "t= 74.27368421052631\n",
      "(l_1=2.1, S1=25.2; en=-1.175, n=26), (l_2=2.1, S2=10.8; en=-1.044, n=11), (l_3=7.6, S=36.0; ; en=-1.389, n=137.2)\n",
      "t= 79.57894736842105\n",
      "(l_1=1.7, S1=25.2; en=-1.098, n=21), (l_2=1.7, S2=10.8; en=-0.971, n=9), (l_3=8.3, S=36.0; ; en=-1.404, n=150.1)\n",
      "t= 84.88421052631578\n",
      "(l_1=1.3, S1=25.2; en=-1.004, n=15), (l_2=1.3, S2=10.8; en=-0.886, n=6), (l_3=9.1, S=36.0; ; en=-1.404, n=162.9)\n",
      "t= 90.18947368421051\n",
      "(l_1=0.8, S1=25.2; en=-0.958, n=10), (l_2=0.8, S2=10.8; en=-0.844, n=4), (l_3=9.8, S=36.0; ; en=-1.404, n=175.8)\n",
      "t= 95.49473684210525\n",
      "(l_1=0.4, S1=25.2; en=-0.958, n=5), (l_2=0.4, S2=10.8; en=-0.844, n=2), (l_3=10.5, S=36.0; ; en=-1.404, n=188.7)\n",
      "t= 100.8\n",
      "(l_1=0.0, S1=25.2; en=-0.958, n=0), (l_2=0.0, S2=10.8; en=-0.844, n=0), (l_3=11.2, S=36.0; ; en=-1.404, n=201.6)\n",
      "t_crit=21.6, lambda=0.40, T=86.4 \n",
      "t= 0.0\n",
      "(l_1=8.0, S1=21.6; en=-1.310, n=86), (l_2=0.0, S2=14.4; en=-0.933, n=0), (l_3=0.0, S=36.0; ; en=-0.899, n=0.0)\n",
      "t= 4.547368421052626\n",
      "(l_1=7.6, S1=21.6; en=-1.302, n=81), (l_2=1.3, S2=14.4; en=-0.967, n=9), (l_3=0.0, S=36.0; ; en=-0.899, n=0.0)\n",
      "t= 9.094736842105261\n",
      "(l_1=7.2, S1=21.6; en=-1.299, n=77), (l_2=2.5, S2=14.4; en=-1.112, n=18), (l_3=0.0, S=36.0; ; en=-0.899, n=0.0)\n",
      "t= 13.642105263157898\n",
      "(l_1=6.7, S1=21.6; en=-1.291, n=72), (l_2=3.8, S2=14.4; en=-1.198, n=27), (l_3=0.0, S=36.0; ; en=-0.899, n=0.0)\n",
      "t= 18.189473684210522\n",
      "(l_1=6.3, S1=21.6; en=-1.284, n=68), (l_2=5.1, S2=14.4; en=-1.224, n=36), (l_3=0.0, S=36.0; ; en=-0.899, n=0.0)\n",
      "t= 22.73684210526315\n",
      "(l_1=5.9, S1=21.6; en=-1.277, n=63), (l_2=5.9, S2=14.4; en=-1.236, n=42), (l_3=0.2, S=36.0; ; en=-0.899, n=3.0)\n",
      "t= 27.284210526315785\n",
      "(l_1=5.5, S1=21.6; en=-1.273, n=59), (l_2=5.5, S2=14.4; en=-1.235, n=39), (l_3=0.8, S=36.0; ; en=-0.899, n=15.2)\n",
      "t= 31.83157894736842\n",
      "(l_1=5.1, S1=21.6; en=-1.265, n=54), (l_2=5.1, S2=14.4; en=-1.224, n=36), (l_3=1.5, S=36.0; ; en=-1.012, n=27.3)\n",
      "t= 36.378947368421045\n",
      "(l_1=4.6, S1=21.6; en=-1.256, n=50), (l_2=4.6, S2=14.4; en=-1.214, n=33), (l_3=2.2, S=36.0; ; en=-1.163, n=39.4)\n",
      "t= 40.926315789473676\n",
      "(l_1=4.2, S1=21.6; en=-1.248, n=45), (l_2=4.2, S2=14.4; en=-1.203, n=30), (l_3=2.9, S=36.0; ; en=-1.213, n=51.5)\n",
      "t= 45.47368421052631\n",
      "(l_1=3.8, S1=21.6; en=-1.244, n=40), (l_2=3.8, S2=14.4; en=-1.198, n=27), (l_3=3.5, S=36.0; ; en=-1.262, n=63.7)\n",
      "t= 50.02105263157895\n",
      "(l_1=3.4, S1=21.6; en=-1.229, n=36), (l_2=3.4, S2=14.4; en=-1.177, n=24), (l_3=4.2, S=36.0; ; en=-1.280, n=75.8)\n",
      "t= 54.56842105263157\n",
      "(l_1=2.9, S1=21.6; en=-1.207, n=31), (l_2=2.9, S2=14.4; en=-1.145, n=21), (l_3=4.9, S=36.0; ; en=-1.306, n=87.9)\n",
      "t= 59.115789473684195\n",
      "(l_1=2.5, S1=21.6; en=-1.184, n=27), (l_2=2.5, S2=14.4; en=-1.112, n=18), (l_3=5.6, S=36.0; ; en=-1.332, n=100.0)\n",
      "t= 63.663157894736834\n",
      "(l_1=2.1, S1=21.6; en=-1.173, n=22), (l_2=2.1, S2=14.4; en=-1.095, n=15), (l_3=6.2, S=36.0; ; en=-1.354, n=112.2)\n",
      "t= 68.21052631578947\n",
      "(l_1=1.7, S1=21.6; en=-1.104, n=18), (l_2=1.7, S2=14.4; en=-1.035, n=12), (l_3=6.9, S=36.0; ; en=-1.368, n=124.3)\n",
      "t= 72.75789473684209\n",
      "(l_1=1.3, S1=21.6; en=-1.021, n=13), (l_2=1.3, S2=14.4; en=-0.967, n=9), (l_3=7.6, S=36.0; ; en=-1.389, n=136.4)\n",
      "t= 77.30526315789471\n",
      "(l_1=0.8, S1=21.6; en=-0.979, n=9), (l_2=0.8, S2=14.4; en=-0.933, n=6), (l_3=8.3, S=36.0; ; en=-1.404, n=148.5)\n",
      "t= 81.85263157894735\n",
      "(l_1=0.4, S1=21.6; en=-0.979, n=4), (l_2=0.4, S2=14.4; en=-0.933, n=3), (l_3=8.9, S=36.0; ; en=-1.404, n=160.7)\n",
      "t= 86.39999999999999\n",
      "(l_1=0.0, S1=21.6; en=-0.979, n=0), (l_2=0.0, S2=14.4; en=-0.933, n=0), (l_3=9.6, S=36.0; ; en=-1.404, n=172.8)\n",
      "t_crit=24.0, lambda=0.50, T=72.0 \n",
      "t= 0.0\n",
      "(l_1=8.0, S1=18.0; en=-1.293, n=72), (l_2=0.0, S2=18.0; en=-0.996, n=0), (l_3=0.0, S=36.0; ; en=-0.899, n=0.0)\n",
      "t= 3.789473684210522\n",
      "(l_1=7.6, S1=18.0; en=-1.288, n=68), (l_2=0.8, S2=18.0; en=-0.996, n=7), (l_3=0.0, S=36.0; ; en=-0.899, n=0.0)\n",
      "t= 7.578947368421052\n",
      "(l_1=7.2, S1=18.0; en=-1.286, n=64), (l_2=1.7, S2=18.0; en=-1.104, n=15), (l_3=0.0, S=36.0; ; en=-0.899, n=0.0)\n",
      "t= 11.368421052631582\n",
      "(l_1=6.7, S1=18.0; en=-1.281, n=60), (l_2=2.5, S2=18.0; en=-1.169, n=22), (l_3=0.0, S=36.0; ; en=-0.899, n=0.0)\n",
      "t= 15.157894736842104\n",
      "(l_1=6.3, S1=18.0; en=-1.276, n=56), (l_2=3.4, S2=18.0; en=-1.198, n=30), (l_3=0.0, S=36.0; ; en=-0.899, n=0.0)\n",
      "t= 18.947368421052627\n",
      "(l_1=5.9, S1=18.0; en=-1.271, n=53), (l_2=4.2, S2=18.0; en=-1.221, n=37), (l_3=0.0, S=36.0; ; en=-0.899, n=0.0)\n",
      "t= 22.736842105263158\n",
      "(l_1=5.5, S1=18.0; en=-1.268, n=49), (l_2=5.1, S2=18.0; en=-1.253, n=45), (l_3=0.0, S=36.0; ; en=-0.899, n=0.0)\n",
      "t= 26.526315789473685\n",
      "(l_1=5.1, S1=18.0; en=-1.253, n=45), (l_2=5.1, S2=18.0; en=-1.253, n=45), (l_3=0.4, S=36.0; ; en=-0.899, n=7.6)\n",
      "t= 30.31578947368421\n",
      "(l_1=4.6, S1=18.0; en=-1.237, n=41), (l_2=4.6, S2=18.0; en=-1.237, n=41), (l_3=1.1, S=36.0; ; en=-0.899, n=18.9)\n",
      "t= 34.10526315789473\n",
      "(l_1=4.2, S1=18.0; en=-1.221, n=37), (l_2=4.2, S2=18.0; en=-1.221, n=37), (l_3=1.7, S=36.0; ; en=-1.069, n=30.3)\n",
      "t= 37.89473684210526\n",
      "(l_1=3.8, S1=18.0; en=-1.213, n=34), (l_2=3.8, S2=18.0; en=-1.213, n=34), (l_3=2.3, S=36.0; ; en=-1.163, n=41.7)\n",
      "t= 41.684210526315795\n",
      "(l_1=3.4, S1=18.0; en=-1.198, n=30), (l_2=3.4, S2=18.0; en=-1.198, n=30), (l_3=2.9, S=36.0; ; en=-1.213, n=53.1)\n",
      "t= 45.473684210526315\n",
      "(l_1=2.9, S1=18.0; en=-1.184, n=26), (l_2=2.9, S2=18.0; en=-1.184, n=26), (l_3=3.6, S=36.0; ; en=-1.262, n=64.4)\n",
      "t= 49.263157894736835\n",
      "(l_1=2.5, S1=18.0; en=-1.169, n=22), (l_2=2.5, S2=18.0; en=-1.169, n=22), (l_3=4.2, S=36.0; ; en=-1.280, n=75.8)\n",
      "t= 53.05263157894736\n",
      "(l_1=2.1, S1=18.0; en=-1.162, n=18), (l_2=2.1, S2=18.0; en=-1.162, n=18), (l_3=4.8, S=36.0; ; en=-1.306, n=87.2)\n",
      "t= 56.8421052631579\n",
      "(l_1=1.7, S1=18.0; en=-1.104, n=15), (l_2=1.7, S2=18.0; en=-1.104, n=15), (l_3=5.5, S=36.0; ; en=-1.332, n=98.5)\n",
      "t= 60.63157894736842\n",
      "(l_1=1.3, S1=18.0; en=-1.032, n=11), (l_2=1.3, S2=18.0; en=-1.032, n=11), (l_3=6.1, S=36.0; ; en=-1.346, n=109.9)\n",
      "t= 64.42105263157895\n",
      "(l_1=0.8, S1=18.0; en=-0.996, n=7), (l_2=0.8, S2=18.0; en=-0.996, n=7), (l_3=6.7, S=36.0; ; en=-1.368, n=121.3)\n",
      "t= 68.21052631578947\n",
      "(l_1=0.4, S1=18.0; en=-0.996, n=3), (l_2=0.4, S2=18.0; en=-0.996, n=3), (l_3=7.4, S=36.0; ; en=-1.382, n=132.6)\n",
      "t= 72.0\n",
      "(l_1=0.0, S1=18.0; en=-0.996, n=0), (l_2=0.0, S2=18.0; en=-0.996, n=0), (l_3=8.0, S=36.0; ; en=-1.404, n=144.0)\n"
     ]
    }
   ],
   "source": [
    "tot_ens = []\n",
    "for lbd_ in lambdas:\n",
    "    S1 = S*(1-lbd_)\n",
    "    S2 = S*lbd_\n",
    "    t_crit  = l0*rho*S1*S2/(2*S1+S2)\n",
    "    l_crit = 2*l0*S1/(2*S1+S2)\n",
    "    print('t_crit=%4.1f, lambda=%4.2f, T=%4.1f '%(t_crit, lbd_, l0*rho*S1))\n",
    "    ens=[]\n",
    "    for l1 in np.linspace(l0, 0,  20):\n",
    "        t = (l0-l1)*rho*S1\n",
    "        print('t=', t)\n",
    "        if t<= t_crit:\n",
    "            l2 = 2*t/rho/S2\n",
    "            l3 = 0\n",
    "        else:\n",
    "            l2 =  l_crit - (t-t_crit)/rho/S1\n",
    "            l3 = (2+S2/S1)*(t-t_crit)/rho/S\n",
    "\n",
    "        i1_1 = np.abs(x_new-l1).argmin()\n",
    "        i2_1 = np.abs(s_new-S1).argmin()\n",
    "        en1 = en_new[i1_1 ,i2_1]\n",
    "        \n",
    "        i1_2 = np.abs(x_new-l2).argmin()\n",
    "        i2_2 = np.abs(s_new-S2).argmin()\n",
    "        en2 = en_new[i1_2 ,i2_2]\n",
    "        \n",
    "        i1_3 = np.abs(x_new-l3).argmin()\n",
    "        i2_3 = np.abs(s_new-S).argmin()\n",
    "        en3 = en_new[i1_3 ,i2_3]\n",
    "        \n",
    "        print(\"(l_1=%3.1f, S1=%3.1f; en=%4.3f, n=%i), (l_2=%3.1f, S2=%3.1f; en=%4.3f, n=%i), (l_3=%3.1f, S=%3.1f; ; en=%4.3f, n=%3.1f)\"\n",
    "              %(l1, S1, en1, rho*S1*l1, l2, S2, en2, rho*S2*l2, l3,S, en3, rho*S*l3))\n",
    "        ens.append((en1*l1*S1 + en2*l2*S2 + en3*l3*S)/(l1*S1 + l2*S2 + l3*S))\n",
    "\n",
    "    tot_ens.append((ens, lbd_))\n"
   ]
  },
  {
   "cell_type": "code",
   "execution_count": 232,
   "id": "15ad9fd8",
   "metadata": {},
   "outputs": [
    {
     "data": {
      "text/plain": [
       "<matplotlib.legend.Legend at 0x1350c7520>"
      ]
     },
     "execution_count": 232,
     "metadata": {},
     "output_type": "execute_result"
    },
    {
     "data": {
      "image/png": "[encoded data removed]",
      "text/plain": [
       "<Figure size 1152x576 with 1 Axes>"
      ]
     },
     "metadata": {
      "needs_background": "light"
     },
     "output_type": "display_data"
    }
   ],
   "source": [
    "plt.figure(figsize=(16,8))\n",
    "for ens, l  in  tot_ens:\n",
    "    plt.plot(ens, label= '$\\lambda$='+'%3.2f'%l)\n",
    "\n",
    "plt.grid()\n",
    "plt.legend()"
   ]
  },
  {
   "cell_type": "code",
   "execution_count": null,
   "id": "9a71f48a",
   "metadata": {},
   "outputs": [],
   "source": []
  },
  {
   "cell_type": "code",
   "execution_count": 113,
   "id": "8d8d4841",
   "metadata": {},
   "outputs": [
    {
     "name": "stdout",
     "output_type": "stream",
     "text": [
      "[2.0, 1.5, 0.5, 3.0, 3.0, 3.0, 2.4, 2.4, 4.0]\n"
     ]
    },
    {
     "data": {
      "application/vnd.jupyter.widget-view+json": {
       "model_id": "1df0f0ab8c3c465bba28cfe80b992bf8",
       "version_major": 2,
       "version_minor": 0
      },
      "text/plain": [
       "VBox(children=(Figure(camera=PerspectiveCamera(fov=46.0, position=(0.0, 0.0, 2.0), projectionMatrix=(1.0, 0.0,…"
      ]
     },
     "metadata": {},
     "output_type": "display_data"
    }
   ],
   "source": [
    "import numpy as np\n",
    "from scipy.optimize import curve_fit\n",
    "from mpl_toolkits.mplot3d import Axes3D\n",
    "import matplotlib.pyplot as plt\n",
    "\n",
    "\n",
    "# test function\n",
    "def function(data, a, b, c):\n",
    "    x = data[0]\n",
    "    y = data[1]\n",
    "    return a * (x**b) * (y**c)\n",
    "\n",
    "# setup test data\n",
    "raw_data = [[2.0, 2.0, 2.0], [1.5, 1.5, 1.5], [0.5, 0.5, 0.5],[3.0, 2.0, 1.0], [3.0, 2.0, 1.0],\\\n",
    "       [3.0, 2.0, 1.0], [2.4, 2.5, 2.2], [2.4, 3.0, 2.5], [4.0, 3.3, 8.0]]\n",
    "\n",
    "# convert data into proper format\n",
    "x_data = []\n",
    "y_data = []\n",
    "z_data = []\n",
    "for item in raw_data:\n",
    "    x_data.append(item[0])\n",
    "    y_data.append(item[1])\n",
    "    z_data.append(item[2])\n",
    "print(x_data)\n",
    "\n",
    "# get fit parameters from scipy curve fit\n",
    "parameters, covariance = curve_fit(function, [x_data, y_data], z_data)\n",
    "\n",
    "# create surface function model\n",
    "# setup data points for calculating surface model\n",
    "model_x_data = np.linspace(min(x_data), max(x_data), 30)\n",
    "model_y_data = np.linspace(min(y_data), max(y_data), 30)\n",
    "# create coordinate arrays for vectorized evaluations\n",
    "X, Y = np.meshgrid(model_x_data, model_y_data)\n",
    "# calculate Z coordinate array\n",
    "Z = function(np.array([X, Y]), *parameters)\n",
    "\n",
    "# setup figure object\n",
    "# fig = plt.figure()\n",
    "# # setup 3d object\n",
    "# ax = Axes3D(fig)\n",
    "# # plot surface\n",
    "# ax.plot_surface(X, Y, Z)\n",
    "# # plot input data\n",
    "# ax.scatter(x_data, y_data, z_data, color='red')\n",
    "# # set plot descriptions\n",
    "# ax.set_xlabel('X data')\n",
    "# ax.set_ylabel('Y data')\n",
    "# ax.set_zlabel('Z data')\n",
    "ipv.figure()\n",
    "# plt.show()\n",
    "ipv.plot_surface(X, Y,Z, color=\"orange\")\n",
    "ipv.scatter(np.array(x_data), np.array(y_data), np.array(z_data))\n",
    "ipv.show()\n"
   ]
  },
  {
   "cell_type": "code",
   "execution_count": null,
   "id": "0cc10e63",
   "metadata": {},
   "outputs": [],
   "source": []
  },
  {
   "cell_type": "code",
   "execution_count": null,
   "id": "a80221db",
   "metadata": {},
   "outputs": [],
   "source": []
  }
 ],
 "metadata": {
  "kernelspec": {
   "display_name": "Python 3 (ipykernel)",
   "language": "python",
   "name": "python3"
  },
  "language_info": {
   "codemirror_mode": {
    "name": "ipython",
    "version": 3
   },
   "file_extension": ".py",
   "mimetype": "text/x-python",
   "name": "python",
   "nbconvert_exporter": "python",
   "pygments_lexer": "ipython3",
   "version": "3.9.10"
  }
 },
 "nbformat": 4,
 "nbformat_minor": 5
}
